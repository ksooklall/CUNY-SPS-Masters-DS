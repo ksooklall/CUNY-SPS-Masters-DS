{
 "cells": [
  {
   "cell_type": "code",
   "execution_count": 155,
   "id": "5a549084",
   "metadata": {},
   "outputs": [],
   "source": [
    "import pandas as pd\n",
    "import numpy as np\n",
    "import matplotlib.pyplot as plt\n",
    "import seaborn as sns; sns.set()\n",
    "\n",
    "from mlxtend.preprocessing import TransactionEncoder\n",
    "from mlxtend.frequent_patterns import apriori, association_rules, fpgrowth"
   ]
  },
  {
   "cell_type": "markdown",
   "id": "b1861881",
   "metadata": {},
   "source": [
    "## Exploratory Data Analysis"
   ]
  },
  {
   "cell_type": "markdown",
   "id": "fa54f6b2",
   "metadata": {},
   "source": [
    "The GroceryDataSet is a list of transcations make at a grocery store. The dataset comes from the University of California, Irvine, their machine learning dataset."
   ]
  },
  {
   "cell_type": "code",
   "execution_count": 149,
   "id": "bfa48f7d",
   "metadata": {},
   "outputs": [],
   "source": [
    "df = pd.read_csv('GroceryDataSet.csv', header=None).fillna(0)"
   ]
  },
  {
   "cell_type": "code",
   "execution_count": 150,
   "id": "1a318239",
   "metadata": {},
   "outputs": [
    {
     "data": {
      "text/plain": [
       "(9835, 32)"
      ]
     },
     "execution_count": 150,
     "metadata": {},
     "output_type": "execute_result"
    }
   ],
   "source": [
    "df.shape"
   ]
  },
  {
   "cell_type": "code",
   "execution_count": 151,
   "id": "516514bc",
   "metadata": {},
   "outputs": [
    {
     "data": {
      "text/html": [
       "<div>\n",
       "<style scoped>\n",
       "    .dataframe tbody tr th:only-of-type {\n",
       "        vertical-align: middle;\n",
       "    }\n",
       "\n",
       "    .dataframe tbody tr th {\n",
       "        vertical-align: top;\n",
       "    }\n",
       "\n",
       "    .dataframe thead th {\n",
       "        text-align: right;\n",
       "    }\n",
       "</style>\n",
       "<table border=\"1\" class=\"dataframe\">\n",
       "  <thead>\n",
       "    <tr style=\"text-align: right;\">\n",
       "      <th></th>\n",
       "      <th>0</th>\n",
       "      <th>1</th>\n",
       "      <th>2</th>\n",
       "      <th>3</th>\n",
       "      <th>4</th>\n",
       "      <th>5</th>\n",
       "      <th>6</th>\n",
       "      <th>7</th>\n",
       "      <th>8</th>\n",
       "      <th>9</th>\n",
       "      <th>...</th>\n",
       "      <th>22</th>\n",
       "      <th>23</th>\n",
       "      <th>24</th>\n",
       "      <th>25</th>\n",
       "      <th>26</th>\n",
       "      <th>27</th>\n",
       "      <th>28</th>\n",
       "      <th>29</th>\n",
       "      <th>30</th>\n",
       "      <th>31</th>\n",
       "    </tr>\n",
       "  </thead>\n",
       "  <tbody>\n",
       "    <tr>\n",
       "      <th>0</th>\n",
       "      <td>citrus fruit</td>\n",
       "      <td>semi-finished bread</td>\n",
       "      <td>margarine</td>\n",
       "      <td>ready soups</td>\n",
       "      <td>0</td>\n",
       "      <td>0</td>\n",
       "      <td>0</td>\n",
       "      <td>0</td>\n",
       "      <td>0</td>\n",
       "      <td>0</td>\n",
       "      <td>...</td>\n",
       "      <td>0</td>\n",
       "      <td>0</td>\n",
       "      <td>0</td>\n",
       "      <td>0</td>\n",
       "      <td>0</td>\n",
       "      <td>0</td>\n",
       "      <td>0</td>\n",
       "      <td>0</td>\n",
       "      <td>0</td>\n",
       "      <td>0</td>\n",
       "    </tr>\n",
       "    <tr>\n",
       "      <th>1</th>\n",
       "      <td>tropical fruit</td>\n",
       "      <td>yogurt</td>\n",
       "      <td>coffee</td>\n",
       "      <td>0</td>\n",
       "      <td>0</td>\n",
       "      <td>0</td>\n",
       "      <td>0</td>\n",
       "      <td>0</td>\n",
       "      <td>0</td>\n",
       "      <td>0</td>\n",
       "      <td>...</td>\n",
       "      <td>0</td>\n",
       "      <td>0</td>\n",
       "      <td>0</td>\n",
       "      <td>0</td>\n",
       "      <td>0</td>\n",
       "      <td>0</td>\n",
       "      <td>0</td>\n",
       "      <td>0</td>\n",
       "      <td>0</td>\n",
       "      <td>0</td>\n",
       "    </tr>\n",
       "    <tr>\n",
       "      <th>2</th>\n",
       "      <td>whole milk</td>\n",
       "      <td>0</td>\n",
       "      <td>0</td>\n",
       "      <td>0</td>\n",
       "      <td>0</td>\n",
       "      <td>0</td>\n",
       "      <td>0</td>\n",
       "      <td>0</td>\n",
       "      <td>0</td>\n",
       "      <td>0</td>\n",
       "      <td>...</td>\n",
       "      <td>0</td>\n",
       "      <td>0</td>\n",
       "      <td>0</td>\n",
       "      <td>0</td>\n",
       "      <td>0</td>\n",
       "      <td>0</td>\n",
       "      <td>0</td>\n",
       "      <td>0</td>\n",
       "      <td>0</td>\n",
       "      <td>0</td>\n",
       "    </tr>\n",
       "    <tr>\n",
       "      <th>3</th>\n",
       "      <td>pip fruit</td>\n",
       "      <td>yogurt</td>\n",
       "      <td>cream cheese</td>\n",
       "      <td>meat spreads</td>\n",
       "      <td>0</td>\n",
       "      <td>0</td>\n",
       "      <td>0</td>\n",
       "      <td>0</td>\n",
       "      <td>0</td>\n",
       "      <td>0</td>\n",
       "      <td>...</td>\n",
       "      <td>0</td>\n",
       "      <td>0</td>\n",
       "      <td>0</td>\n",
       "      <td>0</td>\n",
       "      <td>0</td>\n",
       "      <td>0</td>\n",
       "      <td>0</td>\n",
       "      <td>0</td>\n",
       "      <td>0</td>\n",
       "      <td>0</td>\n",
       "    </tr>\n",
       "    <tr>\n",
       "      <th>4</th>\n",
       "      <td>other vegetables</td>\n",
       "      <td>whole milk</td>\n",
       "      <td>condensed milk</td>\n",
       "      <td>long life bakery product</td>\n",
       "      <td>0</td>\n",
       "      <td>0</td>\n",
       "      <td>0</td>\n",
       "      <td>0</td>\n",
       "      <td>0</td>\n",
       "      <td>0</td>\n",
       "      <td>...</td>\n",
       "      <td>0</td>\n",
       "      <td>0</td>\n",
       "      <td>0</td>\n",
       "      <td>0</td>\n",
       "      <td>0</td>\n",
       "      <td>0</td>\n",
       "      <td>0</td>\n",
       "      <td>0</td>\n",
       "      <td>0</td>\n",
       "      <td>0</td>\n",
       "    </tr>\n",
       "  </tbody>\n",
       "</table>\n",
       "<p>5 rows × 32 columns</p>\n",
       "</div>"
      ],
      "text/plain": [
       "                 0                    1               2   \\\n",
       "0      citrus fruit  semi-finished bread       margarine   \n",
       "1    tropical fruit               yogurt          coffee   \n",
       "2        whole milk                    0               0   \n",
       "3         pip fruit               yogurt   cream cheese    \n",
       "4  other vegetables           whole milk  condensed milk   \n",
       "\n",
       "                         3  4  5  6  7  8  9   ... 22 23 24 25 26 27 28 29 30  \\\n",
       "0               ready soups  0  0  0  0  0  0  ...  0  0  0  0  0  0  0  0  0   \n",
       "1                         0  0  0  0  0  0  0  ...  0  0  0  0  0  0  0  0  0   \n",
       "2                         0  0  0  0  0  0  0  ...  0  0  0  0  0  0  0  0  0   \n",
       "3              meat spreads  0  0  0  0  0  0  ...  0  0  0  0  0  0  0  0  0   \n",
       "4  long life bakery product  0  0  0  0  0  0  ...  0  0  0  0  0  0  0  0  0   \n",
       "\n",
       "  31  \n",
       "0  0  \n",
       "1  0  \n",
       "2  0  \n",
       "3  0  \n",
       "4  0  \n",
       "\n",
       "[5 rows x 32 columns]"
      ]
     },
     "execution_count": 151,
     "metadata": {},
     "output_type": "execute_result"
    }
   ],
   "source": [
    "df.head()"
   ]
  },
  {
   "cell_type": "code",
   "execution_count": 174,
   "id": "961f558a",
   "metadata": {},
   "outputs": [
    {
     "data": {
      "text/plain": [
       "0.13779550076258262"
      ]
     },
     "execution_count": 174,
     "metadata": {},
     "output_type": "execute_result"
    }
   ],
   "source": [
    "df.ne(0).sum().sum() / (df.shape[0] * df.shape[1])"
   ]
  },
  {
   "cell_type": "markdown",
   "id": "59895fdb",
   "metadata": {},
   "source": [
    "When loading the data there was a lot of nan values which were filled with 0 to indicate there are no transcations past the last. The dataset contain 9835 market transcations which are mostly empty with only 13% of it's cells filled."
   ]
  },
  {
   "cell_type": "markdown",
   "id": "2392b5ee",
   "metadata": {},
   "source": [
    "### Data Preparation"
   ]
  },
  {
   "cell_type": "markdown",
   "id": "f51d94c4",
   "metadata": {},
   "source": [
    "To get a better understanding of the dataset, the data will be transformed so each row is a transcation and each column is an item where the values are True or False if the item was purchased or not"
   ]
  },
  {
   "cell_type": "markdown",
   "id": "8a42d948",
   "metadata": {},
   "source": [
    "![](data_prep.png)"
   ]
  },
  {
   "cell_type": "code",
   "execution_count": 131,
   "id": "9734f4d4",
   "metadata": {},
   "outputs": [],
   "source": [
    "all_items = df.apply(lambda x: [i for i in x if i != 0], axis=1).values.tolist()"
   ]
  },
  {
   "cell_type": "markdown",
   "id": "3b9ba85f",
   "metadata": {},
   "source": [
    "mlxtend TransactionEncoder class is used to transform the data"
   ]
  },
  {
   "cell_type": "code",
   "execution_count": 166,
   "id": "35259907",
   "metadata": {},
   "outputs": [],
   "source": [
    "trans_encoder = TransactionEncoder()\n",
    "trans_encoder_matrix = trans_encoder.fit(all_items).transform(all_items)\n",
    "tdf = pd.DataFrame(trans_encoder_matrix, columns=trans_encoder.columns_).astype(int)"
   ]
  },
  {
   "cell_type": "code",
   "execution_count": 178,
   "id": "a37ad59c",
   "metadata": {},
   "outputs": [
    {
     "data": {
      "text/html": [
       "<div>\n",
       "<style scoped>\n",
       "    .dataframe tbody tr th:only-of-type {\n",
       "        vertical-align: middle;\n",
       "    }\n",
       "\n",
       "    .dataframe tbody tr th {\n",
       "        vertical-align: top;\n",
       "    }\n",
       "\n",
       "    .dataframe thead th {\n",
       "        text-align: right;\n",
       "    }\n",
       "</style>\n",
       "<table border=\"1\" class=\"dataframe\">\n",
       "  <thead>\n",
       "    <tr style=\"text-align: right;\">\n",
       "      <th></th>\n",
       "      <th>citrus fruit</th>\n",
       "      <th>semi-finished bread</th>\n",
       "      <th>margarine</th>\n",
       "      <th>ready soups</th>\n",
       "    </tr>\n",
       "  </thead>\n",
       "  <tbody>\n",
       "    <tr>\n",
       "      <th>0</th>\n",
       "      <td>1</td>\n",
       "      <td>1</td>\n",
       "      <td>1</td>\n",
       "      <td>1</td>\n",
       "    </tr>\n",
       "    <tr>\n",
       "      <th>1</th>\n",
       "      <td>0</td>\n",
       "      <td>0</td>\n",
       "      <td>0</td>\n",
       "      <td>0</td>\n",
       "    </tr>\n",
       "    <tr>\n",
       "      <th>2</th>\n",
       "      <td>0</td>\n",
       "      <td>0</td>\n",
       "      <td>0</td>\n",
       "      <td>0</td>\n",
       "    </tr>\n",
       "    <tr>\n",
       "      <th>3</th>\n",
       "      <td>0</td>\n",
       "      <td>0</td>\n",
       "      <td>0</td>\n",
       "      <td>0</td>\n",
       "    </tr>\n",
       "    <tr>\n",
       "      <th>4</th>\n",
       "      <td>0</td>\n",
       "      <td>0</td>\n",
       "      <td>0</td>\n",
       "      <td>0</td>\n",
       "    </tr>\n",
       "  </tbody>\n",
       "</table>\n",
       "</div>"
      ],
      "text/plain": [
       "   citrus fruit  semi-finished bread  margarine  ready soups\n",
       "0             1                    1          1            1\n",
       "1             0                    0          0            0\n",
       "2             0                    0          0            0\n",
       "3             0                    0          0            0\n",
       "4             0                    0          0            0"
      ]
     },
     "execution_count": 178,
     "metadata": {},
     "output_type": "execute_result"
    }
   ],
   "source": [
    "tdf[['citrus fruit', 'semi-finished bread' ,'margarine', 'ready soups']].head()"
   ]
  },
  {
   "cell_type": "markdown",
   "id": "d32761cd",
   "metadata": {},
   "source": [
    "Top 10 most purchased items"
   ]
  },
  {
   "cell_type": "code",
   "execution_count": 182,
   "id": "3d508433",
   "metadata": {},
   "outputs": [
    {
     "data": {
      "image/png": "[encoded data removed]",
      "text/plain": [
       "<Figure size 1080x360 with 1 Axes>"
      ]
     },
     "metadata": {},
     "output_type": "display_data"
    }
   ],
   "source": [
    "plt.figure(figsize=(15,5))\n",
    "sns.barplot(x=tdf.sum().nlargest(10).index , y=tdf.sum().nlargest(10).values, palette = 'hot')\n",
    "plt.xlabel('Items', size = 12)\n",
    "plt.xticks(rotation=30)\n",
    "plt.ylabel('Counts', size = 12)\n",
    "plt.title('Top 10 most purchased items', size = 20)\n",
    "plt.show()"
   ]
  },
  {
   "cell_type": "code",
   "execution_count": 183,
   "id": "9c5b0a60",
   "metadata": {},
   "outputs": [
    {
     "data": {
      "image/png": "[encoded data removed]",
      "text/plain": [
       "<Figure size 1080x360 with 1 Axes>"
      ]
     },
     "metadata": {},
     "output_type": "display_data"
    }
   ],
   "source": [
    "plt.figure(figsize=(15,5))\n",
    "sns.barplot(x=tdf.sum().nsmallest(10).index , y=tdf.sum().nsmallest(10).values, palette = 'cool')\n",
    "plt.xlabel('Items', size = 12)\n",
    "plt.xticks(rotation=30)\n",
    "plt.ylabel('Counts', size = 12)\n",
    "plt.title('Top 10 least purchased items', size = 20)\n",
    "plt.show()"
   ]
  },
  {
   "cell_type": "markdown",
   "id": "c4e6d3f9",
   "metadata": {},
   "source": [
    "This grocery store makes most of it's revenue from whole milk and vegetables and the least from baby food and sound storage medium."
   ]
  },
  {
   "cell_type": "code",
   "execution_count": 191,
   "id": "b2d3f5de",
   "metadata": {},
   "outputs": [
    {
     "data": {
      "text/plain": [
       "mean     4.409456\n",
       "std      3.589385\n",
       "min      1.000000\n",
       "25%      2.000000\n",
       "50%      3.000000\n",
       "75%      6.000000\n",
       "max     32.000000\n",
       "dtype: float64"
      ]
     },
     "execution_count": 191,
     "metadata": {},
     "output_type": "execute_result"
    }
   ],
   "source": [
    "tdf.sum(1).describe().iloc[1:]"
   ]
  },
  {
   "cell_type": "markdown",
   "id": "aced6cc0",
   "metadata": {},
   "source": [
    "We can see on average a customer puchases 4.4 items where the longest chain is 32 items long, that was a very active shopper. As expected the minimum puchase is 1 since there are no rows with all 0s"
   ]
  },
  {
   "cell_type": "markdown",
   "id": "c28e340d",
   "metadata": {},
   "source": [
    "### Model building"
   ]
  },
  {
   "cell_type": "markdown",
   "id": "7b5d6165",
   "metadata": {},
   "source": [
    "Apriori is a popular algorithm for extracting frequent itemsets with applications in association rule learning. The apriori algorithm has been designed to operate on databases containing transactions, such as the one we are using."
   ]
  },
  {
   "cell_type": "code",
   "execution_count": 223,
   "id": "cfd13f58",
   "metadata": {},
   "outputs": [],
   "source": [
    "frequent_itemsets = apriori(tdf, min_support=0.001, use_colnames=True, max_len=2).assign(\n",
    "        length=lambda x: x['itemsets'].map(lambda x: len(x))\n",
    ")"
   ]
  },
  {
   "cell_type": "code",
   "execution_count": 224,
   "id": "51271ac8",
   "metadata": {},
   "outputs": [
    {
     "data": {
      "text/html": [
       "<div>\n",
       "<style scoped>\n",
       "    .dataframe tbody tr th:only-of-type {\n",
       "        vertical-align: middle;\n",
       "    }\n",
       "\n",
       "    .dataframe tbody tr th {\n",
       "        vertical-align: top;\n",
       "    }\n",
       "\n",
       "    .dataframe thead th {\n",
       "        text-align: right;\n",
       "    }\n",
       "</style>\n",
       "<table border=\"1\" class=\"dataframe\">\n",
       "  <thead>\n",
       "    <tr style=\"text-align: right;\">\n",
       "      <th></th>\n",
       "      <th>support</th>\n",
       "      <th>itemsets</th>\n",
       "      <th>length</th>\n",
       "    </tr>\n",
       "  </thead>\n",
       "  <tbody>\n",
       "    <tr>\n",
       "      <th>0</th>\n",
       "      <td>0.008033</td>\n",
       "      <td>(Instant food products)</td>\n",
       "      <td>1</td>\n",
       "    </tr>\n",
       "    <tr>\n",
       "      <th>1</th>\n",
       "      <td>0.033452</td>\n",
       "      <td>(UHT-milk)</td>\n",
       "      <td>1</td>\n",
       "    </tr>\n",
       "    <tr>\n",
       "      <th>2</th>\n",
       "      <td>0.003559</td>\n",
       "      <td>(abrasive cleaner)</td>\n",
       "      <td>1</td>\n",
       "    </tr>\n",
       "    <tr>\n",
       "      <th>3</th>\n",
       "      <td>0.003254</td>\n",
       "      <td>(artif. sweetener)</td>\n",
       "      <td>1</td>\n",
       "    </tr>\n",
       "    <tr>\n",
       "      <th>4</th>\n",
       "      <td>0.017692</td>\n",
       "      <td>(baking powder)</td>\n",
       "      <td>1</td>\n",
       "    </tr>\n",
       "  </tbody>\n",
       "</table>\n",
       "</div>"
      ],
      "text/plain": [
       "    support                 itemsets  length\n",
       "0  0.008033  (Instant food products)       1\n",
       "1  0.033452               (UHT-milk)       1\n",
       "2  0.003559       (abrasive cleaner)       1\n",
       "3  0.003254       (artif. sweetener)       1\n",
       "4  0.017692          (baking powder)       1"
      ]
     },
     "execution_count": 224,
     "metadata": {},
     "output_type": "execute_result"
    }
   ],
   "source": [
    "frequent_itemsets.head()"
   ]
  },
  {
   "cell_type": "code",
   "execution_count": 232,
   "id": "474fae12",
   "metadata": {},
   "outputs": [
    {
     "data": {
      "text/html": [
       "<div>\n",
       "<style scoped>\n",
       "    .dataframe tbody tr th:only-of-type {\n",
       "        vertical-align: middle;\n",
       "    }\n",
       "\n",
       "    .dataframe tbody tr th {\n",
       "        vertical-align: top;\n",
       "    }\n",
       "\n",
       "    .dataframe thead th {\n",
       "        text-align: right;\n",
       "    }\n",
       "</style>\n",
       "<table border=\"1\" class=\"dataframe\">\n",
       "  <thead>\n",
       "    <tr style=\"text-align: right;\">\n",
       "      <th></th>\n",
       "      <th>support</th>\n",
       "      <th>itemsets</th>\n",
       "      <th>length</th>\n",
       "    </tr>\n",
       "  </thead>\n",
       "  <tbody>\n",
       "    <tr>\n",
       "      <th>2684</th>\n",
       "      <td>0.074835</td>\n",
       "      <td>(whole milk, other vegetables)</td>\n",
       "      <td>2</td>\n",
       "    </tr>\n",
       "    <tr>\n",
       "      <th>2919</th>\n",
       "      <td>0.056634</td>\n",
       "      <td>(whole milk, rolls/buns)</td>\n",
       "      <td>2</td>\n",
       "    </tr>\n",
       "    <tr>\n",
       "      <th>3135</th>\n",
       "      <td>0.056024</td>\n",
       "      <td>(whole milk, yogurt)</td>\n",
       "      <td>2</td>\n",
       "    </tr>\n",
       "  </tbody>\n",
       "</table>\n",
       "</div>"
      ],
      "text/plain": [
       "       support                        itemsets  length\n",
       "2684  0.074835  (whole milk, other vegetables)       2\n",
       "2919  0.056634        (whole milk, rolls/buns)       2\n",
       "3135  0.056024            (whole milk, yogurt)       2"
      ]
     },
     "execution_count": 232,
     "metadata": {},
     "output_type": "execute_result"
    }
   ],
   "source": [
    "frequent_itemsets[frequent_itemsets['length'].gt(1) & frequent_itemsets['support'].gt(0.05)]"
   ]
  },
  {
   "cell_type": "markdown",
   "id": "490a9ba2",
   "metadata": {},
   "source": [
    "An itemset is considered as \"frequent\" if it meets a user-specified support threshold. For instance, if the support threshold is set to 0.5 (50%), a frequent itemset is defined as a set of items that occur together in at least 50% of all transactions in the database."
   ]
  },
  {
   "cell_type": "markdown",
   "id": "7b5cdc90",
   "metadata": {},
   "source": [
    "association rule mining"
   ]
  },
  {
   "cell_type": "code",
   "execution_count": 214,
   "id": "2a55635d",
   "metadata": {},
   "outputs": [],
   "source": [
    "rules = association_rules(rule_items, metric=\"lift\", min_threshold=1).sort_values('lift', ascending=False)"
   ]
  },
  {
   "cell_type": "code",
   "execution_count": 237,
   "id": "9ad073c5",
   "metadata": {},
   "outputs": [
    {
     "data": {
      "text/html": [
       "<div>\n",
       "<style scoped>\n",
       "    .dataframe tbody tr th:only-of-type {\n",
       "        vertical-align: middle;\n",
       "    }\n",
       "\n",
       "    .dataframe tbody tr th {\n",
       "        vertical-align: top;\n",
       "    }\n",
       "\n",
       "    .dataframe thead th {\n",
       "        text-align: right;\n",
       "    }\n",
       "</style>\n",
       "<table border=\"1\" class=\"dataframe\">\n",
       "  <thead>\n",
       "    <tr style=\"text-align: right;\">\n",
       "      <th></th>\n",
       "      <th>antecedents</th>\n",
       "      <th>consequents</th>\n",
       "      <th>antecedent support</th>\n",
       "      <th>consequent support</th>\n",
       "      <th>support</th>\n",
       "      <th>confidence</th>\n",
       "      <th>lift</th>\n",
       "      <th>leverage</th>\n",
       "      <th>conviction</th>\n",
       "    </tr>\n",
       "  </thead>\n",
       "  <tbody>\n",
       "    <tr>\n",
       "      <th>3781</th>\n",
       "      <td>(honey)</td>\n",
       "      <td>(whole milk)</td>\n",
       "      <td>0.001525</td>\n",
       "      <td>0.255516</td>\n",
       "      <td>0.001118</td>\n",
       "      <td>0.733333</td>\n",
       "      <td>2.870009</td>\n",
       "      <td>0.000729</td>\n",
       "      <td>2.791815</td>\n",
       "    </tr>\n",
       "    <tr>\n",
       "      <th>5020</th>\n",
       "      <td>(tidbits)</td>\n",
       "      <td>(rolls/buns)</td>\n",
       "      <td>0.002339</td>\n",
       "      <td>0.183935</td>\n",
       "      <td>0.001220</td>\n",
       "      <td>0.521739</td>\n",
       "      <td>2.836542</td>\n",
       "      <td>0.000790</td>\n",
       "      <td>1.706318</td>\n",
       "    </tr>\n",
       "    <tr>\n",
       "      <th>4538</th>\n",
       "      <td>(rice)</td>\n",
       "      <td>(other vegetables)</td>\n",
       "      <td>0.007626</td>\n",
       "      <td>0.193493</td>\n",
       "      <td>0.003965</td>\n",
       "      <td>0.520000</td>\n",
       "      <td>2.687441</td>\n",
       "      <td>0.002490</td>\n",
       "      <td>1.680224</td>\n",
       "    </tr>\n",
       "    <tr>\n",
       "      <th>1597</th>\n",
       "      <td>(cereals)</td>\n",
       "      <td>(whole milk)</td>\n",
       "      <td>0.005694</td>\n",
       "      <td>0.255516</td>\n",
       "      <td>0.003660</td>\n",
       "      <td>0.642857</td>\n",
       "      <td>2.515917</td>\n",
       "      <td>0.002206</td>\n",
       "      <td>2.084555</td>\n",
       "    </tr>\n",
       "    <tr>\n",
       "      <th>4963</th>\n",
       "      <td>(rice)</td>\n",
       "      <td>(whole milk)</td>\n",
       "      <td>0.007626</td>\n",
       "      <td>0.255516</td>\n",
       "      <td>0.004677</td>\n",
       "      <td>0.613333</td>\n",
       "      <td>2.400371</td>\n",
       "      <td>0.002729</td>\n",
       "      <td>1.925390</td>\n",
       "    </tr>\n",
       "    <tr>\n",
       "      <th>2111</th>\n",
       "      <td>(cocoa drinks)</td>\n",
       "      <td>(whole milk)</td>\n",
       "      <td>0.002237</td>\n",
       "      <td>0.255516</td>\n",
       "      <td>0.001322</td>\n",
       "      <td>0.590909</td>\n",
       "      <td>2.312611</td>\n",
       "      <td>0.000750</td>\n",
       "      <td>1.819850</td>\n",
       "    </tr>\n",
       "    <tr>\n",
       "      <th>4931</th>\n",
       "      <td>(pudding powder)</td>\n",
       "      <td>(whole milk)</td>\n",
       "      <td>0.002339</td>\n",
       "      <td>0.255516</td>\n",
       "      <td>0.001322</td>\n",
       "      <td>0.565217</td>\n",
       "      <td>2.212062</td>\n",
       "      <td>0.000724</td>\n",
       "      <td>1.712313</td>\n",
       "    </tr>\n",
       "    <tr>\n",
       "      <th>3941</th>\n",
       "      <td>(jam)</td>\n",
       "      <td>(whole milk)</td>\n",
       "      <td>0.005389</td>\n",
       "      <td>0.255516</td>\n",
       "      <td>0.002949</td>\n",
       "      <td>0.547170</td>\n",
       "      <td>2.141431</td>\n",
       "      <td>0.001572</td>\n",
       "      <td>1.644069</td>\n",
       "    </tr>\n",
       "    <tr>\n",
       "      <th>223</th>\n",
       "      <td>(baking powder)</td>\n",
       "      <td>(whole milk)</td>\n",
       "      <td>0.017692</td>\n",
       "      <td>0.255516</td>\n",
       "      <td>0.009253</td>\n",
       "      <td>0.522989</td>\n",
       "      <td>2.046793</td>\n",
       "      <td>0.004732</td>\n",
       "      <td>1.560725</td>\n",
       "    </tr>\n",
       "    <tr>\n",
       "      <th>2265</th>\n",
       "      <td>(cooking chocolate)</td>\n",
       "      <td>(whole milk)</td>\n",
       "      <td>0.002542</td>\n",
       "      <td>0.255516</td>\n",
       "      <td>0.001322</td>\n",
       "      <td>0.520000</td>\n",
       "      <td>2.035097</td>\n",
       "      <td>0.000672</td>\n",
       "      <td>1.551008</td>\n",
       "    </tr>\n",
       "  </tbody>\n",
       "</table>\n",
       "</div>"
      ],
      "text/plain": [
       "              antecedents         consequents  antecedent support  \\\n",
       "3781              (honey)        (whole milk)            0.001525   \n",
       "5020            (tidbits)        (rolls/buns)            0.002339   \n",
       "4538               (rice)  (other vegetables)            0.007626   \n",
       "1597            (cereals)        (whole milk)            0.005694   \n",
       "4963               (rice)        (whole milk)            0.007626   \n",
       "2111       (cocoa drinks)        (whole milk)            0.002237   \n",
       "4931     (pudding powder)        (whole milk)            0.002339   \n",
       "3941                (jam)        (whole milk)            0.005389   \n",
       "223       (baking powder)        (whole milk)            0.017692   \n",
       "2265  (cooking chocolate)        (whole milk)            0.002542   \n",
       "\n",
       "      consequent support   support  confidence      lift  leverage  conviction  \n",
       "3781            0.255516  0.001118    0.733333  2.870009  0.000729    2.791815  \n",
       "5020            0.183935  0.001220    0.521739  2.836542  0.000790    1.706318  \n",
       "4538            0.193493  0.003965    0.520000  2.687441  0.002490    1.680224  \n",
       "1597            0.255516  0.003660    0.642857  2.515917  0.002206    2.084555  \n",
       "4963            0.255516  0.004677    0.613333  2.400371  0.002729    1.925390  \n",
       "2111            0.255516  0.001322    0.590909  2.312611  0.000750    1.819850  \n",
       "4931            0.255516  0.001322    0.565217  2.212062  0.000724    1.712313  \n",
       "3941            0.255516  0.002949    0.547170  2.141431  0.001572    1.644069  \n",
       "223             0.255516  0.009253    0.522989  2.046793  0.004732    1.560725  \n",
       "2265            0.255516  0.001322    0.520000  2.035097  0.000672    1.551008  "
      ]
     },
     "execution_count": 237,
     "metadata": {},
     "output_type": "execute_result"
    }
   ],
   "source": [
    "rules[rules['lift'].gt(1) & rules['confidence'].gt(0.5)]"
   ]
  },
  {
   "cell_type": "markdown",
   "id": "1cee3848",
   "metadata": {},
   "source": [
    "support(A→C)=support(A∪C),range: [0,1]"
   ]
  },
  {
   "cell_type": "markdown",
   "id": "b1692f96",
   "metadata": {},
   "source": [
    "There is a strong association between yogurt and whole milk,"
   ]
  },
  {
   "cell_type": "code",
   "execution_count": 217,
   "id": "fa586842",
   "metadata": {},
   "outputs": [],
   "source": [
    "rdf = rules.copy()"
   ]
  },
  {
   "cell_type": "code",
   "execution_count": 222,
   "id": "bb29243c",
   "metadata": {},
   "outputs": [
    {
     "data": {
      "text/plain": [
       "Text(0.5, 1.0, 'lift vs confidence')"
      ]
     },
     "execution_count": 222,
     "metadata": {},
     "output_type": "execute_result"
    },
    {
     "data": {
      "image/png": "[encoded data removed]",
      "text/plain": [
       "<Figure size 432x288 with 1 Axes>"
      ]
     },
     "metadata": {},
     "output_type": "display_data"
    }
   ],
   "source": [
    "fit = np.polyfit(rules['lift'], rules['confidence'], 1)\n",
    "fit_funt = np.poly1d(fit)\n",
    "plt.plot(rules['lift'], rules['confidence'], 'yo', rules['lift'], \n",
    "fit_funt(rules['lift']))\n",
    "plt.xlabel('lift')\n",
    "plt.ylabel('confidence')\n",
    "plt.title('{} vs {}'.format('lift', 'confidence'))"
   ]
  },
  {
   "cell_type": "code",
   "execution_count": null,
   "id": "1d5d84bc",
   "metadata": {},
   "outputs": [],
   "source": []
  }
 ],
 "metadata": {
  "kernelspec": {
   "display_name": "Python 3",
   "language": "python",
   "name": "python3"
  },
  "language_info": {
   "codemirror_mode": {
    "name": "ipython",
    "version": 3
   },
   "file_extension": ".py",
   "mimetype": "text/x-python",
   "name": "python",
   "nbconvert_exporter": "python",
   "pygments_lexer": "ipython3",
   "version": "3.7.10"
  }
 },
 "nbformat": 4,
 "nbformat_minor": 5
}

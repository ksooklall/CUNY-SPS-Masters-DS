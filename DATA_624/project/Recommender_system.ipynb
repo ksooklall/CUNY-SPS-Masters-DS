{
 "cells": [
  {
   "cell_type": "code",
   "execution_count": 2,
   "id": "e941927b",
   "metadata": {},
   "outputs": [],
   "source": [
    "import pandas as pd\n",
    "import numpy as np\n",
    "import matplotlib.pyplot as plt\n",
    "import seaborn as sns; sns.set()\n",
    "\n",
    "from mlxtend.preprocessing import TransactionEncoder\n",
    "from mlxtend.frequent_patterns import apriori, association_rules, fpgrowth"
   ]
  },
  {
   "cell_type": "markdown",
   "id": "90ba0728",
   "metadata": {},
   "source": [
    "## Exploratory Data Analysis"
   ]
  },
  {
   "cell_type": "markdown",
   "id": "a5093d91",
   "metadata": {},
   "source": [
    "The GroceryDataSet is a list of transcations make at a grocery store. The dataset comes from the University of California, Irvine, their machine learning dataset."
   ]
  },
  {
   "cell_type": "code",
   "execution_count": 3,
   "id": "aa9fcc4b",
   "metadata": {},
   "outputs": [],
   "source": [
    "df = pd.read_csv('GroceryDataSet.csv', header=None).fillna(0)"
   ]
  },
  {
   "cell_type": "code",
   "execution_count": 4,
   "id": "93259e88",
   "metadata": {},
   "outputs": [
    {
     "data": {
      "text/plain": [
       "(9835, 32)"
      ]
     },
     "execution_count": 4,
     "metadata": {},
     "output_type": "execute_result"
    }
   ],
   "source": [
    "df.shape"
   ]
  },
  {
   "cell_type": "code",
   "execution_count": 5,
   "id": "536ed8d4",
   "metadata": {},
   "outputs": [
    {
     "data": {
      "text/html": [
       "<div>\n",
       "<style scoped>\n",
       "    .dataframe tbody tr th:only-of-type {\n",
       "        vertical-align: middle;\n",
       "    }\n",
       "\n",
       "    .dataframe tbody tr th {\n",
       "        vertical-align: top;\n",
       "    }\n",
       "\n",
       "    .dataframe thead th {\n",
       "        text-align: right;\n",
       "    }\n",
       "</style>\n",
       "<table border=\"1\" class=\"dataframe\">\n",
       "  <thead>\n",
       "    <tr style=\"text-align: right;\">\n",
       "      <th></th>\n",
       "      <th>0</th>\n",
       "      <th>1</th>\n",
       "      <th>2</th>\n",
       "      <th>3</th>\n",
       "      <th>4</th>\n",
       "      <th>5</th>\n",
       "      <th>6</th>\n",
       "      <th>7</th>\n",
       "      <th>8</th>\n",
       "      <th>9</th>\n",
       "      <th>...</th>\n",
       "      <th>22</th>\n",
       "      <th>23</th>\n",
       "      <th>24</th>\n",
       "      <th>25</th>\n",
       "      <th>26</th>\n",
       "      <th>27</th>\n",
       "      <th>28</th>\n",
       "      <th>29</th>\n",
       "      <th>30</th>\n",
       "      <th>31</th>\n",
       "    </tr>\n",
       "  </thead>\n",
       "  <tbody>\n",
       "    <tr>\n",
       "      <th>0</th>\n",
       "      <td>citrus fruit</td>\n",
       "      <td>semi-finished bread</td>\n",
       "      <td>margarine</td>\n",
       "      <td>ready soups</td>\n",
       "      <td>0</td>\n",
       "      <td>0</td>\n",
       "      <td>0</td>\n",
       "      <td>0</td>\n",
       "      <td>0</td>\n",
       "      <td>0</td>\n",
       "      <td>...</td>\n",
       "      <td>0</td>\n",
       "      <td>0</td>\n",
       "      <td>0</td>\n",
       "      <td>0</td>\n",
       "      <td>0</td>\n",
       "      <td>0</td>\n",
       "      <td>0</td>\n",
       "      <td>0</td>\n",
       "      <td>0</td>\n",
       "      <td>0</td>\n",
       "    </tr>\n",
       "    <tr>\n",
       "      <th>1</th>\n",
       "      <td>tropical fruit</td>\n",
       "      <td>yogurt</td>\n",
       "      <td>coffee</td>\n",
       "      <td>0</td>\n",
       "      <td>0</td>\n",
       "      <td>0</td>\n",
       "      <td>0</td>\n",
       "      <td>0</td>\n",
       "      <td>0</td>\n",
       "      <td>0</td>\n",
       "      <td>...</td>\n",
       "      <td>0</td>\n",
       "      <td>0</td>\n",
       "      <td>0</td>\n",
       "      <td>0</td>\n",
       "      <td>0</td>\n",
       "      <td>0</td>\n",
       "      <td>0</td>\n",
       "      <td>0</td>\n",
       "      <td>0</td>\n",
       "      <td>0</td>\n",
       "    </tr>\n",
       "    <tr>\n",
       "      <th>2</th>\n",
       "      <td>whole milk</td>\n",
       "      <td>0</td>\n",
       "      <td>0</td>\n",
       "      <td>0</td>\n",
       "      <td>0</td>\n",
       "      <td>0</td>\n",
       "      <td>0</td>\n",
       "      <td>0</td>\n",
       "      <td>0</td>\n",
       "      <td>0</td>\n",
       "      <td>...</td>\n",
       "      <td>0</td>\n",
       "      <td>0</td>\n",
       "      <td>0</td>\n",
       "      <td>0</td>\n",
       "      <td>0</td>\n",
       "      <td>0</td>\n",
       "      <td>0</td>\n",
       "      <td>0</td>\n",
       "      <td>0</td>\n",
       "      <td>0</td>\n",
       "    </tr>\n",
       "    <tr>\n",
       "      <th>3</th>\n",
       "      <td>pip fruit</td>\n",
       "      <td>yogurt</td>\n",
       "      <td>cream cheese</td>\n",
       "      <td>meat spreads</td>\n",
       "      <td>0</td>\n",
       "      <td>0</td>\n",
       "      <td>0</td>\n",
       "      <td>0</td>\n",
       "      <td>0</td>\n",
       "      <td>0</td>\n",
       "      <td>...</td>\n",
       "      <td>0</td>\n",
       "      <td>0</td>\n",
       "      <td>0</td>\n",
       "      <td>0</td>\n",
       "      <td>0</td>\n",
       "      <td>0</td>\n",
       "      <td>0</td>\n",
       "      <td>0</td>\n",
       "      <td>0</td>\n",
       "      <td>0</td>\n",
       "    </tr>\n",
       "    <tr>\n",
       "      <th>4</th>\n",
       "      <td>other vegetables</td>\n",
       "      <td>whole milk</td>\n",
       "      <td>condensed milk</td>\n",
       "      <td>long life bakery product</td>\n",
       "      <td>0</td>\n",
       "      <td>0</td>\n",
       "      <td>0</td>\n",
       "      <td>0</td>\n",
       "      <td>0</td>\n",
       "      <td>0</td>\n",
       "      <td>...</td>\n",
       "      <td>0</td>\n",
       "      <td>0</td>\n",
       "      <td>0</td>\n",
       "      <td>0</td>\n",
       "      <td>0</td>\n",
       "      <td>0</td>\n",
       "      <td>0</td>\n",
       "      <td>0</td>\n",
       "      <td>0</td>\n",
       "      <td>0</td>\n",
       "    </tr>\n",
       "  </tbody>\n",
       "</table>\n",
       "<p>5 rows × 32 columns</p>\n",
       "</div>"
      ],
      "text/plain": [
       "                 0                    1               2   \\\n",
       "0      citrus fruit  semi-finished bread       margarine   \n",
       "1    tropical fruit               yogurt          coffee   \n",
       "2        whole milk                    0               0   \n",
       "3         pip fruit               yogurt   cream cheese    \n",
       "4  other vegetables           whole milk  condensed milk   \n",
       "\n",
       "                         3  4  5  6  7  8  9   ... 22 23 24 25 26 27 28 29 30  \\\n",
       "0               ready soups  0  0  0  0  0  0  ...  0  0  0  0  0  0  0  0  0   \n",
       "1                         0  0  0  0  0  0  0  ...  0  0  0  0  0  0  0  0  0   \n",
       "2                         0  0  0  0  0  0  0  ...  0  0  0  0  0  0  0  0  0   \n",
       "3              meat spreads  0  0  0  0  0  0  ...  0  0  0  0  0  0  0  0  0   \n",
       "4  long life bakery product  0  0  0  0  0  0  ...  0  0  0  0  0  0  0  0  0   \n",
       "\n",
       "  31  \n",
       "0  0  \n",
       "1  0  \n",
       "2  0  \n",
       "3  0  \n",
       "4  0  \n",
       "\n",
       "[5 rows x 32 columns]"
      ]
     },
     "execution_count": 5,
     "metadata": {},
     "output_type": "execute_result"
    }
   ],
   "source": [
    "df.head()"
   ]
  },
  {
   "cell_type": "code",
   "execution_count": 6,
   "id": "6ba30a84",
   "metadata": {},
   "outputs": [
    {
     "data": {
      "text/plain": [
       "0.13779550076258262"
      ]
     },
     "execution_count": 6,
     "metadata": {},
     "output_type": "execute_result"
    }
   ],
   "source": [
    "df.ne(0).sum().sum() / (df.shape[0] * df.shape[1])"
   ]
  },
  {
   "cell_type": "markdown",
   "id": "6b36ae21",
   "metadata": {},
   "source": [
    "When loading the data there was a lot of nan values which were filled with 0 to indicate there are no transcations past the last. The dataset contain 9835 market transcations which are mostly empty with only 13% of it's cells filled."
   ]
  },
  {
   "cell_type": "markdown",
   "id": "8ad91523",
   "metadata": {},
   "source": [
    "### Data Preparation"
   ]
  },
  {
   "cell_type": "markdown",
   "id": "c3cc62c7",
   "metadata": {},
   "source": [
    "To get a better understanding of the dataset, the data will be transformed so each row is a transcation and each column is an item where the values are True or False if the item was purchased or not"
   ]
  },
  {
   "cell_type": "markdown",
   "id": "6bf2d007",
   "metadata": {},
   "source": [
    "![](data_prep.png)"
   ]
  },
  {
   "cell_type": "code",
   "execution_count": 7,
   "id": "04494a35",
   "metadata": {},
   "outputs": [],
   "source": [
    "all_items = df.apply(lambda x: [i for i in x if i != 0], axis=1).values.tolist()"
   ]
  },
  {
   "cell_type": "markdown",
   "id": "82981873",
   "metadata": {},
   "source": [
    "mlxtend TransactionEncoder class is used to transform the data"
   ]
  },
  {
   "cell_type": "code",
   "execution_count": 8,
   "id": "1eddf32a",
   "metadata": {},
   "outputs": [],
   "source": [
    "trans_encoder = TransactionEncoder()\n",
    "trans_encoder_matrix = trans_encoder.fit(all_items).transform(all_items)\n",
    "tdf = pd.DataFrame(trans_encoder_matrix, columns=trans_encoder.columns_).astype(int)"
   ]
  },
  {
   "cell_type": "code",
   "execution_count": 9,
   "id": "667b7406",
   "metadata": {},
   "outputs": [
    {
     "data": {
      "text/html": [
       "<div>\n",
       "<style scoped>\n",
       "    .dataframe tbody tr th:only-of-type {\n",
       "        vertical-align: middle;\n",
       "    }\n",
       "\n",
       "    .dataframe tbody tr th {\n",
       "        vertical-align: top;\n",
       "    }\n",
       "\n",
       "    .dataframe thead th {\n",
       "        text-align: right;\n",
       "    }\n",
       "</style>\n",
       "<table border=\"1\" class=\"dataframe\">\n",
       "  <thead>\n",
       "    <tr style=\"text-align: right;\">\n",
       "      <th></th>\n",
       "      <th>Instant food products</th>\n",
       "      <th>UHT-milk</th>\n",
       "      <th>abrasive cleaner</th>\n",
       "      <th>artif. sweetener</th>\n",
       "      <th>baby cosmetics</th>\n",
       "      <th>baby food</th>\n",
       "      <th>bags</th>\n",
       "      <th>baking powder</th>\n",
       "      <th>bathroom cleaner</th>\n",
       "      <th>beef</th>\n",
       "      <th>...</th>\n",
       "      <th>turkey</th>\n",
       "      <th>vinegar</th>\n",
       "      <th>waffles</th>\n",
       "      <th>whipped/sour cream</th>\n",
       "      <th>whisky</th>\n",
       "      <th>white bread</th>\n",
       "      <th>white wine</th>\n",
       "      <th>whole milk</th>\n",
       "      <th>yogurt</th>\n",
       "      <th>zwieback</th>\n",
       "    </tr>\n",
       "  </thead>\n",
       "  <tbody>\n",
       "    <tr>\n",
       "      <th>0</th>\n",
       "      <td>0</td>\n",
       "      <td>0</td>\n",
       "      <td>0</td>\n",
       "      <td>0</td>\n",
       "      <td>0</td>\n",
       "      <td>0</td>\n",
       "      <td>0</td>\n",
       "      <td>0</td>\n",
       "      <td>0</td>\n",
       "      <td>0</td>\n",
       "      <td>...</td>\n",
       "      <td>0</td>\n",
       "      <td>0</td>\n",
       "      <td>0</td>\n",
       "      <td>0</td>\n",
       "      <td>0</td>\n",
       "      <td>0</td>\n",
       "      <td>0</td>\n",
       "      <td>0</td>\n",
       "      <td>0</td>\n",
       "      <td>0</td>\n",
       "    </tr>\n",
       "    <tr>\n",
       "      <th>1</th>\n",
       "      <td>0</td>\n",
       "      <td>0</td>\n",
       "      <td>0</td>\n",
       "      <td>0</td>\n",
       "      <td>0</td>\n",
       "      <td>0</td>\n",
       "      <td>0</td>\n",
       "      <td>0</td>\n",
       "      <td>0</td>\n",
       "      <td>0</td>\n",
       "      <td>...</td>\n",
       "      <td>0</td>\n",
       "      <td>0</td>\n",
       "      <td>0</td>\n",
       "      <td>0</td>\n",
       "      <td>0</td>\n",
       "      <td>0</td>\n",
       "      <td>0</td>\n",
       "      <td>0</td>\n",
       "      <td>1</td>\n",
       "      <td>0</td>\n",
       "    </tr>\n",
       "    <tr>\n",
       "      <th>2</th>\n",
       "      <td>0</td>\n",
       "      <td>0</td>\n",
       "      <td>0</td>\n",
       "      <td>0</td>\n",
       "      <td>0</td>\n",
       "      <td>0</td>\n",
       "      <td>0</td>\n",
       "      <td>0</td>\n",
       "      <td>0</td>\n",
       "      <td>0</td>\n",
       "      <td>...</td>\n",
       "      <td>0</td>\n",
       "      <td>0</td>\n",
       "      <td>0</td>\n",
       "      <td>0</td>\n",
       "      <td>0</td>\n",
       "      <td>0</td>\n",
       "      <td>0</td>\n",
       "      <td>1</td>\n",
       "      <td>0</td>\n",
       "      <td>0</td>\n",
       "    </tr>\n",
       "    <tr>\n",
       "      <th>3</th>\n",
       "      <td>0</td>\n",
       "      <td>0</td>\n",
       "      <td>0</td>\n",
       "      <td>0</td>\n",
       "      <td>0</td>\n",
       "      <td>0</td>\n",
       "      <td>0</td>\n",
       "      <td>0</td>\n",
       "      <td>0</td>\n",
       "      <td>0</td>\n",
       "      <td>...</td>\n",
       "      <td>0</td>\n",
       "      <td>0</td>\n",
       "      <td>0</td>\n",
       "      <td>0</td>\n",
       "      <td>0</td>\n",
       "      <td>0</td>\n",
       "      <td>0</td>\n",
       "      <td>0</td>\n",
       "      <td>1</td>\n",
       "      <td>0</td>\n",
       "    </tr>\n",
       "    <tr>\n",
       "      <th>4</th>\n",
       "      <td>0</td>\n",
       "      <td>0</td>\n",
       "      <td>0</td>\n",
       "      <td>0</td>\n",
       "      <td>0</td>\n",
       "      <td>0</td>\n",
       "      <td>0</td>\n",
       "      <td>0</td>\n",
       "      <td>0</td>\n",
       "      <td>0</td>\n",
       "      <td>...</td>\n",
       "      <td>0</td>\n",
       "      <td>0</td>\n",
       "      <td>0</td>\n",
       "      <td>0</td>\n",
       "      <td>0</td>\n",
       "      <td>0</td>\n",
       "      <td>0</td>\n",
       "      <td>1</td>\n",
       "      <td>0</td>\n",
       "      <td>0</td>\n",
       "    </tr>\n",
       "  </tbody>\n",
       "</table>\n",
       "<p>5 rows × 169 columns</p>\n",
       "</div>"
      ],
      "text/plain": [
       "   Instant food products  UHT-milk  abrasive cleaner  artif. sweetener  \\\n",
       "0                      0         0                 0                 0   \n",
       "1                      0         0                 0                 0   \n",
       "2                      0         0                 0                 0   \n",
       "3                      0         0                 0                 0   \n",
       "4                      0         0                 0                 0   \n",
       "\n",
       "   baby cosmetics  baby food  bags  baking powder  bathroom cleaner  beef  \\\n",
       "0               0          0     0              0                 0     0   \n",
       "1               0          0     0              0                 0     0   \n",
       "2               0          0     0              0                 0     0   \n",
       "3               0          0     0              0                 0     0   \n",
       "4               0          0     0              0                 0     0   \n",
       "\n",
       "   ...  turkey  vinegar  waffles  whipped/sour cream  whisky  white bread  \\\n",
       "0  ...       0        0        0                   0       0            0   \n",
       "1  ...       0        0        0                   0       0            0   \n",
       "2  ...       0        0        0                   0       0            0   \n",
       "3  ...       0        0        0                   0       0            0   \n",
       "4  ...       0        0        0                   0       0            0   \n",
       "\n",
       "   white wine  whole milk  yogurt  zwieback  \n",
       "0           0           0       0         0  \n",
       "1           0           0       1         0  \n",
       "2           0           1       0         0  \n",
       "3           0           0       1         0  \n",
       "4           0           1       0         0  \n",
       "\n",
       "[5 rows x 169 columns]"
      ]
     },
     "execution_count": 9,
     "metadata": {},
     "output_type": "execute_result"
    }
   ],
   "source": [
    "tdf.head()"
   ]
  },
  {
   "cell_type": "markdown",
   "id": "624fc34c",
   "metadata": {},
   "source": [
    "The transformation looks correct but we will verify the first row with the original dataset"
   ]
  },
  {
   "cell_type": "code",
   "execution_count": 10,
   "id": "38ab283c",
   "metadata": {},
   "outputs": [
    {
     "data": {
      "text/html": [
       "<div>\n",
       "<style scoped>\n",
       "    .dataframe tbody tr th:only-of-type {\n",
       "        vertical-align: middle;\n",
       "    }\n",
       "\n",
       "    .dataframe tbody tr th {\n",
       "        vertical-align: top;\n",
       "    }\n",
       "\n",
       "    .dataframe thead th {\n",
       "        text-align: right;\n",
       "    }\n",
       "</style>\n",
       "<table border=\"1\" class=\"dataframe\">\n",
       "  <thead>\n",
       "    <tr style=\"text-align: right;\">\n",
       "      <th></th>\n",
       "      <th>citrus fruit</th>\n",
       "      <th>semi-finished bread</th>\n",
       "      <th>margarine</th>\n",
       "      <th>ready soups</th>\n",
       "    </tr>\n",
       "  </thead>\n",
       "  <tbody>\n",
       "    <tr>\n",
       "      <th>0</th>\n",
       "      <td>1</td>\n",
       "      <td>1</td>\n",
       "      <td>1</td>\n",
       "      <td>1</td>\n",
       "    </tr>\n",
       "    <tr>\n",
       "      <th>1</th>\n",
       "      <td>0</td>\n",
       "      <td>0</td>\n",
       "      <td>0</td>\n",
       "      <td>0</td>\n",
       "    </tr>\n",
       "    <tr>\n",
       "      <th>2</th>\n",
       "      <td>0</td>\n",
       "      <td>0</td>\n",
       "      <td>0</td>\n",
       "      <td>0</td>\n",
       "    </tr>\n",
       "    <tr>\n",
       "      <th>3</th>\n",
       "      <td>0</td>\n",
       "      <td>0</td>\n",
       "      <td>0</td>\n",
       "      <td>0</td>\n",
       "    </tr>\n",
       "    <tr>\n",
       "      <th>4</th>\n",
       "      <td>0</td>\n",
       "      <td>0</td>\n",
       "      <td>0</td>\n",
       "      <td>0</td>\n",
       "    </tr>\n",
       "  </tbody>\n",
       "</table>\n",
       "</div>"
      ],
      "text/plain": [
       "   citrus fruit  semi-finished bread  margarine  ready soups\n",
       "0             1                    1          1            1\n",
       "1             0                    0          0            0\n",
       "2             0                    0          0            0\n",
       "3             0                    0          0            0\n",
       "4             0                    0          0            0"
      ]
     },
     "execution_count": 10,
     "metadata": {},
     "output_type": "execute_result"
    }
   ],
   "source": [
    "tdf[['citrus fruit', 'semi-finished bread' ,'margarine', 'ready soups']].head()"
   ]
  },
  {
   "cell_type": "markdown",
   "id": "ebd0c865",
   "metadata": {},
   "source": [
    "Those values are correct"
   ]
  },
  {
   "cell_type": "markdown",
   "id": "5790ada6",
   "metadata": {},
   "source": [
    "With the data fully transformed we can explore some top 10 most purchased items."
   ]
  },
  {
   "cell_type": "code",
   "execution_count": 11,
   "id": "83ef76e9",
   "metadata": {},
   "outputs": [
    {
     "data": {
      "image/png": "[encoded data removed]",
      "text/plain": [
       "<Figure size 1080x360 with 1 Axes>"
      ]
     },
     "metadata": {},
     "output_type": "display_data"
    }
   ],
   "source": [
    "plt.figure(figsize=(15,5))\n",
    "sns.barplot(x=tdf.sum().nlargest(10).index , y=tdf.sum().nlargest(10).values, palette = 'hot')\n",
    "plt.xlabel('Items', size = 12)\n",
    "plt.xticks(rotation=30)\n",
    "plt.ylabel('Counts', size = 12)\n",
    "plt.title('Top 10 most purchased items', size = 20)\n",
    "plt.show()"
   ]
  },
  {
   "cell_type": "markdown",
   "id": "dded3498",
   "metadata": {},
   "source": [
    "This looks almost like my grocery transactions, milk and vegetables are definitely on top"
   ]
  },
  {
   "cell_type": "code",
   "execution_count": 12,
   "id": "6b9105e6",
   "metadata": {},
   "outputs": [
    {
     "data": {
      "image/png": "[encoded data removed]",
      "text/plain": [
       "<Figure size 1080x360 with 1 Axes>"
      ]
     },
     "metadata": {},
     "output_type": "display_data"
    }
   ],
   "source": [
    "plt.figure(figsize=(15,5))\n",
    "sns.barplot(x=tdf.sum().nsmallest(10).index , y=tdf.sum().nsmallest(10).values, palette = 'cool')\n",
    "plt.xlabel('Items', size = 12)\n",
    "plt.xticks(rotation=30)\n",
    "plt.ylabel('Counts', size = 12)\n",
    "plt.title('Top 10 least purchased items', size = 20)\n",
    "plt.show()"
   ]
  },
  {
   "cell_type": "markdown",
   "id": "b72df942",
   "metadata": {},
   "source": [
    "This grocery store makes most of it's revenue from whole milk and vegetables and the least from baby food and sound storage medium."
   ]
  },
  {
   "cell_type": "code",
   "execution_count": 13,
   "id": "d20fccb8",
   "metadata": {},
   "outputs": [
    {
     "data": {
      "text/plain": [
       "mean     4.409456\n",
       "std      3.589385\n",
       "min      1.000000\n",
       "25%      2.000000\n",
       "50%      3.000000\n",
       "75%      6.000000\n",
       "max     32.000000\n",
       "dtype: float64"
      ]
     },
     "execution_count": 13,
     "metadata": {},
     "output_type": "execute_result"
    }
   ],
   "source": [
    "tdf.sum(1).describe().iloc[1:]"
   ]
  },
  {
   "cell_type": "markdown",
   "id": "d3e10df7",
   "metadata": {},
   "source": [
    "We can see on average a customer puchases 4.4 items where the longest chain is 32 items long, that was a very active shopper. As expected the minimum puchase is 1 since there are no rows with all 0s"
   ]
  },
  {
   "cell_type": "markdown",
   "id": "9cd108b2",
   "metadata": {},
   "source": [
    "### Model building"
   ]
  },
  {
   "cell_type": "markdown",
   "id": "19a9bdbc",
   "metadata": {},
   "source": [
    "Apriori is a popular algorithm for extracting frequent itemsets with applications in association rule learning. The apriori algorithm has been designed to operate on databases containing transactions, such as the one we are using."
   ]
  },
  {
   "cell_type": "code",
   "execution_count": 14,
   "id": "8decaeba",
   "metadata": {},
   "outputs": [],
   "source": [
    "frequent_itemsets = apriori(tdf, min_support=0.002, use_colnames=True).assign(\n",
    "        length=lambda x: x['itemsets'].map(lambda x: len(x))\n",
    ")"
   ]
  },
  {
   "cell_type": "code",
   "execution_count": 15,
   "id": "9ca56cdb",
   "metadata": {},
   "outputs": [
    {
     "data": {
      "text/html": [
       "<div>\n",
       "<style scoped>\n",
       "    .dataframe tbody tr th:only-of-type {\n",
       "        vertical-align: middle;\n",
       "    }\n",
       "\n",
       "    .dataframe tbody tr th {\n",
       "        vertical-align: top;\n",
       "    }\n",
       "\n",
       "    .dataframe thead th {\n",
       "        text-align: right;\n",
       "    }\n",
       "</style>\n",
       "<table border=\"1\" class=\"dataframe\">\n",
       "  <thead>\n",
       "    <tr style=\"text-align: right;\">\n",
       "      <th></th>\n",
       "      <th>support</th>\n",
       "      <th>itemsets</th>\n",
       "      <th>length</th>\n",
       "    </tr>\n",
       "  </thead>\n",
       "  <tbody>\n",
       "    <tr>\n",
       "      <th>0</th>\n",
       "      <td>0.008033</td>\n",
       "      <td>(Instant food products)</td>\n",
       "      <td>1</td>\n",
       "    </tr>\n",
       "    <tr>\n",
       "      <th>1</th>\n",
       "      <td>0.033452</td>\n",
       "      <td>(UHT-milk)</td>\n",
       "      <td>1</td>\n",
       "    </tr>\n",
       "    <tr>\n",
       "      <th>2</th>\n",
       "      <td>0.003559</td>\n",
       "      <td>(abrasive cleaner)</td>\n",
       "      <td>1</td>\n",
       "    </tr>\n",
       "    <tr>\n",
       "      <th>3</th>\n",
       "      <td>0.003254</td>\n",
       "      <td>(artif. sweetener)</td>\n",
       "      <td>1</td>\n",
       "    </tr>\n",
       "    <tr>\n",
       "      <th>4</th>\n",
       "      <td>0.017692</td>\n",
       "      <td>(baking powder)</td>\n",
       "      <td>1</td>\n",
       "    </tr>\n",
       "  </tbody>\n",
       "</table>\n",
       "</div>"
      ],
      "text/plain": [
       "    support                 itemsets  length\n",
       "0  0.008033  (Instant food products)       1\n",
       "1  0.033452               (UHT-milk)       1\n",
       "2  0.003559       (abrasive cleaner)       1\n",
       "3  0.003254       (artif. sweetener)       1\n",
       "4  0.017692          (baking powder)       1"
      ]
     },
     "execution_count": 15,
     "metadata": {},
     "output_type": "execute_result"
    }
   ],
   "source": [
    "frequent_itemsets.head()"
   ]
  },
  {
   "cell_type": "markdown",
   "id": "9deb4fcf",
   "metadata": {},
   "source": [
    "With the frequent itemsets we can get the association between items using association_rules"
   ]
  },
  {
   "cell_type": "code",
   "execution_count": 16,
   "id": "f228652f",
   "metadata": {},
   "outputs": [],
   "source": [
    "rules = association_rules(frequent_itemsets, metric=\"lift\", min_threshold=1).sort_values('lift', ascending=False)"
   ]
  },
  {
   "cell_type": "code",
   "execution_count": 17,
   "id": "8fcd27a6",
   "metadata": {},
   "outputs": [
    {
     "data": {
      "text/html": [
       "<div>\n",
       "<style scoped>\n",
       "    .dataframe tbody tr th:only-of-type {\n",
       "        vertical-align: middle;\n",
       "    }\n",
       "\n",
       "    .dataframe tbody tr th {\n",
       "        vertical-align: top;\n",
       "    }\n",
       "\n",
       "    .dataframe thead th {\n",
       "        text-align: right;\n",
       "    }\n",
       "</style>\n",
       "<table border=\"1\" class=\"dataframe\">\n",
       "  <thead>\n",
       "    <tr style=\"text-align: right;\">\n",
       "      <th></th>\n",
       "      <th>antecedents</th>\n",
       "      <th>consequents</th>\n",
       "      <th>antecedent support</th>\n",
       "      <th>consequent support</th>\n",
       "      <th>support</th>\n",
       "      <th>confidence</th>\n",
       "      <th>lift</th>\n",
       "      <th>leverage</th>\n",
       "      <th>conviction</th>\n",
       "    </tr>\n",
       "  </thead>\n",
       "  <tbody>\n",
       "    <tr>\n",
       "      <th>20485</th>\n",
       "      <td>(tropical fruit, root vegetables)</td>\n",
       "      <td>(citrus fruit, whole milk, other vegetables)</td>\n",
       "      <td>0.021047</td>\n",
       "      <td>0.013015</td>\n",
       "      <td>0.003152</td>\n",
       "      <td>0.149758</td>\n",
       "      <td>11.506831</td>\n",
       "      <td>0.002878</td>\n",
       "      <td>1.160829</td>\n",
       "    </tr>\n",
       "    <tr>\n",
       "      <th>20484</th>\n",
       "      <td>(citrus fruit, whole milk, other vegetables)</td>\n",
       "      <td>(tropical fruit, root vegetables)</td>\n",
       "      <td>0.013015</td>\n",
       "      <td>0.021047</td>\n",
       "      <td>0.003152</td>\n",
       "      <td>0.242188</td>\n",
       "      <td>11.506831</td>\n",
       "      <td>0.002878</td>\n",
       "      <td>1.291814</td>\n",
       "    </tr>\n",
       "    <tr>\n",
       "      <th>0</th>\n",
       "      <td>(hamburger meat)</td>\n",
       "      <td>(Instant food products)</td>\n",
       "      <td>0.033249</td>\n",
       "      <td>0.008033</td>\n",
       "      <td>0.003050</td>\n",
       "      <td>0.091743</td>\n",
       "      <td>11.421438</td>\n",
       "      <td>0.002783</td>\n",
       "      <td>1.092166</td>\n",
       "    </tr>\n",
       "    <tr>\n",
       "      <th>1</th>\n",
       "      <td>(Instant food products)</td>\n",
       "      <td>(hamburger meat)</td>\n",
       "      <td>0.008033</td>\n",
       "      <td>0.033249</td>\n",
       "      <td>0.003050</td>\n",
       "      <td>0.379747</td>\n",
       "      <td>11.421438</td>\n",
       "      <td>0.002783</td>\n",
       "      <td>1.558640</td>\n",
       "    </tr>\n",
       "    <tr>\n",
       "      <th>9508</th>\n",
       "      <td>(sugar, whole milk)</td>\n",
       "      <td>(flour)</td>\n",
       "      <td>0.015048</td>\n",
       "      <td>0.017387</td>\n",
       "      <td>0.002847</td>\n",
       "      <td>0.189189</td>\n",
       "      <td>10.881144</td>\n",
       "      <td>0.002585</td>\n",
       "      <td>1.211890</td>\n",
       "    </tr>\n",
       "  </tbody>\n",
       "</table>\n",
       "</div>"
      ],
      "text/plain": [
       "                                        antecedents  \\\n",
       "20485             (tropical fruit, root vegetables)   \n",
       "20484  (citrus fruit, whole milk, other vegetables)   \n",
       "0                                  (hamburger meat)   \n",
       "1                           (Instant food products)   \n",
       "9508                            (sugar, whole milk)   \n",
       "\n",
       "                                        consequents  antecedent support  \\\n",
       "20485  (citrus fruit, whole milk, other vegetables)            0.021047   \n",
       "20484             (tropical fruit, root vegetables)            0.013015   \n",
       "0                           (Instant food products)            0.033249   \n",
       "1                                  (hamburger meat)            0.008033   \n",
       "9508                                        (flour)            0.015048   \n",
       "\n",
       "       consequent support   support  confidence       lift  leverage  \\\n",
       "20485            0.013015  0.003152    0.149758  11.506831  0.002878   \n",
       "20484            0.021047  0.003152    0.242188  11.506831  0.002878   \n",
       "0                0.008033  0.003050    0.091743  11.421438  0.002783   \n",
       "1                0.033249  0.003050    0.379747  11.421438  0.002783   \n",
       "9508             0.017387  0.002847    0.189189  10.881144  0.002585   \n",
       "\n",
       "       conviction  \n",
       "20485    1.160829  \n",
       "20484    1.291814  \n",
       "0        1.092166  \n",
       "1        1.558640  \n",
       "9508     1.211890  "
      ]
     },
     "execution_count": 17,
     "metadata": {},
     "output_type": "execute_result"
    }
   ],
   "source": [
    "rules.head()"
   ]
  },
  {
   "cell_type": "code",
   "execution_count": 35,
   "id": "87761f62",
   "metadata": {},
   "outputs": [
    {
     "data": {
      "text/plain": [
       "frozenset({'ham', 'white bread'})"
      ]
     },
     "execution_count": 35,
     "metadata": {},
     "output_type": "execute_result"
    }
   ],
   "source": [
    "frozenset(('ham', 'white bread')).intersection(('ham', 'white bread'))"
   ]
  },
  {
   "cell_type": "code",
   "execution_count": 39,
   "id": "d21cf3b7",
   "metadata": {},
   "outputs": [
    {
     "data": {
      "text/html": [
       "<div>\n",
       "<style scoped>\n",
       "    .dataframe tbody tr th:only-of-type {\n",
       "        vertical-align: middle;\n",
       "    }\n",
       "\n",
       "    .dataframe tbody tr th {\n",
       "        vertical-align: top;\n",
       "    }\n",
       "\n",
       "    .dataframe thead th {\n",
       "        text-align: right;\n",
       "    }\n",
       "</style>\n",
       "<table border=\"1\" class=\"dataframe\">\n",
       "  <thead>\n",
       "    <tr style=\"text-align: right;\">\n",
       "      <th></th>\n",
       "      <th>antecedents</th>\n",
       "      <th>consequents</th>\n",
       "      <th>antecedent support</th>\n",
       "      <th>consequent support</th>\n",
       "      <th>support</th>\n",
       "      <th>confidence</th>\n",
       "      <th>lift</th>\n",
       "      <th>leverage</th>\n",
       "      <th>conviction</th>\n",
       "    </tr>\n",
       "  </thead>\n",
       "  <tbody>\n",
       "    <tr>\n",
       "      <th>10888</th>\n",
       "      <td>(white bread, ham)</td>\n",
       "      <td>(whole milk)</td>\n",
       "      <td>0.005084</td>\n",
       "      <td>0.255516</td>\n",
       "      <td>0.00244</td>\n",
       "      <td>0.48</td>\n",
       "      <td>1.878552</td>\n",
       "      <td>0.001141</td>\n",
       "      <td>1.4317</td>\n",
       "    </tr>\n",
       "  </tbody>\n",
       "</table>\n",
       "</div>"
      ],
      "text/plain": [
       "              antecedents   consequents  antecedent support  \\\n",
       "10888  (white bread, ham)  (whole milk)            0.005084   \n",
       "\n",
       "       consequent support  support  confidence      lift  leverage  conviction  \n",
       "10888            0.255516  0.00244        0.48  1.878552  0.001141      1.4317  "
      ]
     },
     "execution_count": 39,
     "metadata": {},
     "output_type": "execute_result"
    }
   ],
   "source": [
    "rules[rules['antecedents'].map(lambda x: len(x.intersection(('ham','white bread')))==2)]\n",
    "#rules[rules['antecedents'].map(lambda x: len(x.intersection(('bottled beer','red/blush wine')))==2)]"
   ]
  },
  {
   "cell_type": "code",
   "execution_count": 17,
   "id": "4a9c92a9",
   "metadata": {},
   "outputs": [],
   "source": [
    "rules['antecedents'] = rules['antecedents'].map(lambda x: list(x)[0])\n",
    "rules['consequents'] = rules['consequents'].map(lambda x: list(x)[0])"
   ]
  },
  {
   "cell_type": "code",
   "execution_count": 18,
   "id": "45ff3689",
   "metadata": {},
   "outputs": [
    {
     "data": {
      "text/html": [
       "<div>\n",
       "<style scoped>\n",
       "    .dataframe tbody tr th:only-of-type {\n",
       "        vertical-align: middle;\n",
       "    }\n",
       "\n",
       "    .dataframe tbody tr th {\n",
       "        vertical-align: top;\n",
       "    }\n",
       "\n",
       "    .dataframe thead th {\n",
       "        text-align: right;\n",
       "    }\n",
       "</style>\n",
       "<table border=\"1\" class=\"dataframe\">\n",
       "  <thead>\n",
       "    <tr style=\"text-align: right;\">\n",
       "      <th></th>\n",
       "      <th>antecedents</th>\n",
       "      <th>consequents</th>\n",
       "      <th>antecedent support</th>\n",
       "      <th>consequent support</th>\n",
       "      <th>support</th>\n",
       "      <th>confidence</th>\n",
       "      <th>lift</th>\n",
       "      <th>leverage</th>\n",
       "      <th>conviction</th>\n",
       "    </tr>\n",
       "  </thead>\n",
       "  <tbody>\n",
       "    <tr>\n",
       "      <th>17</th>\n",
       "      <td>bottled beer</td>\n",
       "      <td>bottled water</td>\n",
       "      <td>0.080529</td>\n",
       "      <td>0.110524</td>\n",
       "      <td>0.015760</td>\n",
       "      <td>0.195707</td>\n",
       "      <td>1.770726</td>\n",
       "      <td>0.006860</td>\n",
       "      <td>1.105911</td>\n",
       "    </tr>\n",
       "    <tr>\n",
       "      <th>21</th>\n",
       "      <td>bottled beer</td>\n",
       "      <td>soda</td>\n",
       "      <td>0.080529</td>\n",
       "      <td>0.174377</td>\n",
       "      <td>0.016980</td>\n",
       "      <td>0.210859</td>\n",
       "      <td>1.209209</td>\n",
       "      <td>0.002938</td>\n",
       "      <td>1.046229</td>\n",
       "    </tr>\n",
       "    <tr>\n",
       "      <th>19</th>\n",
       "      <td>bottled beer</td>\n",
       "      <td>other vegetables</td>\n",
       "      <td>0.080529</td>\n",
       "      <td>0.193493</td>\n",
       "      <td>0.016167</td>\n",
       "      <td>0.200758</td>\n",
       "      <td>1.037546</td>\n",
       "      <td>0.000585</td>\n",
       "      <td>1.009090</td>\n",
       "    </tr>\n",
       "  </tbody>\n",
       "</table>\n",
       "</div>"
      ],
      "text/plain": [
       "     antecedents       consequents  antecedent support  consequent support  \\\n",
       "17  bottled beer     bottled water            0.080529            0.110524   \n",
       "21  bottled beer              soda            0.080529            0.174377   \n",
       "19  bottled beer  other vegetables            0.080529            0.193493   \n",
       "\n",
       "     support  confidence      lift  leverage  conviction  \n",
       "17  0.015760    0.195707  1.770726  0.006860    1.105911  \n",
       "21  0.016980    0.210859  1.209209  0.002938    1.046229  \n",
       "19  0.016167    0.200758  1.037546  0.000585    1.009090  "
      ]
     },
     "execution_count": 18,
     "metadata": {},
     "output_type": "execute_result"
    }
   ],
   "source": [
    "rules[rules['antecedents'].eq('bottled beer')].head()"
   ]
  },
  {
   "cell_type": "code",
   "execution_count": 19,
   "id": "3a7aa32b",
   "metadata": {},
   "outputs": [
    {
     "data": {
      "text/html": [
       "<div>\n",
       "<style scoped>\n",
       "    .dataframe tbody tr th:only-of-type {\n",
       "        vertical-align: middle;\n",
       "    }\n",
       "\n",
       "    .dataframe tbody tr th {\n",
       "        vertical-align: top;\n",
       "    }\n",
       "\n",
       "    .dataframe thead th {\n",
       "        text-align: right;\n",
       "    }\n",
       "</style>\n",
       "<table border=\"1\" class=\"dataframe\">\n",
       "  <thead>\n",
       "    <tr style=\"text-align: right;\">\n",
       "      <th></th>\n",
       "      <th>antecedents</th>\n",
       "      <th>consequents</th>\n",
       "      <th>antecedent support</th>\n",
       "      <th>consequent support</th>\n",
       "      <th>support</th>\n",
       "      <th>confidence</th>\n",
       "      <th>lift</th>\n",
       "      <th>leverage</th>\n",
       "      <th>conviction</th>\n",
       "    </tr>\n",
       "  </thead>\n",
       "  <tbody>\n",
       "  </tbody>\n",
       "</table>\n",
       "</div>"
      ],
      "text/plain": [
       "Empty DataFrame\n",
       "Columns: [antecedents, consequents, antecedent support, consequent support, support, confidence, lift, leverage, conviction]\n",
       "Index: []"
      ]
     },
     "execution_count": 19,
     "metadata": {},
     "output_type": "execute_result"
    }
   ],
   "source": [
    "rules[rules['antecedents'].eq('red/blush wine')].head()"
   ]
  },
  {
   "cell_type": "code",
   "execution_count": 20,
   "id": "42c5ad80",
   "metadata": {},
   "outputs": [
    {
     "data": {
      "text/html": [
       "<div>\n",
       "<style scoped>\n",
       "    .dataframe tbody tr th:only-of-type {\n",
       "        vertical-align: middle;\n",
       "    }\n",
       "\n",
       "    .dataframe tbody tr th {\n",
       "        vertical-align: top;\n",
       "    }\n",
       "\n",
       "    .dataframe thead th {\n",
       "        text-align: right;\n",
       "    }\n",
       "</style>\n",
       "<table border=\"1\" class=\"dataframe\">\n",
       "  <thead>\n",
       "    <tr style=\"text-align: right;\">\n",
       "      <th></th>\n",
       "      <th>antecedents</th>\n",
       "      <th>consequents</th>\n",
       "      <th>pcount</th>\n",
       "    </tr>\n",
       "  </thead>\n",
       "  <tbody>\n",
       "    <tr>\n",
       "      <th>29</th>\n",
       "      <td>other vegetables</td>\n",
       "      <td>[root vegetables, citrus fruit, root vegetable...</td>\n",
       "      <td>80</td>\n",
       "    </tr>\n",
       "    <tr>\n",
       "      <th>45</th>\n",
       "      <td>whole milk</td>\n",
       "      <td>[root vegetables, yogurt, other vegetables, yo...</td>\n",
       "      <td>72</td>\n",
       "    </tr>\n",
       "    <tr>\n",
       "      <th>46</th>\n",
       "      <td>yogurt</td>\n",
       "      <td>[curd, whipped/sour cream, curd, root vegetabl...</td>\n",
       "      <td>58</td>\n",
       "    </tr>\n",
       "    <tr>\n",
       "      <th>34</th>\n",
       "      <td>root vegetables</td>\n",
       "      <td>[citrus fruit, other vegetables, beef, other v...</td>\n",
       "      <td>46</td>\n",
       "    </tr>\n",
       "    <tr>\n",
       "      <th>33</th>\n",
       "      <td>rolls/buns</td>\n",
       "      <td>[root vegetables, root vegetables, yogurt, yog...</td>\n",
       "      <td>41</td>\n",
       "    </tr>\n",
       "  </tbody>\n",
       "</table>\n",
       "</div>"
      ],
      "text/plain": [
       "         antecedents                                        consequents  \\\n",
       "29  other vegetables  [root vegetables, citrus fruit, root vegetable...   \n",
       "45        whole milk  [root vegetables, yogurt, other vegetables, yo...   \n",
       "46            yogurt  [curd, whipped/sour cream, curd, root vegetabl...   \n",
       "34   root vegetables  [citrus fruit, other vegetables, beef, other v...   \n",
       "33        rolls/buns  [root vegetables, root vegetables, yogurt, yog...   \n",
       "\n",
       "    pcount  \n",
       "29      80  \n",
       "45      72  \n",
       "46      58  \n",
       "34      46  \n",
       "33      41  "
      ]
     },
     "execution_count": 20,
     "metadata": {},
     "output_type": "execute_result"
    }
   ],
   "source": [
    "rdf = rules.query('support > 0.01').groupby('antecedents', as_index=False).agg({'consequents': list}).assign(pcount= lambda x: x['consequents'].map(lambda x: len(x))).sort_values('pcount', ascending=False)\n",
    "rdf.head()"
   ]
  },
  {
   "cell_type": "code",
   "execution_count": 21,
   "id": "c56fc541",
   "metadata": {},
   "outputs": [
    {
     "data": {
      "text/plain": [
       "<AxesSubplot:xlabel='antecedents'>"
      ]
     },
     "execution_count": 21,
     "metadata": {},
     "output_type": "execute_result"
    },
    {
     "data": {
      "image/png": "[encoded data removed]",
      "text/plain": [
       "<Figure size 864x720 with 1 Axes>"
      ]
     },
     "metadata": {},
     "output_type": "display_data"
    }
   ],
   "source": [
    "rdf.query('pcount > 10').plot(x='antecedents', y='pcount', kind='bar', figsize=(12,10))"
   ]
  },
  {
   "cell_type": "markdown",
   "id": "099dc08b",
   "metadata": {},
   "source": [
    "The association_rules returns 9 columns, but we are only interested in the first two and support, confidence and lift. Antecendents and Consequents are pairs of items that have associations and their strength is given by the lift/confidence. \n",
    "\n",
    "- Support is the joint probability of the antecendents and consequents [0,1]\n",
    "- Confidence is the conditional probability P(consequents|antecedents) [0,1]\n",
    "- Lift is a combination of Support and Confidence, range  [0, inf]"
   ]
  },
  {
   "cell_type": "markdown",
   "id": "a73caf17",
   "metadata": {},
   "source": [
    "#### Model exploration\n",
    "\n",
    "Now that we have the rules we can take a look at different associations"
   ]
  },
  {
   "cell_type": "code",
   "execution_count": 17,
   "id": "f1a874cc",
   "metadata": {},
   "outputs": [
    {
     "data": {
      "text/html": [
       "<div>\n",
       "<style scoped>\n",
       "    .dataframe tbody tr th:only-of-type {\n",
       "        vertical-align: middle;\n",
       "    }\n",
       "\n",
       "    .dataframe tbody tr th {\n",
       "        vertical-align: top;\n",
       "    }\n",
       "\n",
       "    .dataframe thead th {\n",
       "        text-align: right;\n",
       "    }\n",
       "</style>\n",
       "<table border=\"1\" class=\"dataframe\">\n",
       "  <thead>\n",
       "    <tr style=\"text-align: right;\">\n",
       "      <th></th>\n",
       "      <th>antecedents</th>\n",
       "      <th>consequents</th>\n",
       "      <th>antecedent support</th>\n",
       "      <th>consequent support</th>\n",
       "      <th>support</th>\n",
       "      <th>confidence</th>\n",
       "      <th>lift</th>\n",
       "      <th>leverage</th>\n",
       "      <th>conviction</th>\n",
       "    </tr>\n",
       "  </thead>\n",
       "  <tbody>\n",
       "    <tr>\n",
       "      <th>3780</th>\n",
       "      <td>(honey)</td>\n",
       "      <td>(whole milk)</td>\n",
       "      <td>0.001525</td>\n",
       "      <td>0.255516</td>\n",
       "      <td>0.001118</td>\n",
       "      <td>0.733333</td>\n",
       "      <td>2.870009</td>\n",
       "      <td>0.000729</td>\n",
       "      <td>2.791815</td>\n",
       "    </tr>\n",
       "    <tr>\n",
       "      <th>1596</th>\n",
       "      <td>(cereals)</td>\n",
       "      <td>(whole milk)</td>\n",
       "      <td>0.005694</td>\n",
       "      <td>0.255516</td>\n",
       "      <td>0.003660</td>\n",
       "      <td>0.642857</td>\n",
       "      <td>2.515917</td>\n",
       "      <td>0.002206</td>\n",
       "      <td>2.084555</td>\n",
       "    </tr>\n",
       "    <tr>\n",
       "      <th>4962</th>\n",
       "      <td>(rice)</td>\n",
       "      <td>(whole milk)</td>\n",
       "      <td>0.007626</td>\n",
       "      <td>0.255516</td>\n",
       "      <td>0.004677</td>\n",
       "      <td>0.613333</td>\n",
       "      <td>2.400371</td>\n",
       "      <td>0.002729</td>\n",
       "      <td>1.925390</td>\n",
       "    </tr>\n",
       "  </tbody>\n",
       "</table>\n",
       "</div>"
      ],
      "text/plain": [
       "     antecedents   consequents  antecedent support  consequent support  \\\n",
       "3780     (honey)  (whole milk)            0.001525            0.255516   \n",
       "1596   (cereals)  (whole milk)            0.005694            0.255516   \n",
       "4962      (rice)  (whole milk)            0.007626            0.255516   \n",
       "\n",
       "       support  confidence      lift  leverage  conviction  \n",
       "3780  0.001118    0.733333  2.870009  0.000729    2.791815  \n",
       "1596  0.003660    0.642857  2.515917  0.002206    2.084555  \n",
       "4962  0.004677    0.613333  2.400371  0.002729    1.925390  "
      ]
     },
     "execution_count": 17,
     "metadata": {},
     "output_type": "execute_result"
    }
   ],
   "source": [
    "rules[rules['lift'].gt(1) & rules['confidence'].gt(0.6)]"
   ]
  },
  {
   "cell_type": "markdown",
   "id": "8dcf1ccd",
   "metadata": {},
   "source": [
    "Selecting rows with high lift and confidence score we can see a strong association between (honey, cereals and rice) with whole milk."
   ]
  },
  {
   "cell_type": "code",
   "execution_count": 18,
   "id": "e05f5dbe",
   "metadata": {},
   "outputs": [
    {
     "data": {
      "text/plain": [
       "count    5428.000000\n",
       "mean        0.004008\n",
       "std         0.005128\n",
       "min         0.001017\n",
       "25%         0.001423\n",
       "50%         0.002339\n",
       "75%         0.004372\n",
       "max         0.074835\n",
       "Name: support, dtype: float64"
      ]
     },
     "execution_count": 18,
     "metadata": {},
     "output_type": "execute_result"
    }
   ],
   "source": [
    "rules['support'].describe()"
   ]
  },
  {
   "cell_type": "markdown",
   "id": "f61b2e51",
   "metadata": {},
   "source": [
    "We see that the support for all rules in our dataset is very low (i.e., the proportion of transactions that involve items from both baskets), which may be problematic, due to the fact that any results obtained from analysis may not be statistically significant."
   ]
  },
  {
   "cell_type": "code",
   "execution_count": 19,
   "id": "630faa40",
   "metadata": {},
   "outputs": [
    {
     "data": {
      "text/plain": [
       "antecedents              (mustard)\n",
       "consequents           (mayonnaise)\n",
       "antecedent support        0.011998\n",
       "consequent support        0.009151\n",
       "support                   0.001423\n",
       "confidence                0.118644\n",
       "lift                      12.96516\n",
       "leverage                  0.001314\n",
       "conviction                1.124233\n",
       "Name: 4145, dtype: object"
      ]
     },
     "execution_count": 19,
     "metadata": {},
     "output_type": "execute_result"
    }
   ],
   "source": [
    "rules.loc[rules['lift'].idxmax()]"
   ]
  },
  {
   "cell_type": "markdown",
   "id": "82c35309",
   "metadata": {},
   "source": [
    "We see that itemsets mustard and mayonnaise have the highest lift. So if we know that a customer has bought mustard they are ~13 times more likely that they will purchase mayonaise as well. But as we've pointed out, due to the fact that the support is very low, we cannot really determine whether this is just a fluke or a real association."
   ]
  },
  {
   "cell_type": "code",
   "execution_count": 20,
   "id": "1dc115b7",
   "metadata": {},
   "outputs": [
    {
     "data": {
      "text/plain": [
       "antecedents           (specialty chocolate)\n",
       "consequents                    (rolls/buns)\n",
       "antecedent support                 0.030402\n",
       "consequent support                 0.183935\n",
       "support                            0.005592\n",
       "confidence                         0.183946\n",
       "lift                               1.000063\n",
       "leverage                                0.0\n",
       "conviction                         1.000014\n",
       "Name: 5010, dtype: object"
      ]
     },
     "execution_count": 20,
     "metadata": {},
     "output_type": "execute_result"
    }
   ],
   "source": [
    "rules.loc[rules['lift'].idxmin()]"
   ]
  },
  {
   "cell_type": "markdown",
   "id": "c4cbb202",
   "metadata": {},
   "source": [
    "We see that itemsets rolls/buns and specialty chocolate have the lowest lift. The low lift makes sense because I can't think of a reason to have those two items together"
   ]
  },
  {
   "cell_type": "code",
   "execution_count": 21,
   "id": "6223c476",
   "metadata": {},
   "outputs": [
    {
     "data": {
      "text/html": [
       "<div>\n",
       "<style scoped>\n",
       "    .dataframe tbody tr th:only-of-type {\n",
       "        vertical-align: middle;\n",
       "    }\n",
       "\n",
       "    .dataframe tbody tr th {\n",
       "        vertical-align: top;\n",
       "    }\n",
       "\n",
       "    .dataframe thead th {\n",
       "        text-align: right;\n",
       "    }\n",
       "</style>\n",
       "<table border=\"1\" class=\"dataframe\">\n",
       "  <thead>\n",
       "    <tr style=\"text-align: right;\">\n",
       "      <th></th>\n",
       "      <th>antecedents</th>\n",
       "      <th>consequents</th>\n",
       "      <th>antecedent support</th>\n",
       "      <th>consequent support</th>\n",
       "      <th>support</th>\n",
       "      <th>confidence</th>\n",
       "      <th>lift</th>\n",
       "      <th>leverage</th>\n",
       "      <th>conviction</th>\n",
       "    </tr>\n",
       "  </thead>\n",
       "  <tbody>\n",
       "    <tr>\n",
       "      <th>3780</th>\n",
       "      <td>(honey)</td>\n",
       "      <td>(whole milk)</td>\n",
       "      <td>0.001525</td>\n",
       "      <td>0.255516</td>\n",
       "      <td>0.001118</td>\n",
       "      <td>0.733333</td>\n",
       "      <td>2.870009</td>\n",
       "      <td>0.000729</td>\n",
       "      <td>2.791815</td>\n",
       "    </tr>\n",
       "    <tr>\n",
       "      <th>1596</th>\n",
       "      <td>(cereals)</td>\n",
       "      <td>(whole milk)</td>\n",
       "      <td>0.005694</td>\n",
       "      <td>0.255516</td>\n",
       "      <td>0.003660</td>\n",
       "      <td>0.642857</td>\n",
       "      <td>2.515917</td>\n",
       "      <td>0.002206</td>\n",
       "      <td>2.084555</td>\n",
       "    </tr>\n",
       "    <tr>\n",
       "      <th>4962</th>\n",
       "      <td>(rice)</td>\n",
       "      <td>(whole milk)</td>\n",
       "      <td>0.007626</td>\n",
       "      <td>0.255516</td>\n",
       "      <td>0.004677</td>\n",
       "      <td>0.613333</td>\n",
       "      <td>2.400371</td>\n",
       "      <td>0.002729</td>\n",
       "      <td>1.925390</td>\n",
       "    </tr>\n",
       "    <tr>\n",
       "      <th>2110</th>\n",
       "      <td>(cocoa drinks)</td>\n",
       "      <td>(whole milk)</td>\n",
       "      <td>0.002237</td>\n",
       "      <td>0.255516</td>\n",
       "      <td>0.001322</td>\n",
       "      <td>0.590909</td>\n",
       "      <td>2.312611</td>\n",
       "      <td>0.000750</td>\n",
       "      <td>1.819850</td>\n",
       "    </tr>\n",
       "    <tr>\n",
       "      <th>4930</th>\n",
       "      <td>(pudding powder)</td>\n",
       "      <td>(whole milk)</td>\n",
       "      <td>0.002339</td>\n",
       "      <td>0.255516</td>\n",
       "      <td>0.001322</td>\n",
       "      <td>0.565217</td>\n",
       "      <td>2.212062</td>\n",
       "      <td>0.000724</td>\n",
       "      <td>1.712313</td>\n",
       "    </tr>\n",
       "    <tr>\n",
       "      <th>3940</th>\n",
       "      <td>(jam)</td>\n",
       "      <td>(whole milk)</td>\n",
       "      <td>0.005389</td>\n",
       "      <td>0.255516</td>\n",
       "      <td>0.002949</td>\n",
       "      <td>0.547170</td>\n",
       "      <td>2.141431</td>\n",
       "      <td>0.001572</td>\n",
       "      <td>1.644069</td>\n",
       "    </tr>\n",
       "    <tr>\n",
       "      <th>222</th>\n",
       "      <td>(baking powder)</td>\n",
       "      <td>(whole milk)</td>\n",
       "      <td>0.017692</td>\n",
       "      <td>0.255516</td>\n",
       "      <td>0.009253</td>\n",
       "      <td>0.522989</td>\n",
       "      <td>2.046793</td>\n",
       "      <td>0.004732</td>\n",
       "      <td>1.560725</td>\n",
       "    </tr>\n",
       "    <tr>\n",
       "      <th>2264</th>\n",
       "      <td>(cooking chocolate)</td>\n",
       "      <td>(whole milk)</td>\n",
       "      <td>0.002542</td>\n",
       "      <td>0.255516</td>\n",
       "      <td>0.001322</td>\n",
       "      <td>0.520000</td>\n",
       "      <td>2.035097</td>\n",
       "      <td>0.000672</td>\n",
       "      <td>1.551008</td>\n",
       "    </tr>\n",
       "  </tbody>\n",
       "</table>\n",
       "</div>"
      ],
      "text/plain": [
       "              antecedents   consequents  antecedent support  \\\n",
       "3780              (honey)  (whole milk)            0.001525   \n",
       "1596            (cereals)  (whole milk)            0.005694   \n",
       "4962               (rice)  (whole milk)            0.007626   \n",
       "2110       (cocoa drinks)  (whole milk)            0.002237   \n",
       "4930     (pudding powder)  (whole milk)            0.002339   \n",
       "3940                (jam)  (whole milk)            0.005389   \n",
       "222       (baking powder)  (whole milk)            0.017692   \n",
       "2264  (cooking chocolate)  (whole milk)            0.002542   \n",
       "\n",
       "      consequent support   support  confidence      lift  leverage  conviction  \n",
       "3780            0.255516  0.001118    0.733333  2.870009  0.000729    2.791815  \n",
       "1596            0.255516  0.003660    0.642857  2.515917  0.002206    2.084555  \n",
       "4962            0.255516  0.004677    0.613333  2.400371  0.002729    1.925390  \n",
       "2110            0.255516  0.001322    0.590909  2.312611  0.000750    1.819850  \n",
       "4930            0.255516  0.001322    0.565217  2.212062  0.000724    1.712313  \n",
       "3940            0.255516  0.002949    0.547170  2.141431  0.001572    1.644069  \n",
       "222             0.255516  0.009253    0.522989  2.046793  0.004732    1.560725  \n",
       "2264            0.255516  0.001322    0.520000  2.035097  0.000672    1.551008  "
      ]
     },
     "execution_count": 21,
     "metadata": {},
     "output_type": "execute_result"
    }
   ],
   "source": [
    "rules[rules['consequents'].map(lambda x: list(x)[0]).eq('whole milk')].query('lift > 2')"
   ]
  },
  {
   "cell_type": "markdown",
   "id": "15a453f9",
   "metadata": {},
   "source": [
    "Earler we saw that whole milk was the most frequently bought item, now we look at it's association. Items like cereals and honey are at the top probabily because we eat cereal with milk and put honey in our tea. A lot of the items involve baking as well, like baking powder, pudding powder, cooking chocolate and cocoa drinks."
   ]
  },
  {
   "cell_type": "code",
   "execution_count": 22,
   "id": "6f2f8fad",
   "metadata": {},
   "outputs": [
    {
     "data": {
      "image/png": "[encoded data removed]",
      "text/plain": [
       "<Figure size 720x432 with 2 Axes>"
      ]
     },
     "metadata": {},
     "output_type": "display_data"
    }
   ],
   "source": [
    "sup = rules['support'].values\n",
    "conf = rules['confidence'].values\n",
    "lift = rules['lift'].values\n",
    "\n",
    "plt.figure(figsize=(10,6))\n",
    "sc = plt.scatter(sup,conf,c=lift)\n",
    "plt.colorbar(sc,label='Lift')\n",
    "plt.xlabel('support')\n",
    "plt.ylabel('confidence')\n",
    "plt.show()"
   ]
  },
  {
   "cell_type": "code",
   "execution_count": 23,
   "id": "d2c6e879",
   "metadata": {},
   "outputs": [
    {
     "data": {
      "text/html": [
       "<div>\n",
       "<style scoped>\n",
       "    .dataframe tbody tr th:only-of-type {\n",
       "        vertical-align: middle;\n",
       "    }\n",
       "\n",
       "    .dataframe tbody tr th {\n",
       "        vertical-align: top;\n",
       "    }\n",
       "\n",
       "    .dataframe thead th {\n",
       "        text-align: right;\n",
       "    }\n",
       "</style>\n",
       "<table border=\"1\" class=\"dataframe\">\n",
       "  <thead>\n",
       "    <tr style=\"text-align: right;\">\n",
       "      <th></th>\n",
       "      <th>antecedents</th>\n",
       "      <th>consequents</th>\n",
       "      <th>antecedent support</th>\n",
       "      <th>consequent support</th>\n",
       "      <th>support</th>\n",
       "      <th>confidence</th>\n",
       "      <th>lift</th>\n",
       "      <th>leverage</th>\n",
       "      <th>conviction</th>\n",
       "    </tr>\n",
       "  </thead>\n",
       "  <tbody>\n",
       "    <tr>\n",
       "      <th>4145</th>\n",
       "      <td>(mustard)</td>\n",
       "      <td>(mayonnaise)</td>\n",
       "      <td>0.011998</td>\n",
       "      <td>0.009151</td>\n",
       "      <td>0.001423</td>\n",
       "      <td>0.118644</td>\n",
       "      <td>12.965160</td>\n",
       "      <td>0.001314</td>\n",
       "      <td>1.124233</td>\n",
       "    </tr>\n",
       "    <tr>\n",
       "      <th>4144</th>\n",
       "      <td>(mayonnaise)</td>\n",
       "      <td>(mustard)</td>\n",
       "      <td>0.009151</td>\n",
       "      <td>0.011998</td>\n",
       "      <td>0.001423</td>\n",
       "      <td>0.155556</td>\n",
       "      <td>12.965160</td>\n",
       "      <td>0.001314</td>\n",
       "      <td>1.170002</td>\n",
       "    </tr>\n",
       "    <tr>\n",
       "      <th>12</th>\n",
       "      <td>(hamburger meat)</td>\n",
       "      <td>(Instant food products)</td>\n",
       "      <td>0.033249</td>\n",
       "      <td>0.008033</td>\n",
       "      <td>0.003050</td>\n",
       "      <td>0.091743</td>\n",
       "      <td>11.421438</td>\n",
       "      <td>0.002783</td>\n",
       "      <td>1.092166</td>\n",
       "    </tr>\n",
       "    <tr>\n",
       "      <th>13</th>\n",
       "      <td>(Instant food products)</td>\n",
       "      <td>(hamburger meat)</td>\n",
       "      <td>0.008033</td>\n",
       "      <td>0.033249</td>\n",
       "      <td>0.003050</td>\n",
       "      <td>0.379747</td>\n",
       "      <td>11.421438</td>\n",
       "      <td>0.002783</td>\n",
       "      <td>1.558640</td>\n",
       "    </tr>\n",
       "    <tr>\n",
       "      <th>2657</th>\n",
       "      <td>(detergent)</td>\n",
       "      <td>(softener)</td>\n",
       "      <td>0.019217</td>\n",
       "      <td>0.005491</td>\n",
       "      <td>0.001118</td>\n",
       "      <td>0.058201</td>\n",
       "      <td>10.600137</td>\n",
       "      <td>0.001013</td>\n",
       "      <td>1.055968</td>\n",
       "    </tr>\n",
       "    <tr>\n",
       "      <th>2656</th>\n",
       "      <td>(softener)</td>\n",
       "      <td>(detergent)</td>\n",
       "      <td>0.005491</td>\n",
       "      <td>0.019217</td>\n",
       "      <td>0.001118</td>\n",
       "      <td>0.203704</td>\n",
       "      <td>10.600137</td>\n",
       "      <td>0.001013</td>\n",
       "      <td>1.231681</td>\n",
       "    </tr>\n",
       "    <tr>\n",
       "      <th>3976</th>\n",
       "      <td>(red/blush wine)</td>\n",
       "      <td>(liquor)</td>\n",
       "      <td>0.019217</td>\n",
       "      <td>0.011083</td>\n",
       "      <td>0.002135</td>\n",
       "      <td>0.111111</td>\n",
       "      <td>10.025484</td>\n",
       "      <td>0.001922</td>\n",
       "      <td>1.112532</td>\n",
       "    </tr>\n",
       "    <tr>\n",
       "      <th>3977</th>\n",
       "      <td>(liquor)</td>\n",
       "      <td>(red/blush wine)</td>\n",
       "      <td>0.011083</td>\n",
       "      <td>0.019217</td>\n",
       "      <td>0.002135</td>\n",
       "      <td>0.192661</td>\n",
       "      <td>10.025484</td>\n",
       "      <td>0.001922</td>\n",
       "      <td>1.214833</td>\n",
       "    </tr>\n",
       "  </tbody>\n",
       "</table>\n",
       "</div>"
      ],
      "text/plain": [
       "                  antecedents              consequents  antecedent support  \\\n",
       "4145                (mustard)             (mayonnaise)            0.011998   \n",
       "4144             (mayonnaise)                (mustard)            0.009151   \n",
       "12           (hamburger meat)  (Instant food products)            0.033249   \n",
       "13    (Instant food products)         (hamburger meat)            0.008033   \n",
       "2657              (detergent)               (softener)            0.019217   \n",
       "2656               (softener)              (detergent)            0.005491   \n",
       "3976         (red/blush wine)                 (liquor)            0.019217   \n",
       "3977                 (liquor)         (red/blush wine)            0.011083   \n",
       "\n",
       "      consequent support   support  confidence       lift  leverage  \\\n",
       "4145            0.009151  0.001423    0.118644  12.965160  0.001314   \n",
       "4144            0.011998  0.001423    0.155556  12.965160  0.001314   \n",
       "12              0.008033  0.003050    0.091743  11.421438  0.002783   \n",
       "13              0.033249  0.003050    0.379747  11.421438  0.002783   \n",
       "2657            0.005491  0.001118    0.058201  10.600137  0.001013   \n",
       "2656            0.019217  0.001118    0.203704  10.600137  0.001013   \n",
       "3976            0.011083  0.002135    0.111111  10.025484  0.001922   \n",
       "3977            0.019217  0.002135    0.192661  10.025484  0.001922   \n",
       "\n",
       "      conviction  \n",
       "4145    1.124233  \n",
       "4144    1.170002  \n",
       "12      1.092166  \n",
       "13      1.558640  \n",
       "2657    1.055968  \n",
       "2656    1.231681  \n",
       "3976    1.112532  \n",
       "3977    1.214833  "
      ]
     },
     "execution_count": 23,
     "metadata": {},
     "output_type": "execute_result"
    }
   ],
   "source": [
    "rules[rules['lift'].gt(10)]"
   ]
  },
  {
   "cell_type": "markdown",
   "id": "2d246e31",
   "metadata": {},
   "source": [
    "Finally I wanted to look at the relationship with support and confidence and how they influence lift, we can see a slight regression where support and confidence both increase in a linear fashion. Some of the larger lift values share similar support/confidence with small values so they don't apper in the plot. The table above shows the largest lift values."
   ]
  },
  {
   "cell_type": "markdown",
   "id": "157e4dad",
   "metadata": {},
   "source": [
    "### Conclusion"
   ]
  },
  {
   "cell_type": "markdown",
   "id": "c0dffcdb",
   "metadata": {},
   "source": [
    "Exploring the grocery data set has exposed a lot of secrets in the grocery business. By implementing an apriori logrithm we found that certain items have strong association with other items making the pair a good target for coupons/adds. When it comes to item placement it would be a good idea to place items with high lift scores apart so customers will be exposed to other products along the way. I am certain many grocery stores already implement these approaches to maximize profit.\n",
    "\n",
    "However the analysis done here shouldn't be stretch too far since we saw the support values are too low. More data is needed to make strong connections between items. Futhermore the dataset was small making it more likely that what we found isn't statistically significant."
   ]
  }
 ],
 "metadata": {
  "kernelspec": {
   "display_name": "Python 3",
   "language": "python",
   "name": "python3"
  },
  "language_info": {
   "codemirror_mode": {
    "name": "ipython",
    "version": 3
   },
   "file_extension": ".py",
   "mimetype": "text/x-python",
   "name": "python",
   "nbconvert_exporter": "python",
   "pygments_lexer": "ipython3",
   "version": "3.7.10"
  }
 },
 "nbformat": 4,
 "nbformat_minor": 5
}

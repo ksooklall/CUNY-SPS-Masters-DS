{
 "cells": [
  {
   "cell_type": "markdown",
   "metadata": {},
   "source": [
    "# Diabetes\n",
    "by Kenan Sooklall\n",
    "\n",
    "Diabetes is a chronic (long-lasting) health condition that affects how your body turns food into energy.\n",
    "\n",
    "Most of the food you eat is broken down into sugar (also called glucose) and released into your bloodstream. When your blood sugar goes up, it signals your pancreas to release insulin. Insulin acts like a key to let the blood sugar into your body’s cells for use as energy.\n",
    "\n",
    "Source: [Centers for Disease Control and Preventation](https://www.cdc.gov/diabetes/basics/diabetes.html)"
   ]
  },
  {
   "cell_type": "code",
   "execution_count": null,
   "metadata": {},
   "outputs": [],
   "source": [
    "import pandas as pd\n",
    "import numpy as np\n",
    "\n",
    "import plotly.express as px\n",
    "import matplotlib.pyplot as plt\n",
    "import seaborn as sns; sns.set()\n",
    "\n",
    "import shap\n",
    "from sklearn.linear_model import LogisticRegression, LogisticRegressionCV\n",
    "from sklearn.ensemble import AdaBoostClassifier, GradientBoostingClassifier, RandomForestClassifier\n",
    "\n",
    "from sklearn.preprocessing import StandardScaler\n",
    "from sklearn.preprocessing import LabelEncoder\n",
    "from sklearn.metrics import classification_report, roc_auc_score\n",
    "from sklearn.model_selection import train_test_split, cross_validate, cross_val_score, RepeatedKFold\n",
    "%matplotlib inline"
   ]
  },
  {
   "cell_type": "markdown",
   "metadata": {},
   "source": [
    "Dropping\n",
    "- A lot of missing values\n",
    "    - weight \n",
    "    - payer code\n",
    "    - medical_specialty\n",
    "- Only one value\n",
    "    - examide, citoglipton have \n",
    "- Conflict\n",
    "    - race\n",
    "- Duplicated patient_nbr"
   ]
  },
  {
   "cell_type": "code",
   "execution_count": null,
   "metadata": {},
   "outputs": [],
   "source": [
    "#df = pd.read_csv('abhishek_diabetes.csv', index_col=[0]).query('Diabetes_012 != \"1\"').rename(columns={'Diabetes_012': 'label'})\n",
    "#df['label'] = df['label'].map({0: 0, 2: 1})\n",
    "drop_cols = ['examide', 'citoglipton', 'encounter_id','weight', 'payer_code', 'medical_specialty', 'race', 'glimepiride-pioglitazone']\n",
    "df = pd.read_csv('dataset_diabetes/diabetic_data.csv').drop(drop_cols, axis=1).\\\n",
    "            replace('?', np.nan).\\\n",
    "            drop_duplicates(subset=['patient_nbr']).\\\n",
    "            drop(['patient_nbr'], axis=1)\n",
    "df['readmitted'] = df['readmitted'].map({'NO': 0, '>30': 1, '<30': 1})"
   ]
  },
  {
   "cell_type": "code",
   "execution_count": null,
   "metadata": {},
   "outputs": [],
   "source": [
    "young = 'young'\n",
    "middle = 'adult'\n",
    "old = 'old'\n",
    "\n",
    "age_mapping = {'[0-10)': young, '[10-20)': young, '[20-30)': young, '[30-40)': middle, '[40-50)': middle, '[50-60)': middle,\n",
    "         '[60-70)': old, '[70-80)': old, '[80-90)': old, '[90-100)': old}\n",
    "df['age_mapped'] = df['age'].map(age_mapping)"
   ]
  },
  {
   "cell_type": "code",
   "execution_count": null,
   "metadata": {},
   "outputs": [],
   "source": [
    "drug_cols = ['metformin', 'repaglinide', 'nateglinide', 'chlorpropamide',\n",
    "             'glimepiride', 'acetohexamide', 'glipizide', 'glyburide', 'tolbutamide',\n",
    "             'pioglitazone', 'rosiglitazone', 'acarbose', 'miglitol', 'troglitazone',\n",
    "             'tolazamide', 'insulin', 'glyburide-metformin', 'glipizide-metformin', \n",
    "             'metformin-rosiglitazone', 'metformin-pioglitazone']\n",
    "diag_cols = ['Circulatory', 'Diabetes', 'Digestive', 'Genitourinary', 'Injury', \n",
    "             'Muscoloskeletal', 'Neoplasms', 'Other', 'Respiratory']"
   ]
  },
  {
   "cell_type": "code",
   "execution_count": null,
   "metadata": {
    "id": "alZGLv02ZpuB"
   },
   "outputs": [],
   "source": [
    "print(df.shape)\n",
    "df.head()"
   ]
  },
  {
   "cell_type": "markdown",
   "metadata": {},
   "source": [
    "difference between high blood sugar >200 and very high blood sugar >300\n",
    "   - how certain medication doses goes up"
   ]
  },
  {
   "cell_type": "code",
   "execution_count": null,
   "metadata": {},
   "outputs": [],
   "source": [
    "def glu_plots(df, target):\n",
    "    fig, axs = plt.subplots(5, 4, figsize = (15, 10))\n",
    "    for idx, i in enumerate(axs.flatten()):\n",
    "        drug = drug_cols[idx]\n",
    "        sns.countplot(data=df[drug_cols + [target]], x=drug, hue=target, ax=i)#.set(title=drug)\n",
    "        i.set_yticks([0, 500,1000,1500])\n",
    "        \n",
    "        if idx != 3:\n",
    "            i.legend([],[], frameon=False)\n",
    "        else:\n",
    "            i.legend(title=target, loc='upper right')\n",
    "    \n",
    "    plt.tight_layout()"
   ]
  },
  {
   "cell_type": "code",
   "execution_count": null,
   "metadata": {},
   "outputs": [],
   "source": [
    "glu_plots(df[df['max_glu_serum'].ne('None')].reset_index(drop=True), target='max_glu_serum')"
   ]
  },
  {
   "cell_type": "markdown",
   "metadata": {},
   "source": [
    "   - number of changes"
   ]
  },
  {
   "cell_type": "code",
   "execution_count": null,
   "metadata": {},
   "outputs": [],
   "source": [
    "df.columns"
   ]
  },
  {
   "cell_type": "markdown",
   "metadata": {},
   "source": [
    "The data set contains 22 columns and 253680 rows\n",
    "- Encounter ID: Unique identifier of an encounter\n",
    "- Patient number: Unique identifier of a patient\n",
    "- Race Values: Caucasian, Asian, African American, Hispanic, and other\n",
    "- Gender Values: male, female, and unknown/invalid\n",
    "- Age: Grouped in 10-year intervals - 0, 10), 10, 20), …, 90, 100)\n",
    "- Weight: Weight in pounds\n",
    "- Admission type: Integer identifier corresponding to 9 distinct values, for example, emergency, urgent, elective, newborn, and not available\n",
    "- Discharge disposition: Integer identifier corresponding to 29 distinct values, for example, discharged to home, expired, and not available\n",
    "- Admission source: Integer identifier corresponding to 21 distinct values, for example, physician referral, emergency room, and transfer from a hospital\n",
    "- Time in hospital: Integer number of days between admission and discharge\n",
    "- Payer code: Integer identifier corresponding to 23 distinct values, for example, Blue Cross/Blue Shield, Medicare, and self-pay Medical\n",
    "- Medical specialty: Integer identifier of a specialty of the admitting physician, corresponding to 84 distinct values, for example, cardiology, internal medicine, family/general practice, and surgeon\n",
    "- Number of lab: procedures Number of lab tests performed during the encounter\n",
    "- Number of procedures: Numeric Number of procedures (other than lab tests) performed during the encounter\n",
    "- Number of medications: Number of distinct generic names administered during the encounter\n",
    "- Number of outpatient: visits Number of outpatient visits of the patient in the year preceding the encounter\n",
    "- Number of emergency: visits Number of emergency visits of the patient in the year preceding the encounter\n",
    "- Number of inpatient: visits Number of inpatient visits of the patient in the year preceding the encounter\n",
    "- Diagnosis 1: The primary diagnosis (coded as first three digits of ICD9); 848 distinct values\n",
    "- Diagnosis 2: Secondary diagnosis (coded as first three digits of ICD9); 923 distinct values\n",
    "- Diagnosis 3: Additional secondary diagnosis (coded as first three digits of ICD9); 954 distinct values\n",
    "- Number of diagnoses: Number of diagnoses entered to the system 0%\n",
    "- Glucose serum test: result Indicates the range of the result or if the test was not taken. Values: “>200,” “>300,” “normal,” and “none” if not measured\n",
    "- A1c test result: Indicates the range of the result or if the test was not taken. Values - '>8' if the result was greater than 8%, “>7” if the result was greater than 7% but less than 8%, “normal” if the result was less than 7%, and “none” if not measured. 7% to 8% is an increase of ~30mg/dl of glucose, 6%=120mg/dl\n",
    "- Change of medications: Indicates if there was a change in diabetic medications (either dosage or generic name). Values - 'change' and 'no change'\n",
    "- Diabetes medications: Indicates if there was any diabetic medication prescribed. Values: 'yes' and 'no'\n",
    "- 24 features for medications: glyburide-metformin, glipizide-metformin, glimepiride-pioglitazone, metformin-rosiglitazone, and metformin-pioglitazone, the feature indicates whether the drug was prescribed or there was a change in the dosage. Values - 'up' if the dosage was increased during the encounter, 'down' if the dosage was decreased, 'steady' if the dosage did not change, and 'no' if the drug was not prescribed\n",
    "- Readmitted Days: Values '<30' if the patient was readmitted in less than 30 days, '>30' if the patient was readmitted in more than 30 days, and 'No' for no record of readmission\n",
    "\n",
    "source: https://archive-beta.ics.uci.edu/ml/datasets/diabetes+130+us+hospitals+for+years+1999+2008"
   ]
  },
  {
   "cell_type": "markdown",
   "metadata": {},
   "source": [
    "###  Exploratory Data Analysis"
   ]
  },
  {
   "cell_type": "markdown",
   "metadata": {},
   "source": [
    "Very lucky to find a dataset with no missing values and no duplicated rows"
   ]
  },
  {
   "cell_type": "markdown",
   "metadata": {},
   "source": [
    "we can see the data are all on very different scales, which is to be expected. An initial point of concern is  SkinThichkness of 0mm, however that could be more of a percision issue. Another column of concern is BMI, BloodPressure and Glucose, it can't be 0. The min age being greater than 0 is expected and all other values look normal"
   ]
  },
  {
   "cell_type": "code",
   "execution_count": null,
   "metadata": {},
   "outputs": [],
   "source": [
    "metrics = ['mean', 'median', 'std']\n",
    "df.groupby(['readmitted']).agg({\"number_diagnoses\": metrics,\n",
    "                            \"num_medications\": metrics,\n",
    "                               'num_procedures': metrics,\n",
    "                               'time_in_hospital': metrics\n",
    "                               })"
   ]
  },
  {
   "cell_type": "code",
   "execution_count": null,
   "metadata": {},
   "outputs": [],
   "source": [
    "sns.countplot(x='readmitted', data=df, hue='gender')"
   ]
  },
  {
   "cell_type": "markdown",
   "metadata": {},
   "source": [
    "gender seems to be mostly independant if someone will be remitted"
   ]
  },
  {
   "cell_type": "code",
   "execution_count": null,
   "metadata": {},
   "outputs": [],
   "source": [
    "plt.figure(figsize=(14, 8))\n",
    "sns.countplot(x='readmitted', data=df, hue='age_mapped')\n",
    "#plt.savefig('age.jpg')"
   ]
  },
  {
   "cell_type": "markdown",
   "metadata": {},
   "source": [
    "The older portion of the population is the majority for all ranges of readmitted"
   ]
  },
  {
   "cell_type": "code",
   "execution_count": null,
   "metadata": {},
   "outputs": [],
   "source": [
    "df[['age_mapped', 'A1Cresult', 'readmitted']].query('A1Cresult != \"None\"').sample(50).to_csv('sample_df.csv', index=False)"
   ]
  },
  {
   "cell_type": "code",
   "execution_count": null,
   "metadata": {},
   "outputs": [],
   "source": [
    "plt.figure(figsize=(14, 8))\n",
    "sns.barplot(x='readmitted', data=df[df['A1Cresult'].ne('None')], hue='age_mapped')"
   ]
  },
  {
   "cell_type": "code",
   "execution_count": null,
   "metadata": {},
   "outputs": [],
   "source": [
    "plt.figure(figsize=(14, 8))\n",
    "sns.countplot(x='readmitted', data=df[df['max_glu_serum'].ne('None')], hue='max_glu_serum', hue_order=['>300', '>200', 'Norm'])"
   ]
  },
  {
   "cell_type": "code",
   "execution_count": null,
   "metadata": {},
   "outputs": [],
   "source": [
    "sns.scatterplot(x='age', y='time_in_hospital', data=df, hue='readmitted')"
   ]
  },
  {
   "cell_type": "markdown",
   "metadata": {},
   "source": [
    "## Feature extractor"
   ]
  },
  {
   "cell_type": "markdown",
   "metadata": {},
   "source": [
    "Quantify categorical data"
   ]
  },
  {
   "cell_type": "markdown",
   "metadata": {},
   "source": [
    "quantify variables\n",
    "- age - take the median values\n",
    "- readmitted - 0: NO 1: other"
   ]
  },
  {
   "cell_type": "code",
   "execution_count": null,
   "metadata": {},
   "outputs": [],
   "source": [
    "df = df.replace(['No','NO', 'None', 'Steady', 'Up', 'Down', 'Yes', 'Ch', 'Norm'], [0,0,0,1,1,1,1,1,1])\n",
    "df['age'] = df['age'].map(lambda x: sum([int(i) for i in x[1:-1].split('-')]) // 2)\n",
    "df['max_glu_serum_num'] = df['max_glu_serum'].map({0: 0, 1: 1, '>200': 1, '>300': 1}).astype(int)\n",
    "df['A1Cresult_num'] = df['A1Cresult'].map({0: 0, 1: 1, '>8': 1, '>7': 1}).astype(int)\n",
    "df['gender'] = df['gender'].map({'Male': 0, 'Female': 1})\n",
    "df = df.dropna(subset=['gender'])"
   ]
  },
  {
   "cell_type": "markdown",
   "metadata": {},
   "source": [
    "Map ids"
   ]
  },
  {
   "cell_type": "code",
   "execution_count": null,
   "metadata": {},
   "outputs": [],
   "source": [
    "def map_diagnosis(df, cols):    \n",
    "    for i in cols:\n",
    "        df[i] = pd.to_numeric(df[i], errors='coerce')\n",
    "    \n",
    "    for col in cols:\n",
    "        df[\"diag\"] = 'Other'\n",
    "        df.loc[df[col].between(459, 785) | df[col].eq(785), \"diag\"] = \"Circulatory\"\n",
    "        df.loc[df[col].between(460, 519) | df[col].eq(786), \"diag\"] = \"Respiratory\"\n",
    "        df.loc[df[col].between(520, 579) | df[col].eq(787), \"diag\"] = \"Digestive\"\n",
    "        df.loc[df[col].between(250, 251), \"diag\"] = \"Diabetes\"\n",
    "        df.loc[df[col].between(800, 999), \"diag\"] = \"Injury\"\n",
    "        df.loc[df[col].between(710, 739), \"diag\"] = \"Muscoloskeletal\"\n",
    "        df.loc[df[col].between(580, 629) | df[col].eq(788), \"diag\"] = \"Genitourinary\"\n",
    "        neoplasms_codes = df[col].between(140, 249) | df[col].between(251, 279) | df[col].isin([780,781,784]) | df[col].between(790, 799)\n",
    "        df.loc[neoplasms_codes, \"diag\"] = \"Neoplasms\"\n",
    "        df[col] = df[\"diag\"]\n",
    "        df = df.drop(\"diag\", axis=1)\n",
    "\n",
    "    return df"
   ]
  },
  {
   "cell_type": "code",
   "execution_count": null,
   "metadata": {},
   "outputs": [],
   "source": [
    "df = map_diagnosis(df, [\"diag_1\",\"diag_2\",\"diag_3\"])"
   ]
  },
  {
   "cell_type": "markdown",
   "metadata": {},
   "source": [
    "Get dummies for diag columns"
   ]
  },
  {
   "cell_type": "code",
   "execution_count": null,
   "metadata": {},
   "outputs": [],
   "source": [
    "diag = pd.get_dummies(df['diag_1']) + pd.get_dummies(df['diag_2']) + pd.get_dummies(df['diag_3'])\n",
    "df = pd.concat([df.drop(df.filter(like='diag_').columns, axis=1), diag], axis=1)"
   ]
  },
  {
   "cell_type": "code",
   "execution_count": null,
   "metadata": {},
   "outputs": [],
   "source": [
    "df = pd.concat([df.drop(['age_mapped'], axis=1), pd.get_dummies(df['age_mapped'])], axis=1)"
   ]
  },
  {
   "cell_type": "code",
   "execution_count": null,
   "metadata": {},
   "outputs": [],
   "source": [
    "plt.figure(figsize=(14, 8))\n",
    "sns.heatmap(df[drug_cols + ['readmitted']].set_index('readmitted'))"
   ]
  },
  {
   "cell_type": "code",
   "execution_count": null,
   "metadata": {},
   "outputs": [],
   "source": [
    "df.head()"
   ]
  },
  {
   "cell_type": "code",
   "execution_count": null,
   "metadata": {},
   "outputs": [],
   "source": [
    "sns.countplot(data=df[['tolazamide'] + ['readmitted']], x='tolazamide', hue='readmitted')"
   ]
  },
  {
   "cell_type": "code",
   "execution_count": null,
   "metadata": {},
   "outputs": [],
   "source": [
    "fig, axs = plt.subplots(5, 4, figsize = (15, 10))\n",
    "for idx, i in enumerate(axs.flatten()):\n",
    "    drug = drug_cols[idx]\n",
    "    sns.countplot(data=df[drug_cols + ['readmitted']], x=drug, hue='readmitted', ax=i)#.set(title=drug)\n",
    "    i.set_yticks([0, 1e4,2e4,3e4,4e4])\n",
    "\n",
    "    if idx != 3:\n",
    "        i.legend([],[], frameon=False)\n",
    "    else:\n",
    "        i.legend(title=\"Readmitted\", loc='upper right')\n",
    "\n",
    "plt.tight_layout()"
   ]
  },
  {
   "cell_type": "code",
   "execution_count": null,
   "metadata": {},
   "outputs": [],
   "source": [
    "df[df.columns[~df.columns.isin(drug_cols + diag_cols)]].head()"
   ]
  },
  {
   "cell_type": "code",
   "execution_count": null,
   "metadata": {},
   "outputs": [],
   "source": [
    "df['A1Cresult'].value_counts()"
   ]
  },
  {
   "cell_type": "markdown",
   "metadata": {},
   "source": [
    "Closer look at A1C results and Glucose serum test"
   ]
  },
  {
   "cell_type": "code",
   "execution_count": null,
   "metadata": {},
   "outputs": [],
   "source": [
    "df[df['A1Cresult'].ne(0) & df['max_glu_serum'].ne(0)][glucose_tests + ['readmitted']]."
   ]
  },
  {
   "cell_type": "code",
   "execution_count": null,
   "metadata": {},
   "outputs": [],
   "source": [
    "a1c_df = pd.get_dummies(df[df['A1Cresult'].ne(0)]['A1Cresult']).merge(df[['readmitted']], left_index=True, right_index=True).rename(columns={1: 'normal'}).reset_index(drop=True)\n",
    "glu_df = pd.get_dummies(df[df['max_glu_serum'].ne(0)]['max_glu_serum']).merge(df[['readmitted']], left_index=True, right_index=True).rename(columns={1: 'normal'}).reset_index(drop=True)\n",
    "a1c_glu_df = pd.concat([a1c_df, glu_df.drop('readmitted', axis=1)], axis=1).dropna()"
   ]
  },
  {
   "cell_type": "code",
   "execution_count": null,
   "metadata": {},
   "outputs": [],
   "source": [
    "a1c_glu_df['readmitted'].value_counts(normalize=True)"
   ]
  },
  {
   "cell_type": "code",
   "execution_count": null,
   "metadata": {},
   "outputs": [],
   "source": [
    "sns.countplot(x='readmitted', data=df[df['A1Cresult'].ne(0)], hue='A1Cresult')"
   ]
  },
  {
   "cell_type": "code",
   "execution_count": null,
   "metadata": {},
   "outputs": [],
   "source": [
    "sns.countplot(x='readmitted', data=df[df['max_glu_serum'].ne(0)], hue='max_glu_serum')"
   ]
  },
  {
   "cell_type": "markdown",
   "metadata": {},
   "source": [
    "time in hospital\n",
    " - staying longer lead to high readmittion"
   ]
  },
  {
   "cell_type": "code",
   "execution_count": null,
   "metadata": {},
   "outputs": [],
   "source": [
    "df[['time_in_hospital', 'readmitted']].groupby('readmitted')['time_in_hospital'].sum()"
   ]
  },
  {
   "cell_type": "markdown",
   "metadata": {},
   "source": [
    "Dropped for mostly 0s\n",
    " - number_inpatient\n",
    " - number_emergency\n",
    " - number_outpatient\n",
    " - max_glu_serum\n",
    " - A1Cresult"
   ]
  },
  {
   "cell_type": "code",
   "execution_count": null,
   "metadata": {},
   "outputs": [],
   "source": [
    "df['readmitted'].value_counts(normalize=True)"
   ]
  },
  {
   "cell_type": "markdown",
   "metadata": {},
   "source": [
    "# Modeling"
   ]
  },
  {
   "cell_type": "code",
   "execution_count": null,
   "metadata": {},
   "outputs": [],
   "source": [
    "diag_cols"
   ]
  },
  {
   "cell_type": "code",
   "execution_count": null,
   "metadata": {},
   "outputs": [],
   "source": [
    "features = ['gender', 'old', 'young', 'adult', 'time_in_hospital', 'num_lab_procedures', \n",
    "            'num_procedures', 'num_medications', 'number_diagnoses', 'diabetesMed', 'change']\n",
    "glucose_tests = ['max_glu_serum_num', 'A1Cresult_num']\n",
    "num_cols = ['time_in_hospital','num_lab_procedures', 'num_medications','number_diagnoses']"
   ]
  },
  {
   "cell_type": "markdown",
   "metadata": {},
   "source": [
    "### Logistic Regression\n",
    "This is a classification problem so LogisticRegression  is a good starting model"
   ]
  },
  {
   "cell_type": "code",
   "execution_count": null,
   "metadata": {},
   "outputs": [],
   "source": [
    "diab_df = df[features + diag_cols + glucose_tests + ['readmitted']]\n",
    "#diab_df = a1c_glu_df"
   ]
  },
  {
   "cell_type": "code",
   "execution_count": null,
   "metadata": {},
   "outputs": [],
   "source": [
    "scaler = StandardScaler()\n",
    "diab_df.loc[:, num_cols] = scaler.fit_transform(df[num_cols])"
   ]
  },
  {
   "cell_type": "code",
   "execution_count": null,
   "metadata": {},
   "outputs": [],
   "source": [
    "diab_df.head()"
   ]
  },
  {
   "cell_type": "code",
   "execution_count": null,
   "metadata": {},
   "outputs": [],
   "source": [
    "seed = 42\n",
    "train_cols = diab_df.drop(['readmitted'], axis=1).columns\n",
    "X_train, X_test, y_train, y_test = train_test_split(diab_df.drop(['readmitted'], axis=1), diab_df['readmitted'], test_size=0.15)"
   ]
  },
  {
   "cell_type": "markdown",
   "metadata": {},
   "source": [
    "I fine tune the model using sklearn grid search cross validation on 10 splits. The grid is the search space"
   ]
  },
  {
   "cell_type": "code",
   "execution_count": null,
   "metadata": {},
   "outputs": [],
   "source": [
    "lg_model = LogisticRegression(random_state=seed, penalty='l2').fit(X_train, y_train)\n",
    "stats = cross_validate(lg_model, X_train, y_train, cv=10, scoring=[\"accuracy\", \"precision\", \"recall\", \"f1\", \"roc_auc\"])"
   ]
  },
  {
   "cell_type": "code",
   "execution_count": null,
   "metadata": {},
   "outputs": [],
   "source": [
    "y_pred = lg_model.predict(X_test)\n",
    "logistic_report = classification_report(y_test, y_pred, target_names=['no', 'yes'])\n",
    "print(logistic_report)"
   ]
  },
  {
   "cell_type": "code",
   "execution_count": null,
   "metadata": {},
   "outputs": [],
   "source": [
    "print('\\n'.join(classification_report(y_test, y_pred, target_names=['no', 'yes']).split('\\n')[:4]).replace('\\n\\n', '\\n'))"
   ]
  },
  {
   "cell_type": "code",
   "execution_count": null,
   "metadata": {},
   "outputs": [],
   "source": [
    "print(f'Training score: {lg_model.score(X_train, y_train)}\\nTesting score: {lg_model.score(X_test, y_test)}')"
   ]
  },
  {
   "cell_type": "code",
   "execution_count": null,
   "metadata": {},
   "outputs": [],
   "source": [
    "y_prob = lg_model.predict_proba(X_test)[:, 1]\n",
    "roc_auc_score(y_test, y_prob)"
   ]
  },
  {
   "cell_type": "code",
   "execution_count": null,
   "metadata": {},
   "outputs": [],
   "source": [
    "feature_imp = pd.DataFrame({'Value': lg_model.coef_[0], 'Feature': X_train.columns})\n",
    "plt.figure(figsize=(10, 6))\n",
    "sns.set(font_scale=1)\n",
    "sns.barplot(x=\"Value\", y=\"Feature\", data=feature_imp.sort_values(by=\"Value\", ascending=False)[0:10])\n",
    "plt.title('Features')\n",
    "plt.tight_layout()\n",
    "plt.show()"
   ]
  },
  {
   "cell_type": "code",
   "execution_count": null,
   "metadata": {},
   "outputs": [],
   "source": [
    "row_to_show = 6\n",
    "data_for_prediction = X_test.iloc[row_to_show]  # use 1 row of data here. Could use multiple rows if desired\n",
    "data_for_prediction_array = data_for_prediction.values.reshape(1, -1)"
   ]
  },
  {
   "cell_type": "code",
   "execution_count": null,
   "metadata": {},
   "outputs": [],
   "source": [
    "k_explainer = shap.KernelExplainer(lg_model.predict_proba, X_test)\n",
    "k_shap_values = k_explainer.shap_values(data_for_prediction)\n",
    "shap.force_plot(k_explainer.expected_value[1], k_shap_values[1], data_for_prediction)"
   ]
  },
  {
   "cell_type": "code",
   "execution_count": null,
   "metadata": {},
   "outputs": [],
   "source": [
    "rf_model = RandomForestClassifier()\n",
    "rf_model.fit(X_train,y_train)"
   ]
  },
  {
   "cell_type": "code",
   "execution_count": null,
   "metadata": {},
   "outputs": [],
   "source": [
    "rf_model.score(X_train, y_train)"
   ]
  },
  {
   "cell_type": "code",
   "execution_count": null,
   "metadata": {},
   "outputs": [],
   "source": [
    "rf_model.score(X_test,y_test)"
   ]
  },
  {
   "cell_type": "code",
   "execution_count": null,
   "metadata": {},
   "outputs": [],
   "source": [
    "plt.figure(figsize=(12,6))\n",
    "sns.barplot(sorted(rf_model.feature_importances_),train_cols)"
   ]
  },
  {
   "cell_type": "code",
   "execution_count": null,
   "metadata": {},
   "outputs": [],
   "source": [
    "print(rf_model.predict_proba(data_for_prediction_array))\n",
    "explainer = shap.TreeExplainer(rf_model)\n",
    "\n",
    "# Calculate Shap values\n",
    "shap_values = explainer.shap_values(data_for_prediction)\n",
    "shap.initjs()\n",
    "shap.force_plot(explainer.expected_value[1], shap_values[1], data_for_prediction)"
   ]
  },
  {
   "cell_type": "code",
   "execution_count": null,
   "metadata": {},
   "outputs": [],
   "source": [
    "rf_shap_values = explainer.shap_values(X_test)\n",
    "shap.summary_plot(rf_shap_values, X_test)"
   ]
  },
  {
   "cell_type": "code",
   "execution_count": null,
   "metadata": {},
   "outputs": [],
   "source": [
    "shap.summary_plot(shap_values, X_train, plot_type=\"bar\")"
   ]
  },
  {
   "cell_type": "code",
   "execution_count": null,
   "metadata": {},
   "outputs": [],
   "source": [
    "clf = AdaBoostClassifier(n_estimators=100)\n",
    "clf.fit(X_train, y_train)\n",
    "\n",
    "y_pred = clf.predict(X_test)\n",
    "logistic_report = classification_report(y_test, y_pred, target_names=['no', 'yes'])\n",
    "print(logistic_report)"
   ]
  },
  {
   "cell_type": "code",
   "execution_count": null,
   "metadata": {},
   "outputs": [],
   "source": [
    "k_explainer = shap.KernelExplainer(clf.predict_proba, X_test)\n",
    "k_shap_values = k_explainer.shap_values(data_for_prediction)\n",
    "shap.force_plot(k_explainer.expected_value[1], k_shap_values[1], data_for_prediction)"
   ]
  },
  {
   "cell_type": "code",
   "execution_count": null,
   "metadata": {},
   "outputs": [],
   "source": [
    "gbc = GradientBoostingClassifier(n_estimators=250, learning_rate=.01, max_depth=5, random_state=0)\n",
    "gbc.fit(X_train, y_train)\n",
    "\n",
    "y_pred = gbc.predict(X_test)\n",
    "logistic_report = classification_report(y_test, y_pred, target_names=['no', 'yes'])\n",
    "print(logistic_report)"
   ]
  },
  {
   "cell_type": "markdown",
   "metadata": {},
   "source": [
    "### Multi-layer Perceptron"
   ]
  },
  {
   "cell_type": "code",
   "execution_count": null,
   "metadata": {},
   "outputs": [],
   "source": [
    "import torch\n",
    "import torch.nn as nn"
   ]
  },
  {
   "cell_type": "code",
   "execution_count": null,
   "metadata": {},
   "outputs": [],
   "source": [
    "LEARNING_RATE = 1e-1\n",
    "DENSE = 64\n",
    "EPOCHS = 100"
   ]
  },
  {
   "cell_type": "code",
   "execution_count": null,
   "metadata": {},
   "outputs": [],
   "source": [
    "torch.manual_seed(seed)\n",
    "device = torch.device('cpu')\n",
    "\n",
    "model = nn.Sequential(\n",
    "    nn.Linear(X_train.shape[1], DENSE),\n",
    "    nn.ReLU(inplace=True),\n",
    "    nn.BatchNorm1d(DENSE),\n",
    "    nn.Linear(DENSE, DENSE//2),\n",
    "    nn.ReLU(inplace=True),\n",
    "    nn.BatchNorm1d(DENSE//2),\n",
    "    nn.Linear(DENSE//2, 1)\n",
    "    )\n",
    "\n",
    "model.float().to(device)"
   ]
  },
  {
   "cell_type": "code",
   "execution_count": null,
   "metadata": {},
   "outputs": [],
   "source": [
    "criterion = nn.BCEWithLogitsLoss()\n",
    "optimizer = torch.optim.SGD(model.parameters(), lr=LEARNING_RATE)\n",
    "scheduler = torch.optim.lr_scheduler.OneCycleLR(optimizer, max_lr=1, steps_per_epoch=10, epochs=EPOCHS)"
   ]
  },
  {
   "cell_type": "code",
   "execution_count": null,
   "metadata": {},
   "outputs": [],
   "source": [
    "X_tensor = torch.tensor(X_train.values).float().to(device)\n",
    "y_tensor = torch.tensor(y_train.values.reshape(y_train.shape[0], 1)).float().to(device)"
   ]
  },
  {
   "cell_type": "code",
   "execution_count": null,
   "metadata": {},
   "outputs": [],
   "source": [
    "best_acc = 0\n",
    "best_model = None\n",
    "history = []\n",
    "\n",
    "for i in range(EPOCHS):\n",
    "    y_pred = model(X_tensor)\n",
    "    loss = criterion(y_pred.float(), y_tensor)\n",
    "    acc = ((y_pred > 0.5).int() == y_tensor).sum() / X_tensor.shape[0]\n",
    "    \n",
    "    optimizer.zero_grad()\n",
    "    loss.backward()\n",
    "    optimizer.step()\n",
    "    scheduler.step()\n",
    "    \n",
    "    history.append({'epoch': i, 'loss': loss.item(), 'acc': acc.item()})\n",
    "    lr = optimizer.param_groups[0]['lr']\n",
    "    \n",
    "    if i % (EPOCHS/10) == 0:\n",
    "        print('Epoch: {} \\tloss: {:.3f} \\tacc: {:.3f} \\tlr: {:.4f}'.format(i, loss.item(), acc.item(), lr))\n",
    "        \n",
    "    if acc > best_acc:\n",
    "        #print('[+] Saving best')\n",
    "        best_acc = acc\n",
    "        best_model = model"
   ]
  },
  {
   "cell_type": "code",
   "execution_count": null,
   "metadata": {},
   "outputs": [],
   "source": [
    "fig, ax = plt.subplots(2, 1, figsize=(12,8))\n",
    "train_df = pd.DataFrame(history)\n",
    "train_df.plot(x='epoch', y='loss', title='Training loss', ax=ax[0])\n",
    "train_df.plot(x='epoch', y='acc', title='Training Accuracy', ax=ax[1])\n",
    "plt.tight_layout()"
   ]
  },
  {
   "cell_type": "code",
   "execution_count": null,
   "metadata": {},
   "outputs": [],
   "source": [
    "y_prob = best_model(torch.tensor(X_test.values).float().to(device))\n",
    "roc_auc_score(y_test, y_prob.detach().numpy())"
   ]
  },
  {
   "cell_type": "code",
   "execution_count": null,
   "metadata": {},
   "outputs": [],
   "source": [
    "y_pred = (y_prob > 0.5).int().detach().numpy()\n",
    "mlp_report = classification_report(y_test, y_pred, target_names=['Negative', 'Positive'])\n",
    "print(mlp_report)"
   ]
  },
  {
   "cell_type": "markdown",
   "metadata": {},
   "source": [
    "### Comparing models"
   ]
  },
  {
   "cell_type": "code",
   "execution_count": null,
   "metadata": {},
   "outputs": [],
   "source": [
    "print('Logistic Regression')\n",
    "print('-' * 60)\n",
    "print(logistic_report + '\\n')\n",
    "print('Multi-layer Perceptron')\n",
    "print('-' * 60)\n",
    "print(mlp_report)\n"
   ]
  },
  {
   "cell_type": "markdown",
   "metadata": {},
   "source": [
    "Over all Logistic regression provided a better model with a higher weighted avg F1-Score and all combinations of precision and recall. Both models suffer from similar problems of low precision and negative examples and  low recall on positive examples. The logistic regression also wins in the fact of how easy it is to train compare to the MLP. The MLP required a lot of tuning and computing power while logistic regression ran quickly."
   ]
  },
  {
   "cell_type": "code",
   "execution_count": null,
   "metadata": {},
   "outputs": [],
   "source": []
  },
  {
   "cell_type": "code",
   "execution_count": null,
   "metadata": {},
   "outputs": [],
   "source": [
    "Xt_tensor = torch.tensor(X_test.values).float().to(device)"
   ]
  },
  {
   "cell_type": "code",
   "execution_count": null,
   "metadata": {},
   "outputs": [],
   "source": [
    "explainer = shap.DeepExplainer(model, data=X_tensor[:1000])\n",
    "shap_values = explainer.shap_values(Xt_tensor[:100])"
   ]
  },
  {
   "cell_type": "code",
   "execution_count": null,
   "metadata": {},
   "outputs": [],
   "source": [
    "explainer.expected_value"
   ]
  },
  {
   "cell_type": "code",
   "execution_count": null,
   "metadata": {},
   "outputs": [],
   "source": [
    "shap.initjs()\n",
    "shap.force_plot(explainer.expected_value[0], shap_values[0], Xt_tensor)"
   ]
  },
  {
   "cell_type": "markdown",
   "metadata": {
    "id": "0qztpr9kD95U"
   },
   "source": [
    "# Conclusions \n",
    "\n",
    "In the United States, 88 million adults, more than 1 in 3 have prediabetes. What’s more, more than 84% of them don’t know they have it. The analysis done in this report is just a tiny fraction of the enormous work put into this field. The models trained here can do better with more data points and more features. However with the limited data the models created performed well."
   ]
  }
 ],
 "metadata": {
  "colab": {
   "collapsed_sections": [],
   "name": "FinalProject.ipynb",
   "provenance": []
  },
  "kernelspec": {
   "display_name": "Python 3 (ipykernel)",
   "language": "python",
   "name": "python3"
  },
  "language_info": {
   "codemirror_mode": {
    "name": "ipython",
    "version": 3
   },
   "file_extension": ".py",
   "mimetype": "text/x-python",
   "name": "python",
   "nbconvert_exporter": "python",
   "pygments_lexer": "ipython3",
   "version": "3.7.10"
  }
 },
 "nbformat": 4,
 "nbformat_minor": 1
}

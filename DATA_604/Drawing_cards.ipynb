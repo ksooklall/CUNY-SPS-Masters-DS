{
 "cells": [
  {
   "cell_type": "markdown",
   "id": "c79098c0",
   "metadata": {},
   "source": [
    "Getting a Royal Flush"
   ]
  },
  {
   "cell_type": "code",
   "execution_count": 1,
   "id": "f7a94d74",
   "metadata": {},
   "outputs": [],
   "source": [
    "import random\n",
    "import pandas as pd\n",
    "\n",
    "random.seed(42)"
   ]
  },
  {
   "cell_type": "code",
   "execution_count": 2,
   "id": "3325c64d",
   "metadata": {},
   "outputs": [],
   "source": [
    "def deck():\n",
    "    \"\"\"\n",
    "    Create a deck of cards\n",
    "    \"\"\"\n",
    "    suits = ['S', 'H', 'C', 'D']\n",
    "    ranks = [str(i) for i in range(2, 11)] + ['J', 'Q', 'K', 'A']\n",
    "    cards = []\n",
    "    for r in ranks:\n",
    "        for s in suits:\n",
    "            cards.append(r+s)\n",
    "    print(cards)\n",
    "    return cards"
   ]
  },
  {
   "cell_type": "markdown",
   "id": "fc00e816",
   "metadata": {},
   "source": [
    "All full deck of cards"
   ]
  },
  {
   "cell_type": "code",
   "execution_count": 3,
   "id": "376405e3",
   "metadata": {},
   "outputs": [
    {
     "name": "stdout",
     "output_type": "stream",
     "text": [
      "['2S', '2H', '2C', '2D', '3S', '3H', '3C', '3D', '4S', '4H', '4C', '4D', '5S', '5H', '5C', '5D', '6S', '6H', '6C', '6D', '7S', '7H', '7C', '7D', '8S', '8H', '8C', '8D', '9S', '9H', '9C', '9D', '10S', '10H', '10C', '10D', 'JS', 'JH', 'JC', 'JD', 'QS', 'QH', 'QC', 'QD', 'KS', 'KH', 'KC', 'KD', 'AS', 'AH', 'AC', 'AD']\n"
     ]
    }
   ],
   "source": [
    "cards = deck()"
   ]
  },
  {
   "cell_type": "markdown",
   "id": "28ae3778",
   "metadata": {},
   "source": [
    "Now we create a list of all possible royal flushes"
   ]
  },
  {
   "cell_type": "code",
   "execution_count": 4,
   "id": "4cf4f35f",
   "metadata": {},
   "outputs": [
    {
     "data": {
      "text/plain": [
       "[{'10S', 'AS', 'JS', 'KS', 'QS'},\n",
       " {'10H', 'AH', 'JH', 'KH', 'QH'},\n",
       " {'10C', 'AC', 'JC', 'KC', 'QC'},\n",
       " {'10D', 'AD', 'JD', 'KD', 'QD'}]"
      ]
     },
     "execution_count": 4,
     "metadata": {},
     "output_type": "execute_result"
    }
   ],
   "source": [
    "rf = []\n",
    "top_ranks = ['A', 'K', 'Q', 'J', '10']\n",
    "for i in ['S', 'H', 'C', 'D']:\n",
    "    for j in top_ranks:\n",
    "        rf.append(j+i)\n",
    "rfs = [set(rf[i:i+5]) for i in range(0, len(rf), 5)]\n",
    "rfs"
   ]
  },
  {
   "cell_type": "markdown",
   "id": "497ac8d0",
   "metadata": {},
   "source": [
    "Helper function to check if a hand is a royal flush"
   ]
  },
  {
   "cell_type": "code",
   "execution_count": 5,
   "id": "2c30708d",
   "metadata": {},
   "outputs": [],
   "source": [
    "def check_royal_flush(x):\n",
    "    return True if set(x) in rfs else False"
   ]
  },
  {
   "cell_type": "markdown",
   "id": "166d5cc7",
   "metadata": {},
   "source": [
    "Make 1 million samples of 5 cards from the deck with replacement.\n",
    "\n",
    "The idea here is if I played 1 million hands how many can I assume to be royal flushes"
   ]
  },
  {
   "cell_type": "code",
   "execution_count": 6,
   "id": "3f78d8a7",
   "metadata": {},
   "outputs": [],
   "source": [
    "df = pd.DataFrame({'samples': [random.sample(cards,5) for i in range(1000000)]})"
   ]
  },
  {
   "cell_type": "code",
   "execution_count": 7,
   "id": "5f08a29f",
   "metadata": {},
   "outputs": [
    {
     "data": {
      "text/html": [
       "<div>\n",
       "<style scoped>\n",
       "    .dataframe tbody tr th:only-of-type {\n",
       "        vertical-align: middle;\n",
       "    }\n",
       "\n",
       "    .dataframe tbody tr th {\n",
       "        vertical-align: top;\n",
       "    }\n",
       "\n",
       "    .dataframe thead th {\n",
       "        text-align: right;\n",
       "    }\n",
       "</style>\n",
       "<table border=\"1\" class=\"dataframe\">\n",
       "  <thead>\n",
       "    <tr style=\"text-align: right;\">\n",
       "      <th></th>\n",
       "      <th>samples</th>\n",
       "    </tr>\n",
       "  </thead>\n",
       "  <tbody>\n",
       "    <tr>\n",
       "      <th>0</th>\n",
       "      <td>[QS, 3D, 2H, KD, 6H]</td>\n",
       "    </tr>\n",
       "    <tr>\n",
       "      <th>1</th>\n",
       "      <td>[5D, 5C, 4S, KD, 3C]</td>\n",
       "    </tr>\n",
       "    <tr>\n",
       "      <th>2</th>\n",
       "      <td>[QD, KD, 10C, 3H, JH]</td>\n",
       "    </tr>\n",
       "    <tr>\n",
       "      <th>3</th>\n",
       "      <td>[8D, 2C, 2H, 3H, 5H]</td>\n",
       "    </tr>\n",
       "    <tr>\n",
       "      <th>4</th>\n",
       "      <td>[5C, 10S, JC, 2H, 10D]</td>\n",
       "    </tr>\n",
       "    <tr>\n",
       "      <th>...</th>\n",
       "      <td>...</td>\n",
       "    </tr>\n",
       "    <tr>\n",
       "      <th>999995</th>\n",
       "      <td>[6S, JC, 8C, 9C, 10S]</td>\n",
       "    </tr>\n",
       "    <tr>\n",
       "      <th>999996</th>\n",
       "      <td>[6D, 8S, JD, KH, 10H]</td>\n",
       "    </tr>\n",
       "    <tr>\n",
       "      <th>999997</th>\n",
       "      <td>[9S, KC, 2D, JH, 8H]</td>\n",
       "    </tr>\n",
       "    <tr>\n",
       "      <th>999998</th>\n",
       "      <td>[6S, KS, 3D, JS, 6C]</td>\n",
       "    </tr>\n",
       "    <tr>\n",
       "      <th>999999</th>\n",
       "      <td>[3S, 8H, 3H, 3C, KD]</td>\n",
       "    </tr>\n",
       "  </tbody>\n",
       "</table>\n",
       "<p>1000000 rows × 1 columns</p>\n",
       "</div>"
      ],
      "text/plain": [
       "                       samples\n",
       "0         [QS, 3D, 2H, KD, 6H]\n",
       "1         [5D, 5C, 4S, KD, 3C]\n",
       "2        [QD, KD, 10C, 3H, JH]\n",
       "3         [8D, 2C, 2H, 3H, 5H]\n",
       "4       [5C, 10S, JC, 2H, 10D]\n",
       "...                        ...\n",
       "999995   [6S, JC, 8C, 9C, 10S]\n",
       "999996   [6D, 8S, JD, KH, 10H]\n",
       "999997    [9S, KC, 2D, JH, 8H]\n",
       "999998    [6S, KS, 3D, JS, 6C]\n",
       "999999    [3S, 8H, 3H, 3C, KD]\n",
       "\n",
       "[1000000 rows x 1 columns]"
      ]
     },
     "execution_count": 7,
     "metadata": {},
     "output_type": "execute_result"
    }
   ],
   "source": [
    "df"
   ]
  },
  {
   "cell_type": "code",
   "execution_count": 8,
   "id": "b9f43b68",
   "metadata": {},
   "outputs": [],
   "source": [
    "df['royal_flush'] = df['samples'].map(check_royal_flush)"
   ]
  },
  {
   "cell_type": "code",
   "execution_count": 9,
   "id": "f0b8196c",
   "metadata": {},
   "outputs": [
    {
     "data": {
      "text/plain": [
       "False    999999\n",
       "True          1\n",
       "Name: royal_flush, dtype: int64"
      ]
     },
     "execution_count": 9,
     "metadata": {},
     "output_type": "execute_result"
    }
   ],
   "source": [
    "df['royal_flush'].value_counts()"
   ]
  },
  {
   "cell_type": "code",
   "execution_count": 10,
   "id": "91414552",
   "metadata": {},
   "outputs": [
    {
     "data": {
      "text/html": [
       "<div>\n",
       "<style scoped>\n",
       "    .dataframe tbody tr th:only-of-type {\n",
       "        vertical-align: middle;\n",
       "    }\n",
       "\n",
       "    .dataframe tbody tr th {\n",
       "        vertical-align: top;\n",
       "    }\n",
       "\n",
       "    .dataframe thead th {\n",
       "        text-align: right;\n",
       "    }\n",
       "</style>\n",
       "<table border=\"1\" class=\"dataframe\">\n",
       "  <thead>\n",
       "    <tr style=\"text-align: right;\">\n",
       "      <th></th>\n",
       "      <th>samples</th>\n",
       "      <th>royal_flush</th>\n",
       "    </tr>\n",
       "  </thead>\n",
       "  <tbody>\n",
       "    <tr>\n",
       "      <th>195816</th>\n",
       "      <td>[KC, 10C, JC, AC, QC]</td>\n",
       "      <td>True</td>\n",
       "    </tr>\n",
       "  </tbody>\n",
       "</table>\n",
       "</div>"
      ],
      "text/plain": [
       "                      samples  royal_flush\n",
       "195816  [KC, 10C, JC, AC, QC]         True"
      ]
     },
     "execution_count": 10,
     "metadata": {},
     "output_type": "execute_result"
    }
   ],
   "source": [
    "df[df['royal_flush']]"
   ]
  },
  {
   "cell_type": "markdown",
   "id": "15caa90b",
   "metadata": {},
   "source": [
    "The actual probabilities from wikipedia"
   ]
  },
  {
   "cell_type": "code",
   "execution_count": 11,
   "id": "bafb7e26",
   "metadata": {},
   "outputs": [],
   "source": [
    "hdf = pd.read_html('https://en.wikipedia.org/wiki/Poker_probability')"
   ]
  },
  {
   "cell_type": "code",
   "execution_count": 12,
   "id": "dd460b3d",
   "metadata": {},
   "outputs": [
    {
     "data": {
      "text/html": [
       "<div>\n",
       "<style scoped>\n",
       "    .dataframe tbody tr th:only-of-type {\n",
       "        vertical-align: middle;\n",
       "    }\n",
       "\n",
       "    .dataframe tbody tr th {\n",
       "        vertical-align: top;\n",
       "    }\n",
       "\n",
       "    .dataframe thead th {\n",
       "        text-align: right;\n",
       "    }\n",
       "</style>\n",
       "<table border=\"1\" class=\"dataframe\">\n",
       "  <thead>\n",
       "    <tr style=\"text-align: right;\">\n",
       "      <th></th>\n",
       "      <th>Hand</th>\n",
       "      <th>Distinct hands</th>\n",
       "      <th>Frequency</th>\n",
       "      <th>Probability</th>\n",
       "      <th>Cumulative probability</th>\n",
       "      <th>Odds against</th>\n",
       "      <th>Mathematical expression of absolute frequency</th>\n",
       "    </tr>\n",
       "  </thead>\n",
       "  <tbody>\n",
       "    <tr>\n",
       "      <th>0</th>\n",
       "      <td>Royal flush</td>\n",
       "      <td>1</td>\n",
       "      <td>4</td>\n",
       "      <td>0.000154%</td>\n",
       "      <td>0.000154%</td>\n",
       "      <td>649,739 : 1</td>\n",
       "      <td>NaN</td>\n",
       "    </tr>\n",
       "    <tr>\n",
       "      <th>1</th>\n",
       "      <td>Straight flush (excluding royal flush)</td>\n",
       "      <td>9</td>\n",
       "      <td>36</td>\n",
       "      <td>0.00139%</td>\n",
       "      <td>0.0015%</td>\n",
       "      <td>72,192 1/3 : 1</td>\n",
       "      <td>NaN</td>\n",
       "    </tr>\n",
       "    <tr>\n",
       "      <th>2</th>\n",
       "      <td>Four of a kind</td>\n",
       "      <td>156</td>\n",
       "      <td>624</td>\n",
       "      <td>0.02401%</td>\n",
       "      <td>0.0256%</td>\n",
       "      <td>4,165 : 1</td>\n",
       "      <td>NaN</td>\n",
       "    </tr>\n",
       "    <tr>\n",
       "      <th>3</th>\n",
       "      <td>Full house</td>\n",
       "      <td>156</td>\n",
       "      <td>3744</td>\n",
       "      <td>0.1441%</td>\n",
       "      <td>0.17%</td>\n",
       "      <td>693.17 : 1</td>\n",
       "      <td>NaN</td>\n",
       "    </tr>\n",
       "    <tr>\n",
       "      <th>4</th>\n",
       "      <td>Flush (excluding royal flush and straight flush)</td>\n",
       "      <td>1277</td>\n",
       "      <td>5108</td>\n",
       "      <td>0.1965%</td>\n",
       "      <td>0.367%</td>\n",
       "      <td>508.8 : 1</td>\n",
       "      <td>NaN</td>\n",
       "    </tr>\n",
       "    <tr>\n",
       "      <th>5</th>\n",
       "      <td>Straight (excluding royal flush and straight f...</td>\n",
       "      <td>10</td>\n",
       "      <td>10200</td>\n",
       "      <td>0.3925%</td>\n",
       "      <td>0.76%</td>\n",
       "      <td>253.8 : 1</td>\n",
       "      <td>NaN</td>\n",
       "    </tr>\n",
       "    <tr>\n",
       "      <th>6</th>\n",
       "      <td>Three of a kind</td>\n",
       "      <td>858</td>\n",
       "      <td>54912</td>\n",
       "      <td>2.1128%</td>\n",
       "      <td>2.87%</td>\n",
       "      <td>46.33 : 1</td>\n",
       "      <td>NaN</td>\n",
       "    </tr>\n",
       "    <tr>\n",
       "      <th>7</th>\n",
       "      <td>Two pair</td>\n",
       "      <td>858</td>\n",
       "      <td>123552</td>\n",
       "      <td>4.7539%</td>\n",
       "      <td>7.62%</td>\n",
       "      <td>20.0 : 1</td>\n",
       "      <td>NaN</td>\n",
       "    </tr>\n",
       "    <tr>\n",
       "      <th>8</th>\n",
       "      <td>One pair</td>\n",
       "      <td>2860</td>\n",
       "      <td>1098240</td>\n",
       "      <td>42.2569%</td>\n",
       "      <td>49.9%</td>\n",
       "      <td>1.366 : 1</td>\n",
       "      <td>NaN</td>\n",
       "    </tr>\n",
       "    <tr>\n",
       "      <th>9</th>\n",
       "      <td>No pair / High card</td>\n",
       "      <td>1277</td>\n",
       "      <td>1302540</td>\n",
       "      <td>50.1177%</td>\n",
       "      <td>100%</td>\n",
       "      <td>0.995 : 1</td>\n",
       "      <td>NaN</td>\n",
       "    </tr>\n",
       "    <tr>\n",
       "      <th>10</th>\n",
       "      <td>Total</td>\n",
       "      <td>7462</td>\n",
       "      <td>2598960</td>\n",
       "      <td>100%</td>\n",
       "      <td>---</td>\n",
       "      <td>0 : 1</td>\n",
       "      <td>NaN</td>\n",
       "    </tr>\n",
       "  </tbody>\n",
       "</table>\n",
       "</div>"
      ],
      "text/plain": [
       "                                                 Hand  Distinct hands  \\\n",
       "0                                         Royal flush               1   \n",
       "1              Straight flush (excluding royal flush)               9   \n",
       "2                                      Four of a kind             156   \n",
       "3                                          Full house             156   \n",
       "4    Flush (excluding royal flush and straight flush)            1277   \n",
       "5   Straight (excluding royal flush and straight f...              10   \n",
       "6                                     Three of a kind             858   \n",
       "7                                            Two pair             858   \n",
       "8                                            One pair            2860   \n",
       "9                                 No pair / High card            1277   \n",
       "10                                              Total            7462   \n",
       "\n",
       "    Frequency Probability Cumulative probability    Odds against  \\\n",
       "0           4   0.000154%              0.000154%     649,739 : 1   \n",
       "1          36    0.00139%                0.0015%  72,192 1/3 : 1   \n",
       "2         624    0.02401%                0.0256%       4,165 : 1   \n",
       "3        3744     0.1441%                  0.17%      693.17 : 1   \n",
       "4        5108     0.1965%                 0.367%       508.8 : 1   \n",
       "5       10200     0.3925%                  0.76%       253.8 : 1   \n",
       "6       54912     2.1128%                  2.87%       46.33 : 1   \n",
       "7      123552     4.7539%                  7.62%        20.0 : 1   \n",
       "8     1098240    42.2569%                  49.9%       1.366 : 1   \n",
       "9     1302540    50.1177%                   100%       0.995 : 1   \n",
       "10    2598960        100%                    ---           0 : 1   \n",
       "\n",
       "    Mathematical expression of absolute frequency  \n",
       "0                                             NaN  \n",
       "1                                             NaN  \n",
       "2                                             NaN  \n",
       "3                                             NaN  \n",
       "4                                             NaN  \n",
       "5                                             NaN  \n",
       "6                                             NaN  \n",
       "7                                             NaN  \n",
       "8                                             NaN  \n",
       "9                                             NaN  \n",
       "10                                            NaN  "
      ]
     },
     "execution_count": 12,
     "metadata": {},
     "output_type": "execute_result"
    }
   ],
   "source": [
    "hdf[0]"
   ]
  },
  {
   "cell_type": "markdown",
   "id": "e087f700",
   "metadata": {},
   "source": [
    "I got 1 royal flushes in 1 million hands (1e-06), very close to the true probabilities"
   ]
  }
 ],
 "metadata": {
  "kernelspec": {
   "display_name": "Python 3",
   "language": "python",
   "name": "python3"
  },
  "language_info": {
   "codemirror_mode": {
    "name": "ipython",
    "version": 3
   },
   "file_extension": ".py",
   "mimetype": "text/x-python",
   "name": "python",
   "nbconvert_exporter": "python",
   "pygments_lexer": "ipython3",
   "version": "3.7.10"
  }
 },
 "nbformat": 4,
 "nbformat_minor": 5
}

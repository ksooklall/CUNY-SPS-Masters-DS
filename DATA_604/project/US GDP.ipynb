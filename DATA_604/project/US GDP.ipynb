{
 "cells": [
  {
   "cell_type": "code",
   "execution_count": 44,
   "id": "a2dbbbaf",
   "metadata": {},
   "outputs": [],
   "source": [
    "import pandas as pd\n",
    "import matplotlib.pyplot as plt\n",
    "from modsim import get_first_label, get_last_label, plot, decorate, System, linrange, TimeSeries\n",
    "import seaborn as sns; sns.set()\n",
    "%matplotlib inline"
   ]
  },
  {
   "cell_type": "markdown",
   "id": "874398e7",
   "metadata": {},
   "source": [
    "Using SimPy, write a process simulation that includes waiting time (discrete event simulation).  You may use any topic of interest to you.  Write the simulation and all of the following in Jupyter.\n",
    "\n",
    "Each element is worth 5 points and will be graded using the rubric shown here.\n",
    "\n",
    "1.  State the problem and its significance.\n",
    "\n",
    "2.  Provide a flow-chart model. \n",
    "\n",
    "3.  Simulate the process for the appropriate number of iterations (justify)\n",
    "\n",
    "4.  Justify the validity of the model and discuss how you verified it.\n",
    "\n",
    "5.  State  your conclusions/ findings from the model. \n",
    "\n",
    "6.  Generate appropriate graphs (more than one) to illustrate the results and provide a PowerPoint presentation to share with your colleagues.  Post this to the discussion. "
   ]
  },
  {
   "cell_type": "markdown",
   "id": "cc6f34a4",
   "metadata": {},
   "source": [
    "All data gotten from\n",
    "https://apps.bea.gov/iTable/iTable.cfm?reqid=19&step=3&isuri=1&nipa_table_list=6&categories=survey\n",
    "\n",
    "GDP = Consumption + Investment + Gov Expenditure + (Exports - Imports)"
   ]
  },
  {
   "cell_type": "code",
   "execution_count": 45,
   "id": "58e9932c",
   "metadata": {},
   "outputs": [],
   "source": [
    "gdp_cols = {'Gross domestic product': 'gdp', 'Personal consumption expenditures': 'consumption', 'Gross private domestic investment': 'investment', 'Net exports of goods and services': 'ex_im', 'Government consumption expenditures and gross investment': 'gov_exp'}"
   ]
  },
  {
   "cell_type": "code",
   "execution_count": 46,
   "id": "bdebd88a",
   "metadata": {},
   "outputs": [],
   "source": [
    "df = pd.read_csv('us_gdp_1990_2020.csv')\\\n",
    "            .rename(columns={'Unnamed: 1': 'components'})\\\n",
    "            .assign(components=lambda x: x['components'].str.strip().map(gdp_cols))\\\n",
    "            .dropna(how='all', axis=0)"
   ]
  },
  {
   "cell_type": "code",
   "execution_count": 47,
   "id": "d20e824a",
   "metadata": {},
   "outputs": [],
   "source": [
    "df = df[df['components'].isin(gdp_cols.values())].pivot_table(columns='components')[['consumption', 'investment', 'gov_exp', 'ex_im', 'gdp']]"
   ]
  },
  {
   "cell_type": "code",
   "execution_count": 48,
   "id": "99951f36",
   "metadata": {},
   "outputs": [
    {
     "data": {
      "text/html": [
       "<div>\n",
       "<style scoped>\n",
       "    .dataframe tbody tr th:only-of-type {\n",
       "        vertical-align: middle;\n",
       "    }\n",
       "\n",
       "    .dataframe tbody tr th {\n",
       "        vertical-align: top;\n",
       "    }\n",
       "\n",
       "    .dataframe thead th {\n",
       "        text-align: right;\n",
       "    }\n",
       "</style>\n",
       "<table border=\"1\" class=\"dataframe\">\n",
       "  <thead>\n",
       "    <tr style=\"text-align: right;\">\n",
       "      <th>components</th>\n",
       "      <th>consumption</th>\n",
       "      <th>investment</th>\n",
       "      <th>gov_exp</th>\n",
       "      <th>ex_im</th>\n",
       "      <th>gdp</th>\n",
       "    </tr>\n",
       "  </thead>\n",
       "  <tbody>\n",
       "    <tr>\n",
       "      <th>2002</th>\n",
       "      <td>9088.7</td>\n",
       "      <td>2195.5</td>\n",
       "      <td>2885.2</td>\n",
       "      <td>-667.3</td>\n",
       "      <td>13493.1</td>\n",
       "    </tr>\n",
       "    <tr>\n",
       "      <th>2003</th>\n",
       "      <td>9377.5</td>\n",
       "      <td>2290.4</td>\n",
       "      <td>2947.2</td>\n",
       "      <td>-735.0</td>\n",
       "      <td>13879.1</td>\n",
       "    </tr>\n",
       "    <tr>\n",
       "      <th>2004</th>\n",
       "      <td>9729.3</td>\n",
       "      <td>2502.6</td>\n",
       "      <td>2992.7</td>\n",
       "      <td>-841.4</td>\n",
       "      <td>14406.4</td>\n",
       "    </tr>\n",
       "    <tr>\n",
       "      <th>2005</th>\n",
       "      <td>10075.9</td>\n",
       "      <td>2670.6</td>\n",
       "      <td>3015.5</td>\n",
       "      <td>-887.8</td>\n",
       "      <td>14912.5</td>\n",
       "    </tr>\n",
       "    <tr>\n",
       "      <th>2006</th>\n",
       "      <td>10384.5</td>\n",
       "      <td>2752.4</td>\n",
       "      <td>3063.5</td>\n",
       "      <td>-905.0</td>\n",
       "      <td>15338.3</td>\n",
       "    </tr>\n",
       "    <tr>\n",
       "      <th>2007</th>\n",
       "      <td>10615.3</td>\n",
       "      <td>2684.1</td>\n",
       "      <td>3118.6</td>\n",
       "      <td>-823.6</td>\n",
       "      <td>15626.0</td>\n",
       "    </tr>\n",
       "    <tr>\n",
       "      <th>2008</th>\n",
       "      <td>10592.8</td>\n",
       "      <td>2462.9</td>\n",
       "      <td>3195.6</td>\n",
       "      <td>-661.6</td>\n",
       "      <td>15604.7</td>\n",
       "    </tr>\n",
       "    <tr>\n",
       "      <th>2009</th>\n",
       "      <td>10460.0</td>\n",
       "      <td>1942.0</td>\n",
       "      <td>3307.3</td>\n",
       "      <td>-484.8</td>\n",
       "      <td>15208.8</td>\n",
       "    </tr>\n",
       "    <tr>\n",
       "      <th>2010</th>\n",
       "      <td>10643.0</td>\n",
       "      <td>2216.5</td>\n",
       "      <td>3307.2</td>\n",
       "      <td>-565.9</td>\n",
       "      <td>15598.8</td>\n",
       "    </tr>\n",
       "    <tr>\n",
       "      <th>2011</th>\n",
       "      <td>10843.8</td>\n",
       "      <td>2362.1</td>\n",
       "      <td>3203.3</td>\n",
       "      <td>-568.1</td>\n",
       "      <td>15840.7</td>\n",
       "    </tr>\n",
       "    <tr>\n",
       "      <th>2012</th>\n",
       "      <td>11006.8</td>\n",
       "      <td>2621.8</td>\n",
       "      <td>3137.0</td>\n",
       "      <td>-568.6</td>\n",
       "      <td>16197.0</td>\n",
       "    </tr>\n",
       "    <tr>\n",
       "      <th>2013</th>\n",
       "      <td>11166.9</td>\n",
       "      <td>2801.5</td>\n",
       "      <td>3061.0</td>\n",
       "      <td>-532.8</td>\n",
       "      <td>16495.4</td>\n",
       "    </tr>\n",
       "    <tr>\n",
       "      <th>2014</th>\n",
       "      <td>11497.4</td>\n",
       "      <td>2959.2</td>\n",
       "      <td>3033.4</td>\n",
       "      <td>-577.2</td>\n",
       "      <td>16912.0</td>\n",
       "    </tr>\n",
       "    <tr>\n",
       "      <th>2015</th>\n",
       "      <td>11934.3</td>\n",
       "      <td>3121.8</td>\n",
       "      <td>3088.2</td>\n",
       "      <td>-719.5</td>\n",
       "      <td>17432.2</td>\n",
       "    </tr>\n",
       "    <tr>\n",
       "      <th>2016</th>\n",
       "      <td>12264.6</td>\n",
       "      <td>3074.8</td>\n",
       "      <td>3144.4</td>\n",
       "      <td>-763.6</td>\n",
       "      <td>17730.5</td>\n",
       "    </tr>\n",
       "    <tr>\n",
       "      <th>2017</th>\n",
       "      <td>12587.2</td>\n",
       "      <td>3183.4</td>\n",
       "      <td>3172.3</td>\n",
       "      <td>-816.8</td>\n",
       "      <td>18144.1</td>\n",
       "    </tr>\n",
       "    <tr>\n",
       "      <th>2018</th>\n",
       "      <td>12928.1</td>\n",
       "      <td>3384.9</td>\n",
       "      <td>3229.8</td>\n",
       "      <td>-877.7</td>\n",
       "      <td>18687.8</td>\n",
       "    </tr>\n",
       "    <tr>\n",
       "      <th>2019</th>\n",
       "      <td>13240.2</td>\n",
       "      <td>3442.6</td>\n",
       "      <td>3303.9</td>\n",
       "      <td>-917.6</td>\n",
       "      <td>19091.7</td>\n",
       "    </tr>\n",
       "    <tr>\n",
       "      <th>2020</th>\n",
       "      <td>12725.6</td>\n",
       "      <td>3263.3</td>\n",
       "      <td>3341.0</td>\n",
       "      <td>-926.0</td>\n",
       "      <td>18426.1</td>\n",
       "    </tr>\n",
       "  </tbody>\n",
       "</table>\n",
       "</div>"
      ],
      "text/plain": [
       "components  consumption  investment  gov_exp  ex_im      gdp\n",
       "2002             9088.7      2195.5   2885.2 -667.3  13493.1\n",
       "2003             9377.5      2290.4   2947.2 -735.0  13879.1\n",
       "2004             9729.3      2502.6   2992.7 -841.4  14406.4\n",
       "2005            10075.9      2670.6   3015.5 -887.8  14912.5\n",
       "2006            10384.5      2752.4   3063.5 -905.0  15338.3\n",
       "2007            10615.3      2684.1   3118.6 -823.6  15626.0\n",
       "2008            10592.8      2462.9   3195.6 -661.6  15604.7\n",
       "2009            10460.0      1942.0   3307.3 -484.8  15208.8\n",
       "2010            10643.0      2216.5   3307.2 -565.9  15598.8\n",
       "2011            10843.8      2362.1   3203.3 -568.1  15840.7\n",
       "2012            11006.8      2621.8   3137.0 -568.6  16197.0\n",
       "2013            11166.9      2801.5   3061.0 -532.8  16495.4\n",
       "2014            11497.4      2959.2   3033.4 -577.2  16912.0\n",
       "2015            11934.3      3121.8   3088.2 -719.5  17432.2\n",
       "2016            12264.6      3074.8   3144.4 -763.6  17730.5\n",
       "2017            12587.2      3183.4   3172.3 -816.8  18144.1\n",
       "2018            12928.1      3384.9   3229.8 -877.7  18687.8\n",
       "2019            13240.2      3442.6   3303.9 -917.6  19091.7\n",
       "2020            12725.6      3263.3   3341.0 -926.0  18426.1"
      ]
     },
     "execution_count": 48,
     "metadata": {},
     "output_type": "execute_result"
    }
   ],
   "source": [
    "df"
   ]
  },
  {
   "cell_type": "code",
   "execution_count": 49,
   "id": "d842689b",
   "metadata": {},
   "outputs": [
    {
     "data": {
      "image/png": "[encoded data removed]",
      "text/plain": [
       "<Figure size 864x576 with 2 Axes>"
      ]
     },
     "metadata": {
      "needs_background": "light"
     },
     "output_type": "display_data"
    }
   ],
   "source": [
    "fig, ax = plt.subplots(2,1, figsize=(12,8))\n",
    "df.div(df['gdp'], axis=0).drop(['gdp'], axis=1).plot.bar(title='US GDP components (2002-2020)', xlabel='Years', ylabel='Percentage of GDP', ax=ax[0], stacked=True)\n",
    "df['gdp'].plot(title='US GDP (2002-2020)', xlabel='Years', ylabel='GDP in Billions of Dollars', ax=ax[1])\n",
    "plt.tight_layout()"
   ]
  },
  {
   "cell_type": "markdown",
   "id": "d70eb8d7",
   "metadata": {},
   "source": [
    "From the plots above we can see `consumption` is the largest contributor to the US `gdp` followed by `investment` and `government spending`, `exports and imports` makes up the smallest component."
   ]
  },
  {
   "cell_type": "code",
   "execution_count": 50,
   "id": "5fbc8dee",
   "metadata": {},
   "outputs": [],
   "source": [
    "t_0 = get_first_label(df)\n",
    "t_end = get_last_label(df)\n",
    "c_0, i_0, g_0, ei_0, gdp_0 = df.loc[t_0].values"
   ]
  },
  {
   "cell_type": "code",
   "execution_count": 51,
   "id": "650267bc",
   "metadata": {},
   "outputs": [
    {
     "data": {
      "text/html": [
       "<div>\n",
       "<style scoped>\n",
       "    .dataframe tbody tr th:only-of-type {\n",
       "        vertical-align: middle;\n",
       "    }\n",
       "\n",
       "    .dataframe tbody tr th {\n",
       "        vertical-align: top;\n",
       "    }\n",
       "\n",
       "    .dataframe thead th {\n",
       "        text-align: right;\n",
       "    }\n",
       "</style>\n",
       "<table border=\"1\" class=\"dataframe\">\n",
       "  <thead>\n",
       "    <tr style=\"text-align: right;\">\n",
       "      <th></th>\n",
       "      <th>values</th>\n",
       "    </tr>\n",
       "  </thead>\n",
       "  <tbody>\n",
       "    <tr>\n",
       "      <th>t_0</th>\n",
       "      <td>2002.0</td>\n",
       "    </tr>\n",
       "    <tr>\n",
       "      <th>t_end</th>\n",
       "      <td>2020.0</td>\n",
       "    </tr>\n",
       "    <tr>\n",
       "      <th>consumption</th>\n",
       "      <td>9088.7</td>\n",
       "    </tr>\n",
       "    <tr>\n",
       "      <th>investment</th>\n",
       "      <td>2195.5</td>\n",
       "    </tr>\n",
       "    <tr>\n",
       "      <th>gov_expenditure</th>\n",
       "      <td>2885.2</td>\n",
       "    </tr>\n",
       "    <tr>\n",
       "      <th>ex_im</th>\n",
       "      <td>-667.3</td>\n",
       "    </tr>\n",
       "    <tr>\n",
       "      <th>gdp</th>\n",
       "      <td>13493.1</td>\n",
       "    </tr>\n",
       "  </tbody>\n",
       "</table>\n",
       "</div>"
      ],
      "text/plain": [
       "t_0                 2002.0\n",
       "t_end               2020.0\n",
       "consumption         9088.7\n",
       "investment          2195.5\n",
       "gov_expenditure     2885.2\n",
       "ex_im               -667.3\n",
       "gdp                13493.1\n",
       "dtype: float64"
      ]
     },
     "execution_count": 51,
     "metadata": {},
     "output_type": "execute_result"
    }
   ],
   "source": [
    "system = System(t_0=int(t_0),\n",
    "                t_end=int(t_end),\n",
    "                consumption=c_0,\n",
    "                investment=i_0,\n",
    "                gov_expenditure=g_0,\n",
    "                ex_im=ei_0,\n",
    "                gdp=gdp_0)\n",
    "system"
   ]
  },
  {
   "cell_type": "code",
   "execution_count": 84,
   "id": "1cca9ff3",
   "metadata": {},
   "outputs": [],
   "source": [
    "def update_func(gdp, t, system):\n",
    "    \"\"\"\n",
    "    Determine growth rates for c, i, g, ex\n",
    "    \"\"\"\n",
    "    if t <2008:\n",
    "        growth_params = {'consumption': 0.02, 'investment': 0.02, 'gov_expenditure': 0.01, 'ex_im': -0.005}\n",
    "    else:\n",
    "        growth_params = {'consumption': 0.025, 'investment': 0.02, 'gov_expenditure': 0.03, 'ex_im': -0.01}\n",
    "    gdp_growth = 0\n",
    "    for k, v in growth_params.items():\n",
    "        gdp_growth += system[k] * v\n",
    "    #import pdb; pdb.set_trace()\n",
    "    return gdp + gdp_growth"
   ]
  },
  {
   "cell_type": "code",
   "execution_count": 85,
   "id": "e331f3b4",
   "metadata": {},
   "outputs": [],
   "source": [
    "def run_simulation(system, update_func):\n",
    "\n",
    "    results = TimeSeries()\n",
    "    results[system.t_0] = system.gdp\n",
    "    \n",
    "    for t in linrange(system.t_0, system.t_end):\n",
    "        results[t+1] = update_func(results[t], t, system)\n",
    "        \n",
    "    return results"
   ]
  },
  {
   "cell_type": "code",
   "execution_count": 86,
   "id": "e14f1bda",
   "metadata": {},
   "outputs": [],
   "source": [
    "results = run_simulation(system, update_func)"
   ]
  },
  {
   "cell_type": "code",
   "execution_count": 87,
   "id": "52165867",
   "metadata": {},
   "outputs": [
    {
     "data": {
      "text/plain": [
       "<AxesSubplot:>"
      ]
     },
     "execution_count": 87,
     "metadata": {},
     "output_type": "execute_result"
    },
    {
     "data": {
      "image/png": "[encoded data removed]",
      "text/plain": [
       "<Figure size 432x288 with 1 Axes>"
      ]
     },
     "metadata": {
      "needs_background": "light"
     },
     "output_type": "display_data"
    }
   ],
   "source": [
    "pd.concat([df['gdp'].reset_index(), results.to_frame('pred').reset_index()], axis=1).drop(['index'], axis=1).plot()"
   ]
  },
  {
   "cell_type": "code",
   "execution_count": null,
   "id": "b401c658",
   "metadata": {},
   "outputs": [],
   "source": []
  }
 ],
 "metadata": {
  "kernelspec": {
   "display_name": "Python 3",
   "language": "python",
   "name": "python3"
  },
  "language_info": {
   "codemirror_mode": {
    "name": "ipython",
    "version": 3
   },
   "file_extension": ".py",
   "mimetype": "text/x-python",
   "name": "python",
   "nbconvert_exporter": "python",
   "pygments_lexer": "ipython3",
   "version": "3.7.10"
  }
 },
 "nbformat": 4,
 "nbformat_minor": 5
}

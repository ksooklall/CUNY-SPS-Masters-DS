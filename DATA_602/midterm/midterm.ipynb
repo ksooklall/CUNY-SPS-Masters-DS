{
 "cells": [
  {
   "cell_type": "markdown",
   "metadata": {
    "id": "rd2QZetSDszc"
   },
   "source": [
    "# Midterm 602\n",
    "\n",
    "\n",
    "* In this  assignment, you will explore and analyze a public dataset of your choosing. Since this assignment is “open-ended” in nature, you are free to expand upon the requirements below. However, you must meet the minimum requirments as indicated in each section. \n",
    "\n",
    "* You must use Pandas as the **primary tool** to process your data.\n",
    "\n",
    "* The preferred method for this analysis is in a .ipynb file. Feel free to use whichever platform of your choosing.  \n",
    " * https://www.youtube.com/watch?v=inN8seMm7UI (Getting started with Colab).\n",
    "\n",
    "* Your data should need some \"work\", or be considered \"dirty\".  You must show your skills in data cleaning/wrangling.\n",
    "\n",
    "### Data examples:\n",
    "•\thttps://www.data.gov/\n",
    "\n",
    "•\thttps://opendata.cityofnewyork.us/\n",
    "\n",
    "•\thttps://datasetsearch.research.google.com/\n",
    "\n",
    "•\thttps://archive.ics.uci.edu/ml/index.php\n",
    "\n",
    "### Resources:\n",
    "\n",
    "•\thttps://pandas.pydata.org/pandas-docs/stable/getting_started/10min.html \n",
    "\n",
    "•\thttps://pandas.pydata.org/pandas-docs/stable/user_guide/visualization.html\n",
    "\n",
    "\n",
    "### Headings or comments\n",
    "**You are required to make use of comments, or headings for each section.  You must explain what your code is doing, and the results of running your code.**  Act as if you were giving this assignment to your manager - you must include clear and descriptive information for each section.\n",
    "\n",
    "\n"
   ]
  },
  {
   "cell_type": "markdown",
   "metadata": {
    "id": "uW3w6p8rqgxu"
   },
   "source": [
    "# Research Question\n",
    "\n",
    "In this section, please state the question you are trying to solve.  As mentioned, this assignment is opened-ended, so you are free to choose a research question, and corrosponding data sources, of your choosing."
   ]
  },
  {
   "cell_type": "markdown",
   "metadata": {
    "id": "L0PnfMOFzOXz"
   },
   "source": [
    "\\"
   ]
  },
  {
   "cell_type": "markdown",
   "metadata": {
    "id": "3bp8cdDxDs2t"
   },
   "source": [
    "______________\n",
    "# Data Exploration\n",
    "Import your dataset into your .ipynb, create dataframes, and explore your data.  \n",
    "\n",
    "Include: \n",
    "\n",
    "* Summary statistics means, medians, quartiles, \n",
    "* Missing value information\n",
    "* Any other relevant information about the dataset.  \n",
    "\n"
   ]
  },
  {
   "cell_type": "code",
   "execution_count": null,
   "metadata": {
    "id": "1OJmbafkEhhq"
   },
   "outputs": [],
   "source": []
  },
  {
   "cell_type": "code",
   "execution_count": null,
   "metadata": {
    "id": "TyH_6oBmrTY7"
   },
   "outputs": [],
   "source": []
  },
  {
   "cell_type": "markdown",
   "metadata": {
    "id": "kCSLIafaEGVK"
   },
   "source": [
    "# Data Wrangling\n",
    "Create a subset of your original data and perform the following.  \n",
    "\n",
    "1. Modify multiple column names.\n",
    "\n",
    "2. Fix any missing and invalid values in the data set.\n",
    "\n",
    "3. Create new columns based on existing columns or calculations.\n",
    "\n",
    "4. Drop column(s) from your dataset.\n",
    "\n",
    "5. Drop a row(s) from your dataset.\n",
    "\n",
    "6. Sort your data based on multiple variables. \n",
    "\n",
    "7. Filter your data based on some condition. \n",
    "\n",
    "8. Convert all the string values to upper or lower cases in one column.\n",
    "\n",
    "9. Check whether numeric values are present in a given column of your dataframe.\n",
    "\n",
    "10. Group your dataset by one column, and get the mean, min, and max values by group. \n",
    "  * Groupby()\n",
    "  * agg() or .apply()\n",
    "\n",
    "**You are free (and should) to add on to these questions.  Please clearly indicate in your assignment your answers to these questions.**"
   ]
  },
  {
   "cell_type": "code",
   "execution_count": null,
   "metadata": {
    "id": "4VWWvvynEiQT"
   },
   "outputs": [],
   "source": []
  },
  {
   "cell_type": "code",
   "execution_count": null,
   "metadata": {
    "id": "ZctjWfcmzNB7"
   },
   "outputs": [],
   "source": []
  },
  {
   "cell_type": "markdown",
   "metadata": {
    "id": "YoK8G4yhD905"
   },
   "source": [
    "## Data Visualization\n",
    "Create a data visualization of your choosing on your dataset.  You may use Pandas or other libraries to complete your visualization (plotly, plotly express, seaborn, etc.)\n",
    "\n",
    "You must include, at the minimum three different plots and explain what these plots do.  Please do not just include a plot without a description.\n",
    "\n",
    "\n",
    "\n"
   ]
  },
  {
   "cell_type": "code",
   "execution_count": null,
   "metadata": {
    "id": "M2jxVzKcEium"
   },
   "outputs": [],
   "source": []
  },
  {
   "cell_type": "code",
   "execution_count": null,
   "metadata": {
    "id": "s5CgxhL5zMx4"
   },
   "outputs": [],
   "source": []
  },
  {
   "cell_type": "markdown",
   "metadata": {
    "id": "0qztpr9kD95U"
   },
   "source": [
    "# Conclusions \n",
    "Provide some conclusions or insight gained from looking at your data.\n"
   ]
  },
  {
   "cell_type": "markdown",
   "metadata": {
    "id": "vYHh2qZ8zL7H"
   },
   "source": []
  }
 ],
 "metadata": {
  "colab": {
   "name": "midterm.ipynb",
   "provenance": []
  },
  "kernelspec": {
   "display_name": "Python 3",
   "language": "python",
   "name": "python3"
  },
  "language_info": {
   "codemirror_mode": {
    "name": "ipython",
    "version": 3
   },
   "file_extension": ".py",
   "mimetype": "text/x-python",
   "name": "python",
   "nbconvert_exporter": "python",
   "pygments_lexer": "ipython3",
   "version": "3.7.10"
  }
 },
 "nbformat": 4,
 "nbformat_minor": 1
}

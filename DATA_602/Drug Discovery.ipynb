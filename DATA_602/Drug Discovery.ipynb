{
 "cells": [
  {
   "cell_type": "markdown",
   "id": "d8a2fb8e",
   "metadata": {},
   "source": [
    "## ChEMBL Database\n",
    "The ChEMBL Database is a database that contains curated bioactivity data of more than 2 million compounds. It is compiled from more than 76,000 documents, 1.2 million assays and the data spans 13,000 targets and 1,800 cells and 33,000 indications. [Data as of March 25, 2020; ChEMBL version 26]."
   ]
  },
  {
   "cell_type": "code",
   "execution_count": 1,
   "id": "0a1814fc",
   "metadata": {},
   "outputs": [],
   "source": [
    "import pandas as pd\n",
    "import numpy as np\n",
    "from chembl_webresource_client.new_client import new_client\n",
    "\n",
    "import seaborn as sns; sns.set()\n",
    "import matplotlib.pyplot as plt\n",
    "%matplotlib inline"
   ]
  },
  {
   "cell_type": "code",
   "execution_count": 2,
   "id": "1f5c1a81",
   "metadata": {},
   "outputs": [
    {
     "data": {
      "text/html": [
       "<div>\n",
       "<style scoped>\n",
       "    .dataframe tbody tr th:only-of-type {\n",
       "        vertical-align: middle;\n",
       "    }\n",
       "\n",
       "    .dataframe tbody tr th {\n",
       "        vertical-align: top;\n",
       "    }\n",
       "\n",
       "    .dataframe thead th {\n",
       "        text-align: right;\n",
       "    }\n",
       "</style>\n",
       "<table border=\"1\" class=\"dataframe\">\n",
       "  <thead>\n",
       "    <tr style=\"text-align: right;\">\n",
       "      <th></th>\n",
       "      <th>cross_references</th>\n",
       "      <th>organism</th>\n",
       "      <th>pref_name</th>\n",
       "      <th>score</th>\n",
       "      <th>species_group_flag</th>\n",
       "      <th>target_chembl_id</th>\n",
       "      <th>target_components</th>\n",
       "      <th>target_type</th>\n",
       "      <th>tax_id</th>\n",
       "    </tr>\n",
       "  </thead>\n",
       "  <tbody>\n",
       "    <tr>\n",
       "      <th>0</th>\n",
       "      <td>[]</td>\n",
       "      <td>Coronavirus</td>\n",
       "      <td>Coronavirus</td>\n",
       "      <td>17.0</td>\n",
       "      <td>False</td>\n",
       "      <td>CHEMBL613732</td>\n",
       "      <td>[]</td>\n",
       "      <td>ORGANISM</td>\n",
       "      <td>11119</td>\n",
       "    </tr>\n",
       "    <tr>\n",
       "      <th>1</th>\n",
       "      <td>[]</td>\n",
       "      <td>SARS coronavirus</td>\n",
       "      <td>SARS coronavirus</td>\n",
       "      <td>15.0</td>\n",
       "      <td>False</td>\n",
       "      <td>CHEMBL612575</td>\n",
       "      <td>[]</td>\n",
       "      <td>ORGANISM</td>\n",
       "      <td>227859</td>\n",
       "    </tr>\n",
       "    <tr>\n",
       "      <th>2</th>\n",
       "      <td>[]</td>\n",
       "      <td>Feline coronavirus</td>\n",
       "      <td>Feline coronavirus</td>\n",
       "      <td>15.0</td>\n",
       "      <td>False</td>\n",
       "      <td>CHEMBL612744</td>\n",
       "      <td>[]</td>\n",
       "      <td>ORGANISM</td>\n",
       "      <td>12663</td>\n",
       "    </tr>\n",
       "    <tr>\n",
       "      <th>3</th>\n",
       "      <td>[]</td>\n",
       "      <td>Human coronavirus 229E</td>\n",
       "      <td>Human coronavirus 229E</td>\n",
       "      <td>13.0</td>\n",
       "      <td>False</td>\n",
       "      <td>CHEMBL613837</td>\n",
       "      <td>[]</td>\n",
       "      <td>ORGANISM</td>\n",
       "      <td>11137</td>\n",
       "    </tr>\n",
       "    <tr>\n",
       "      <th>4</th>\n",
       "      <td>[{'xref_id': 'P0C6U8', 'xref_name': None, 'xre...</td>\n",
       "      <td>SARS coronavirus</td>\n",
       "      <td>SARS coronavirus 3C-like proteinase</td>\n",
       "      <td>10.0</td>\n",
       "      <td>False</td>\n",
       "      <td>CHEMBL3927</td>\n",
       "      <td>[{'accession': 'P0C6U8', 'component_descriptio...</td>\n",
       "      <td>SINGLE PROTEIN</td>\n",
       "      <td>227859</td>\n",
       "    </tr>\n",
       "    <tr>\n",
       "      <th>5</th>\n",
       "      <td>[]</td>\n",
       "      <td>Middle East respiratory syndrome-related coron...</td>\n",
       "      <td>Middle East respiratory syndrome-related coron...</td>\n",
       "      <td>9.0</td>\n",
       "      <td>False</td>\n",
       "      <td>CHEMBL4296578</td>\n",
       "      <td>[]</td>\n",
       "      <td>ORGANISM</td>\n",
       "      <td>1335626</td>\n",
       "    </tr>\n",
       "    <tr>\n",
       "      <th>6</th>\n",
       "      <td>[{'xref_id': 'P0C6X7', 'xref_name': None, 'xre...</td>\n",
       "      <td>SARS coronavirus</td>\n",
       "      <td>Replicase polyprotein 1ab</td>\n",
       "      <td>4.0</td>\n",
       "      <td>False</td>\n",
       "      <td>CHEMBL5118</td>\n",
       "      <td>[{'accession': 'P0C6X7', 'component_descriptio...</td>\n",
       "      <td>SINGLE PROTEIN</td>\n",
       "      <td>227859</td>\n",
       "    </tr>\n",
       "    <tr>\n",
       "      <th>7</th>\n",
       "      <td>[]</td>\n",
       "      <td>Severe acute respiratory syndrome coronavirus 2</td>\n",
       "      <td>Replicase polyprotein 1ab</td>\n",
       "      <td>4.0</td>\n",
       "      <td>False</td>\n",
       "      <td>CHEMBL4523582</td>\n",
       "      <td>[{'accession': 'P0DTD1', 'component_descriptio...</td>\n",
       "      <td>SINGLE PROTEIN</td>\n",
       "      <td>2697049</td>\n",
       "    </tr>\n",
       "  </tbody>\n",
       "</table>\n",
       "</div>"
      ],
      "text/plain": [
       "                                    cross_references  \\\n",
       "0                                                 []   \n",
       "1                                                 []   \n",
       "2                                                 []   \n",
       "3                                                 []   \n",
       "4  [{'xref_id': 'P0C6U8', 'xref_name': None, 'xre...   \n",
       "5                                                 []   \n",
       "6  [{'xref_id': 'P0C6X7', 'xref_name': None, 'xre...   \n",
       "7                                                 []   \n",
       "\n",
       "                                            organism  \\\n",
       "0                                        Coronavirus   \n",
       "1                                   SARS coronavirus   \n",
       "2                                 Feline coronavirus   \n",
       "3                             Human coronavirus 229E   \n",
       "4                                   SARS coronavirus   \n",
       "5  Middle East respiratory syndrome-related coron...   \n",
       "6                                   SARS coronavirus   \n",
       "7    Severe acute respiratory syndrome coronavirus 2   \n",
       "\n",
       "                                           pref_name  score  \\\n",
       "0                                        Coronavirus   17.0   \n",
       "1                                   SARS coronavirus   15.0   \n",
       "2                                 Feline coronavirus   15.0   \n",
       "3                             Human coronavirus 229E   13.0   \n",
       "4                SARS coronavirus 3C-like proteinase   10.0   \n",
       "5  Middle East respiratory syndrome-related coron...    9.0   \n",
       "6                          Replicase polyprotein 1ab    4.0   \n",
       "7                          Replicase polyprotein 1ab    4.0   \n",
       "\n",
       "   species_group_flag target_chembl_id  \\\n",
       "0               False     CHEMBL613732   \n",
       "1               False     CHEMBL612575   \n",
       "2               False     CHEMBL612744   \n",
       "3               False     CHEMBL613837   \n",
       "4               False       CHEMBL3927   \n",
       "5               False    CHEMBL4296578   \n",
       "6               False       CHEMBL5118   \n",
       "7               False    CHEMBL4523582   \n",
       "\n",
       "                                   target_components     target_type   tax_id  \n",
       "0                                                 []        ORGANISM    11119  \n",
       "1                                                 []        ORGANISM   227859  \n",
       "2                                                 []        ORGANISM    12663  \n",
       "3                                                 []        ORGANISM    11137  \n",
       "4  [{'accession': 'P0C6U8', 'component_descriptio...  SINGLE PROTEIN   227859  \n",
       "5                                                 []        ORGANISM  1335626  \n",
       "6  [{'accession': 'P0C6X7', 'component_descriptio...  SINGLE PROTEIN   227859  \n",
       "7  [{'accession': 'P0DTD1', 'component_descriptio...  SINGLE PROTEIN  2697049  "
      ]
     },
     "execution_count": 2,
     "metadata": {},
     "output_type": "execute_result"
    }
   ],
   "source": [
    "target = new_client.target\n",
    "target_query = target.search('coronavirus')\n",
    "targets = pd.DataFrame(target_query)\n",
    "targets"
   ]
  },
  {
   "cell_type": "markdown",
   "id": "c92547ce",
   "metadata": {},
   "source": [
    "From the table above we see the last entry is the protein that corresponds to Covid-19, the virus SARS-Covid2 also known as Severe acute respiratory syndrome coronavirus 2. To get bioactivity data we make a request to the chembl object with the target_chembl_id \"CHEMBL4523582\""
   ]
  },
  {
   "cell_type": "markdown",
   "id": "5ee2fde3",
   "metadata": {},
   "source": [
    "Here, we will retrieve only bioactivity data for coronavirus 3C-like proteinase (CHEMBL3927) that are reported as IC$_{50}$ values in nM (nanomolar) unit."
   ]
  },
  {
   "cell_type": "code",
   "execution_count": 3,
   "id": "71e40209",
   "metadata": {},
   "outputs": [],
   "source": [
    "target_chembl_id = 'CHEMBL4523582'\n",
    "activity = new_client.activity\n",
    "res = activity.filter(target_chembl_id=target_chembl_id).filter(standard_type=\"IC50\")"
   ]
  },
  {
   "cell_type": "code",
   "execution_count": 19,
   "id": "bbe3711f",
   "metadata": {},
   "outputs": [
    {
     "data": {
      "text/html": [
       "<div>\n",
       "<style scoped>\n",
       "    .dataframe tbody tr th:only-of-type {\n",
       "        vertical-align: middle;\n",
       "    }\n",
       "\n",
       "    .dataframe tbody tr th {\n",
       "        vertical-align: top;\n",
       "    }\n",
       "\n",
       "    .dataframe thead th {\n",
       "        text-align: right;\n",
       "    }\n",
       "</style>\n",
       "<table border=\"1\" class=\"dataframe\">\n",
       "  <thead>\n",
       "    <tr style=\"text-align: right;\">\n",
       "      <th></th>\n",
       "      <th>activity_comment</th>\n",
       "      <th>activity_id</th>\n",
       "      <th>activity_properties</th>\n",
       "      <th>assay_chembl_id</th>\n",
       "      <th>assay_description</th>\n",
       "      <th>assay_type</th>\n",
       "      <th>assay_variant_accession</th>\n",
       "      <th>assay_variant_mutation</th>\n",
       "      <th>bao_endpoint</th>\n",
       "      <th>bao_format</th>\n",
       "      <th>...</th>\n",
       "      <th>target_organism</th>\n",
       "      <th>target_pref_name</th>\n",
       "      <th>target_tax_id</th>\n",
       "      <th>text_value</th>\n",
       "      <th>toid</th>\n",
       "      <th>type</th>\n",
       "      <th>units</th>\n",
       "      <th>uo_units</th>\n",
       "      <th>upper_value</th>\n",
       "      <th>value</th>\n",
       "    </tr>\n",
       "  </thead>\n",
       "  <tbody>\n",
       "    <tr>\n",
       "      <th>0</th>\n",
       "      <td>Dtt Insensitive</td>\n",
       "      <td>19964199</td>\n",
       "      <td>[]</td>\n",
       "      <td>CHEMBL4495583</td>\n",
       "      <td>SARS-CoV-2 3CL-Pro protease inhibition IC50 de...</td>\n",
       "      <td>F</td>\n",
       "      <td>None</td>\n",
       "      <td>None</td>\n",
       "      <td>BAO_0000190</td>\n",
       "      <td>BAO_0000019</td>\n",
       "      <td>...</td>\n",
       "      <td>Severe acute respiratory syndrome coronavirus 2</td>\n",
       "      <td>Replicase polyprotein 1ab</td>\n",
       "      <td>2697049</td>\n",
       "      <td>None</td>\n",
       "      <td>None</td>\n",
       "      <td>IC50</td>\n",
       "      <td>uM</td>\n",
       "      <td>UO_0000065</td>\n",
       "      <td>None</td>\n",
       "      <td>0.39</td>\n",
       "    </tr>\n",
       "    <tr>\n",
       "      <th>1</th>\n",
       "      <td>Dtt Insensitive</td>\n",
       "      <td>19964200</td>\n",
       "      <td>[]</td>\n",
       "      <td>CHEMBL4495583</td>\n",
       "      <td>SARS-CoV-2 3CL-Pro protease inhibition IC50 de...</td>\n",
       "      <td>F</td>\n",
       "      <td>None</td>\n",
       "      <td>None</td>\n",
       "      <td>BAO_0000190</td>\n",
       "      <td>BAO_0000019</td>\n",
       "      <td>...</td>\n",
       "      <td>Severe acute respiratory syndrome coronavirus 2</td>\n",
       "      <td>Replicase polyprotein 1ab</td>\n",
       "      <td>2697049</td>\n",
       "      <td>None</td>\n",
       "      <td>None</td>\n",
       "      <td>IC50</td>\n",
       "      <td>uM</td>\n",
       "      <td>UO_0000065</td>\n",
       "      <td>None</td>\n",
       "      <td>0.21</td>\n",
       "    </tr>\n",
       "    <tr>\n",
       "      <th>2</th>\n",
       "      <td>Dtt Insensitive</td>\n",
       "      <td>19964201</td>\n",
       "      <td>[]</td>\n",
       "      <td>CHEMBL4495583</td>\n",
       "      <td>SARS-CoV-2 3CL-Pro protease inhibition IC50 de...</td>\n",
       "      <td>F</td>\n",
       "      <td>None</td>\n",
       "      <td>None</td>\n",
       "      <td>BAO_0000190</td>\n",
       "      <td>BAO_0000019</td>\n",
       "      <td>...</td>\n",
       "      <td>Severe acute respiratory syndrome coronavirus 2</td>\n",
       "      <td>Replicase polyprotein 1ab</td>\n",
       "      <td>2697049</td>\n",
       "      <td>None</td>\n",
       "      <td>None</td>\n",
       "      <td>IC50</td>\n",
       "      <td>uM</td>\n",
       "      <td>UO_0000065</td>\n",
       "      <td>None</td>\n",
       "      <td>0.08</td>\n",
       "    </tr>\n",
       "    <tr>\n",
       "      <th>3</th>\n",
       "      <td>Dtt Insensitive</td>\n",
       "      <td>19964202</td>\n",
       "      <td>[]</td>\n",
       "      <td>CHEMBL4495583</td>\n",
       "      <td>SARS-CoV-2 3CL-Pro protease inhibition IC50 de...</td>\n",
       "      <td>F</td>\n",
       "      <td>None</td>\n",
       "      <td>None</td>\n",
       "      <td>BAO_0000190</td>\n",
       "      <td>BAO_0000019</td>\n",
       "      <td>...</td>\n",
       "      <td>Severe acute respiratory syndrome coronavirus 2</td>\n",
       "      <td>Replicase polyprotein 1ab</td>\n",
       "      <td>2697049</td>\n",
       "      <td>None</td>\n",
       "      <td>None</td>\n",
       "      <td>IC50</td>\n",
       "      <td>uM</td>\n",
       "      <td>UO_0000065</td>\n",
       "      <td>None</td>\n",
       "      <td>1.58</td>\n",
       "    </tr>\n",
       "    <tr>\n",
       "      <th>4</th>\n",
       "      <td>Dtt Insensitive</td>\n",
       "      <td>19964203</td>\n",
       "      <td>[]</td>\n",
       "      <td>CHEMBL4495583</td>\n",
       "      <td>SARS-CoV-2 3CL-Pro protease inhibition IC50 de...</td>\n",
       "      <td>F</td>\n",
       "      <td>None</td>\n",
       "      <td>None</td>\n",
       "      <td>BAO_0000190</td>\n",
       "      <td>BAO_0000019</td>\n",
       "      <td>...</td>\n",
       "      <td>Severe acute respiratory syndrome coronavirus 2</td>\n",
       "      <td>Replicase polyprotein 1ab</td>\n",
       "      <td>2697049</td>\n",
       "      <td>None</td>\n",
       "      <td>None</td>\n",
       "      <td>IC50</td>\n",
       "      <td>uM</td>\n",
       "      <td>UO_0000065</td>\n",
       "      <td>None</td>\n",
       "      <td>0.04</td>\n",
       "    </tr>\n",
       "  </tbody>\n",
       "</table>\n",
       "<p>5 rows × 45 columns</p>\n",
       "</div>"
      ],
      "text/plain": [
       "  activity_comment  activity_id activity_properties assay_chembl_id  \\\n",
       "0  Dtt Insensitive     19964199                  []   CHEMBL4495583   \n",
       "1  Dtt Insensitive     19964200                  []   CHEMBL4495583   \n",
       "2  Dtt Insensitive     19964201                  []   CHEMBL4495583   \n",
       "3  Dtt Insensitive     19964202                  []   CHEMBL4495583   \n",
       "4  Dtt Insensitive     19964203                  []   CHEMBL4495583   \n",
       "\n",
       "                                   assay_description assay_type  \\\n",
       "0  SARS-CoV-2 3CL-Pro protease inhibition IC50 de...          F   \n",
       "1  SARS-CoV-2 3CL-Pro protease inhibition IC50 de...          F   \n",
       "2  SARS-CoV-2 3CL-Pro protease inhibition IC50 de...          F   \n",
       "3  SARS-CoV-2 3CL-Pro protease inhibition IC50 de...          F   \n",
       "4  SARS-CoV-2 3CL-Pro protease inhibition IC50 de...          F   \n",
       "\n",
       "  assay_variant_accession assay_variant_mutation bao_endpoint   bao_format  \\\n",
       "0                    None                   None  BAO_0000190  BAO_0000019   \n",
       "1                    None                   None  BAO_0000190  BAO_0000019   \n",
       "2                    None                   None  BAO_0000190  BAO_0000019   \n",
       "3                    None                   None  BAO_0000190  BAO_0000019   \n",
       "4                    None                   None  BAO_0000190  BAO_0000019   \n",
       "\n",
       "   ...                                  target_organism  \\\n",
       "0  ...  Severe acute respiratory syndrome coronavirus 2   \n",
       "1  ...  Severe acute respiratory syndrome coronavirus 2   \n",
       "2  ...  Severe acute respiratory syndrome coronavirus 2   \n",
       "3  ...  Severe acute respiratory syndrome coronavirus 2   \n",
       "4  ...  Severe acute respiratory syndrome coronavirus 2   \n",
       "\n",
       "            target_pref_name target_tax_id text_value  toid  type  units  \\\n",
       "0  Replicase polyprotein 1ab       2697049       None  None  IC50     uM   \n",
       "1  Replicase polyprotein 1ab       2697049       None  None  IC50     uM   \n",
       "2  Replicase polyprotein 1ab       2697049       None  None  IC50     uM   \n",
       "3  Replicase polyprotein 1ab       2697049       None  None  IC50     uM   \n",
       "4  Replicase polyprotein 1ab       2697049       None  None  IC50     uM   \n",
       "\n",
       "     uo_units upper_value value  \n",
       "0  UO_0000065        None  0.39  \n",
       "1  UO_0000065        None  0.21  \n",
       "2  UO_0000065        None  0.08  \n",
       "3  UO_0000065        None  1.58  \n",
       "4  UO_0000065        None  0.04  \n",
       "\n",
       "[5 rows x 45 columns]"
      ]
     },
     "execution_count": 19,
     "metadata": {},
     "output_type": "execute_result"
    }
   ],
   "source": [
    "df = pd.DataFrame(res)\n",
    "df.head()"
   ]
  },
  {
   "cell_type": "markdown",
   "id": "4901dcc3",
   "metadata": {},
   "source": [
    "Some columns are completely missing so they will be dropped while others are missing a few."
   ]
  },
  {
   "cell_type": "code",
   "execution_count": 20,
   "id": "813d2248",
   "metadata": {},
   "outputs": [
    {
     "data": {
      "text/plain": [
       "<AxesSubplot:>"
      ]
     },
     "execution_count": 20,
     "metadata": {},
     "output_type": "execute_result"
    },
    {
     "data": {
      "image/png": "[encoded data removed]",
      "text/plain": [
       "<Figure size 1008x288 with 1 Axes>"
      ]
     },
     "metadata": {
      "needs_background": "light"
     },
     "output_type": "display_data"
    }
   ],
   "source": [
    "df.isna().sum().plot(kind='bar', figsize=(14, 4))"
   ]
  },
  {
   "cell_type": "markdown",
   "id": "8e6b57c9",
   "metadata": {},
   "source": [
    "There are a lot of columns here but we will only look at a few. \n",
    "- SMILES - simplified molecular input line entry system, = double bond, () attached to an atom, C - Carbon\n",
    "O - Oxygen\n",
    "N - Nitrogen\n",
    "- molecule_chembl_id - ID on chembl\n",
    "- standard_value - The target value is the standard value which is the potency of the drug. \n",
    "\n",
    "\n",
    "The lower the standard value the better the potency of the drug. A drugs affectness is the IC50, the inhibitory concentration at 50%. Idealy we want small standard values so we get to 50% with a lower concertration. \n",
    "\n",
    "For example, if you had to choose to take 5mL of medication or 5L of medication to have the same affect which would you choose. Also economically smaller doeses are easier to distribute and make"
   ]
  },
  {
   "cell_type": "markdown",
   "id": "4a281237",
   "metadata": {},
   "source": [
    "Now we will feature engineer the bioactivity class based on the standard value. The compounds will be \n",
    "\n",
    "- active: Standard values having values of less than 1000 nM\n",
    "- inactive: Standard values greater than 10,000 nM\n",
    "- intermediate: Standard values between 1,000 and 10,000 nM will be referred to as intermediate."
   ]
  },
  {
   "cell_type": "code",
   "execution_count": 21,
   "id": "460be3cc",
   "metadata": {},
   "outputs": [],
   "source": [
    "df['standard_value'] = pd.to_numeric(df['standard_value'])\n",
    "df['bioactivity_class'] = 'intermediate'\n",
    "df.loc[df['standard_value'].astype(float) >= 10000, 'bioactivity_class'] = 'inactive'\n",
    "df.loc[df['standard_value'].astype(float) <= 1000, 'bioactivity_class'] = 'active'"
   ]
  },
  {
   "cell_type": "markdown",
   "id": "b2c5e205",
   "metadata": {},
   "source": [
    "Now we will query for the columns we need and drop rows that have missing canonical_smiles for the next step"
   ]
  },
  {
   "cell_type": "code",
   "execution_count": 22,
   "id": "d1064ae4",
   "metadata": {},
   "outputs": [],
   "source": [
    "bioactivity_columns=['molecule_chembl_id', 'canonical_smiles', 'standard_value', 'bioactivity_class']\n",
    "df = df[bioactivity_columns].dropna(subset=['canonical_smiles'])"
   ]
  },
  {
   "cell_type": "code",
   "execution_count": 23,
   "id": "08402e74",
   "metadata": {},
   "outputs": [
    {
     "data": {
      "text/plain": [
       "molecule_chembl_id    False\n",
       "canonical_smiles      False\n",
       "standard_value        False\n",
       "bioactivity_class     False\n",
       "dtype: bool"
      ]
     },
     "execution_count": 23,
     "metadata": {},
     "output_type": "execute_result"
    }
   ],
   "source": [
    "df.isna().any()"
   ]
  },
  {
   "cell_type": "code",
   "execution_count": 24,
   "id": "e2a99f99",
   "metadata": {},
   "outputs": [
    {
     "data": {
      "text/html": [
       "<div>\n",
       "<style scoped>\n",
       "    .dataframe tbody tr th:only-of-type {\n",
       "        vertical-align: middle;\n",
       "    }\n",
       "\n",
       "    .dataframe tbody tr th {\n",
       "        vertical-align: top;\n",
       "    }\n",
       "\n",
       "    .dataframe thead th {\n",
       "        text-align: right;\n",
       "    }\n",
       "</style>\n",
       "<table border=\"1\" class=\"dataframe\">\n",
       "  <thead>\n",
       "    <tr style=\"text-align: right;\">\n",
       "      <th></th>\n",
       "      <th>molecule_chembl_id</th>\n",
       "      <th>canonical_smiles</th>\n",
       "      <th>standard_value</th>\n",
       "      <th>bioactivity_class</th>\n",
       "    </tr>\n",
       "  </thead>\n",
       "  <tbody>\n",
       "    <tr>\n",
       "      <th>0</th>\n",
       "      <td>CHEMBL480</td>\n",
       "      <td>Cc1c(OCC(F)(F)F)ccnc1C[S+]([O-])c1nc2ccccc2[nH]1</td>\n",
       "      <td>390.0</td>\n",
       "      <td>active</td>\n",
       "    </tr>\n",
       "    <tr>\n",
       "      <th>1</th>\n",
       "      <td>CHEMBL178459</td>\n",
       "      <td>Cc1c(-c2cnccn2)ssc1=S</td>\n",
       "      <td>210.0</td>\n",
       "      <td>active</td>\n",
       "    </tr>\n",
       "    <tr>\n",
       "      <th>2</th>\n",
       "      <td>CHEMBL3545157</td>\n",
       "      <td>O=c1sn(-c2cccc3ccccc23)c(=O)n1Cc1ccccc1</td>\n",
       "      <td>80.0</td>\n",
       "      <td>active</td>\n",
       "    </tr>\n",
       "    <tr>\n",
       "      <th>3</th>\n",
       "      <td>CHEMBL297453</td>\n",
       "      <td>O=C(O[C@@H]1Cc2c(O)cc(O)cc2O[C@@H]1c1cc(O)c(O)...</td>\n",
       "      <td>1580.0</td>\n",
       "      <td>intermediate</td>\n",
       "    </tr>\n",
       "    <tr>\n",
       "      <th>4</th>\n",
       "      <td>CHEMBL4303595</td>\n",
       "      <td>O=C1C=Cc2cc(Br)ccc2C1=O</td>\n",
       "      <td>40.0</td>\n",
       "      <td>active</td>\n",
       "    </tr>\n",
       "  </tbody>\n",
       "</table>\n",
       "</div>"
      ],
      "text/plain": [
       "  molecule_chembl_id                                   canonical_smiles  \\\n",
       "0          CHEMBL480   Cc1c(OCC(F)(F)F)ccnc1C[S+]([O-])c1nc2ccccc2[nH]1   \n",
       "1       CHEMBL178459                              Cc1c(-c2cnccn2)ssc1=S   \n",
       "2      CHEMBL3545157            O=c1sn(-c2cccc3ccccc23)c(=O)n1Cc1ccccc1   \n",
       "3       CHEMBL297453  O=C(O[C@@H]1Cc2c(O)cc(O)cc2O[C@@H]1c1cc(O)c(O)...   \n",
       "4      CHEMBL4303595                            O=C1C=Cc2cc(Br)ccc2C1=O   \n",
       "\n",
       "   standard_value bioactivity_class  \n",
       "0           390.0            active  \n",
       "1           210.0            active  \n",
       "2            80.0            active  \n",
       "3          1580.0      intermediate  \n",
       "4            40.0            active  "
      ]
     },
     "execution_count": 24,
     "metadata": {},
     "output_type": "execute_result"
    }
   ],
   "source": [
    "df.head()"
   ]
  },
  {
   "cell_type": "markdown",
   "id": "6525e51d",
   "metadata": {},
   "source": [
    "### Calculate Lipinski descriptors\n",
    "With the chembl data cleaned we can now calculate Lipinski descriptors based on the canonical_smiles.\n",
    "\n",
    "Christopher Lipinski, a scientist at Pfizer, came up with a set of rule-of-thumb for evaluating the druglikeness of compounds. Such druglikeness is based on the Absorption, Distribution, Metabolism and Excretion (ADME) that is also known as the pharmacokinetic profile. Lipinski analyzed all orally active FDA-approved drugs in the formulation of what is to be known as the Rule-of-Five or Lipinski's Rule. The rule of five corresponds to how the four descriptors are all within a range that is a multiple of 5.\n",
    "\n",
    "The Lipinski's Rule stated the following:\n",
    "\n",
    "- Molecular weight < 500 Dalton\n",
    "- Octanol-water partition coefficient (LogP) < 5\n",
    "- Hydrogen bond donors < 5\n",
    "- Hydrogen bond acceptors < 10"
   ]
  },
  {
   "cell_type": "code",
   "execution_count": 25,
   "id": "a7e15048",
   "metadata": {},
   "outputs": [],
   "source": [
    "from rdkit import Chem\n",
    "from rdkit.Chem import Descriptors, Lipinski"
   ]
  },
  {
   "cell_type": "markdown",
   "id": "2dc73471",
   "metadata": {},
   "source": [
    "Using rdkit we can get the 4 descriptor, moldata will be a column of objects that we can then use to compute the decriptors"
   ]
  },
  {
   "cell_type": "code",
   "execution_count": 26,
   "id": "7c4f1b82",
   "metadata": {},
   "outputs": [
    {
     "data": {
      "text/html": [
       "<div>\n",
       "<style scoped>\n",
       "    .dataframe tbody tr th:only-of-type {\n",
       "        vertical-align: middle;\n",
       "    }\n",
       "\n",
       "    .dataframe tbody tr th {\n",
       "        vertical-align: top;\n",
       "    }\n",
       "\n",
       "    .dataframe thead th {\n",
       "        text-align: right;\n",
       "    }\n",
       "</style>\n",
       "<table border=\"1\" class=\"dataframe\">\n",
       "  <thead>\n",
       "    <tr style=\"text-align: right;\">\n",
       "      <th></th>\n",
       "      <th>molecule_chembl_id</th>\n",
       "      <th>canonical_smiles</th>\n",
       "      <th>standard_value</th>\n",
       "      <th>bioactivity_class</th>\n",
       "      <th>moldata</th>\n",
       "    </tr>\n",
       "  </thead>\n",
       "  <tbody>\n",
       "    <tr>\n",
       "      <th>0</th>\n",
       "      <td>CHEMBL480</td>\n",
       "      <td>Cc1c(OCC(F)(F)F)ccnc1C[S+]([O-])c1nc2ccccc2[nH]1</td>\n",
       "      <td>390.0</td>\n",
       "      <td>active</td>\n",
       "      <td>&lt;rdkit.Chem.rdchem.Mol object at 0x7f20c70a7f80&gt;</td>\n",
       "    </tr>\n",
       "    <tr>\n",
       "      <th>1</th>\n",
       "      <td>CHEMBL178459</td>\n",
       "      <td>Cc1c(-c2cnccn2)ssc1=S</td>\n",
       "      <td>210.0</td>\n",
       "      <td>active</td>\n",
       "      <td>&lt;rdkit.Chem.rdchem.Mol object at 0x7f20c70a7990&gt;</td>\n",
       "    </tr>\n",
       "    <tr>\n",
       "      <th>2</th>\n",
       "      <td>CHEMBL3545157</td>\n",
       "      <td>O=c1sn(-c2cccc3ccccc23)c(=O)n1Cc1ccccc1</td>\n",
       "      <td>80.0</td>\n",
       "      <td>active</td>\n",
       "      <td>&lt;rdkit.Chem.rdchem.Mol object at 0x7f20c70a70d0&gt;</td>\n",
       "    </tr>\n",
       "    <tr>\n",
       "      <th>3</th>\n",
       "      <td>CHEMBL297453</td>\n",
       "      <td>O=C(O[C@@H]1Cc2c(O)cc(O)cc2O[C@@H]1c1cc(O)c(O)...</td>\n",
       "      <td>1580.0</td>\n",
       "      <td>intermediate</td>\n",
       "      <td>&lt;rdkit.Chem.rdchem.Mol object at 0x7f20c70a7df0&gt;</td>\n",
       "    </tr>\n",
       "    <tr>\n",
       "      <th>4</th>\n",
       "      <td>CHEMBL4303595</td>\n",
       "      <td>O=C1C=Cc2cc(Br)ccc2C1=O</td>\n",
       "      <td>40.0</td>\n",
       "      <td>active</td>\n",
       "      <td>&lt;rdkit.Chem.rdchem.Mol object at 0x7f20c70a7620&gt;</td>\n",
       "    </tr>\n",
       "  </tbody>\n",
       "</table>\n",
       "</div>"
      ],
      "text/plain": [
       "  molecule_chembl_id                                   canonical_smiles  \\\n",
       "0          CHEMBL480   Cc1c(OCC(F)(F)F)ccnc1C[S+]([O-])c1nc2ccccc2[nH]1   \n",
       "1       CHEMBL178459                              Cc1c(-c2cnccn2)ssc1=S   \n",
       "2      CHEMBL3545157            O=c1sn(-c2cccc3ccccc23)c(=O)n1Cc1ccccc1   \n",
       "3       CHEMBL297453  O=C(O[C@@H]1Cc2c(O)cc(O)cc2O[C@@H]1c1cc(O)c(O)...   \n",
       "4      CHEMBL4303595                            O=C1C=Cc2cc(Br)ccc2C1=O   \n",
       "\n",
       "   standard_value bioactivity_class  \\\n",
       "0           390.0            active   \n",
       "1           210.0            active   \n",
       "2            80.0            active   \n",
       "3          1580.0      intermediate   \n",
       "4            40.0            active   \n",
       "\n",
       "                                            moldata  \n",
       "0  <rdkit.Chem.rdchem.Mol object at 0x7f20c70a7f80>  \n",
       "1  <rdkit.Chem.rdchem.Mol object at 0x7f20c70a7990>  \n",
       "2  <rdkit.Chem.rdchem.Mol object at 0x7f20c70a70d0>  \n",
       "3  <rdkit.Chem.rdchem.Mol object at 0x7f20c70a7df0>  \n",
       "4  <rdkit.Chem.rdchem.Mol object at 0x7f20c70a7620>  "
      ]
     },
     "execution_count": 26,
     "metadata": {},
     "output_type": "execute_result"
    }
   ],
   "source": [
    "df['moldata'] = df['canonical_smiles'].map(Chem.MolFromSmiles)\n",
    "df.head()"
   ]
  },
  {
   "cell_type": "code",
   "execution_count": 27,
   "id": "9c7d5e0a",
   "metadata": {},
   "outputs": [],
   "source": [
    "df['molwt'] = df['moldata'].map(Descriptors.MolWt)\n",
    "df['logP'] = df['moldata'].map(Descriptors.MolLogP)\n",
    "df['numHDonors'] = df['moldata'].map(Descriptors.NumHDonors)\n",
    "df['numHAcceptors'] = df['moldata'].map(Descriptors.NumHAcceptors)"
   ]
  },
  {
   "cell_type": "markdown",
   "id": "1cd243ff",
   "metadata": {},
   "source": [
    "Now that we have the descriptors we no longer need the moldata objects"
   ]
  },
  {
   "cell_type": "code",
   "execution_count": 28,
   "id": "7ccfd620",
   "metadata": {},
   "outputs": [
    {
     "data": {
      "text/html": [
       "<div>\n",
       "<style scoped>\n",
       "    .dataframe tbody tr th:only-of-type {\n",
       "        vertical-align: middle;\n",
       "    }\n",
       "\n",
       "    .dataframe tbody tr th {\n",
       "        vertical-align: top;\n",
       "    }\n",
       "\n",
       "    .dataframe thead th {\n",
       "        text-align: right;\n",
       "    }\n",
       "</style>\n",
       "<table border=\"1\" class=\"dataframe\">\n",
       "  <thead>\n",
       "    <tr style=\"text-align: right;\">\n",
       "      <th></th>\n",
       "      <th>molwt</th>\n",
       "      <th>logP</th>\n",
       "      <th>numHDonors</th>\n",
       "      <th>numHAcceptors</th>\n",
       "      <th>bioactivity_class</th>\n",
       "      <th>standard_value</th>\n",
       "      <th>canonical_smiles</th>\n",
       "    </tr>\n",
       "  </thead>\n",
       "  <tbody>\n",
       "    <tr>\n",
       "      <th>0</th>\n",
       "      <td>369.368</td>\n",
       "      <td>3.51522</td>\n",
       "      <td>1</td>\n",
       "      <td>4</td>\n",
       "      <td>active</td>\n",
       "      <td>390.0</td>\n",
       "      <td>Cc1c(OCC(F)(F)F)ccnc1C[S+]([O-])c1nc2ccccc2[nH]1</td>\n",
       "    </tr>\n",
       "    <tr>\n",
       "      <th>1</th>\n",
       "      <td>226.351</td>\n",
       "      <td>3.30451</td>\n",
       "      <td>0</td>\n",
       "      <td>5</td>\n",
       "      <td>active</td>\n",
       "      <td>210.0</td>\n",
       "      <td>Cc1c(-c2cnccn2)ssc1=S</td>\n",
       "    </tr>\n",
       "    <tr>\n",
       "      <th>2</th>\n",
       "      <td>334.400</td>\n",
       "      <td>3.26220</td>\n",
       "      <td>0</td>\n",
       "      <td>5</td>\n",
       "      <td>active</td>\n",
       "      <td>80.0</td>\n",
       "      <td>O=c1sn(-c2cccc3ccccc23)c(=O)n1Cc1ccccc1</td>\n",
       "    </tr>\n",
       "    <tr>\n",
       "      <th>3</th>\n",
       "      <td>458.375</td>\n",
       "      <td>2.23320</td>\n",
       "      <td>8</td>\n",
       "      <td>11</td>\n",
       "      <td>intermediate</td>\n",
       "      <td>1580.0</td>\n",
       "      <td>O=C(O[C@@H]1Cc2c(O)cc(O)cc2O[C@@H]1c1cc(O)c(O)...</td>\n",
       "    </tr>\n",
       "    <tr>\n",
       "      <th>4</th>\n",
       "      <td>237.052</td>\n",
       "      <td>2.22770</td>\n",
       "      <td>0</td>\n",
       "      <td>2</td>\n",
       "      <td>active</td>\n",
       "      <td>40.0</td>\n",
       "      <td>O=C1C=Cc2cc(Br)ccc2C1=O</td>\n",
       "    </tr>\n",
       "  </tbody>\n",
       "</table>\n",
       "</div>"
      ],
      "text/plain": [
       "     molwt     logP  numHDonors  numHAcceptors bioactivity_class  \\\n",
       "0  369.368  3.51522           1              4            active   \n",
       "1  226.351  3.30451           0              5            active   \n",
       "2  334.400  3.26220           0              5            active   \n",
       "3  458.375  2.23320           8             11      intermediate   \n",
       "4  237.052  2.22770           0              2            active   \n",
       "\n",
       "   standard_value                                   canonical_smiles  \n",
       "0           390.0   Cc1c(OCC(F)(F)F)ccnc1C[S+]([O-])c1nc2ccccc2[nH]1  \n",
       "1           210.0                              Cc1c(-c2cnccn2)ssc1=S  \n",
       "2            80.0            O=c1sn(-c2cccc3ccccc23)c(=O)n1Cc1ccccc1  \n",
       "3          1580.0  O=C(O[C@@H]1Cc2c(O)cc(O)cc2O[C@@H]1c1cc(O)c(O)...  \n",
       "4            40.0                            O=C1C=Cc2cc(Br)ccc2C1=O  "
      ]
     },
     "execution_count": 28,
     "metadata": {},
     "output_type": "execute_result"
    }
   ],
   "source": [
    "lipinski_descriptors = ['molwt', 'logP', 'numHDonors', 'numHAcceptors']\n",
    "df = df[lipinski_descriptors + ['bioactivity_class', 'standard_value', 'canonical_smiles']]\n",
    "df.head()"
   ]
  },
  {
   "cell_type": "markdown",
   "id": "696c5311",
   "metadata": {},
   "source": [
    "### Calculate the molecular finger print\n",
    "\n",
    "Another set of features we can collect is the finger print of the canonical_smiles using padelpy"
   ]
  },
  {
   "cell_type": "code",
   "execution_count": 29,
   "id": "a1cd310c",
   "metadata": {},
   "outputs": [],
   "source": [
    "from padelpy import from_smiles"
   ]
  },
  {
   "cell_type": "code",
   "execution_count": 30,
   "id": "db402b65",
   "metadata": {},
   "outputs": [
    {
     "data": {
      "text/plain": [
       "0    {'PubchemFP0': '1', 'PubchemFP1': '1', 'Pubche...\n",
       "1    {'PubchemFP0': '1', 'PubchemFP1': '0', 'Pubche...\n",
       "2    {'PubchemFP0': '1', 'PubchemFP1': '1', 'Pubche...\n",
       "3    {'PubchemFP0': '1', 'PubchemFP1': '1', 'Pubche...\n",
       "4    {'PubchemFP0': '1', 'PubchemFP1': '0', 'Pubche...\n",
       "Name: canonical_smiles, dtype: object"
      ]
     },
     "execution_count": 30,
     "metadata": {},
     "output_type": "execute_result"
    }
   ],
   "source": [
    "pdf = df['canonical_smiles'].map(lambda x: from_smiles(x, fingerprints=True, descriptors=False))\n",
    "pdf.head()"
   ]
  },
  {
   "cell_type": "markdown",
   "id": "934e250e",
   "metadata": {},
   "source": [
    "The padel data frame is a series of list of dict, we convert the data into dataframe"
   ]
  },
  {
   "cell_type": "code",
   "execution_count": 31,
   "id": "339cba69",
   "metadata": {},
   "outputs": [
    {
     "data": {
      "text/html": [
       "<div>\n",
       "<style scoped>\n",
       "    .dataframe tbody tr th:only-of-type {\n",
       "        vertical-align: middle;\n",
       "    }\n",
       "\n",
       "    .dataframe tbody tr th {\n",
       "        vertical-align: top;\n",
       "    }\n",
       "\n",
       "    .dataframe thead th {\n",
       "        text-align: right;\n",
       "    }\n",
       "</style>\n",
       "<table border=\"1\" class=\"dataframe\">\n",
       "  <thead>\n",
       "    <tr style=\"text-align: right;\">\n",
       "      <th></th>\n",
       "      <th>PubchemFP0</th>\n",
       "      <th>PubchemFP1</th>\n",
       "      <th>PubchemFP2</th>\n",
       "      <th>PubchemFP3</th>\n",
       "      <th>PubchemFP4</th>\n",
       "      <th>PubchemFP5</th>\n",
       "      <th>PubchemFP6</th>\n",
       "      <th>PubchemFP7</th>\n",
       "      <th>PubchemFP8</th>\n",
       "      <th>PubchemFP9</th>\n",
       "      <th>...</th>\n",
       "      <th>PubchemFP871</th>\n",
       "      <th>PubchemFP872</th>\n",
       "      <th>PubchemFP873</th>\n",
       "      <th>PubchemFP874</th>\n",
       "      <th>PubchemFP875</th>\n",
       "      <th>PubchemFP876</th>\n",
       "      <th>PubchemFP877</th>\n",
       "      <th>PubchemFP878</th>\n",
       "      <th>PubchemFP879</th>\n",
       "      <th>PubchemFP880</th>\n",
       "    </tr>\n",
       "  </thead>\n",
       "  <tbody>\n",
       "    <tr>\n",
       "      <th>0</th>\n",
       "      <td>1</td>\n",
       "      <td>1</td>\n",
       "      <td>0</td>\n",
       "      <td>0</td>\n",
       "      <td>0</td>\n",
       "      <td>0</td>\n",
       "      <td>0</td>\n",
       "      <td>0</td>\n",
       "      <td>0</td>\n",
       "      <td>1</td>\n",
       "      <td>...</td>\n",
       "      <td>0</td>\n",
       "      <td>0</td>\n",
       "      <td>0</td>\n",
       "      <td>0</td>\n",
       "      <td>0</td>\n",
       "      <td>0</td>\n",
       "      <td>0</td>\n",
       "      <td>0</td>\n",
       "      <td>0</td>\n",
       "      <td>0</td>\n",
       "    </tr>\n",
       "    <tr>\n",
       "      <th>1</th>\n",
       "      <td>1</td>\n",
       "      <td>0</td>\n",
       "      <td>0</td>\n",
       "      <td>0</td>\n",
       "      <td>0</td>\n",
       "      <td>0</td>\n",
       "      <td>0</td>\n",
       "      <td>0</td>\n",
       "      <td>0</td>\n",
       "      <td>1</td>\n",
       "      <td>...</td>\n",
       "      <td>0</td>\n",
       "      <td>0</td>\n",
       "      <td>0</td>\n",
       "      <td>0</td>\n",
       "      <td>0</td>\n",
       "      <td>0</td>\n",
       "      <td>0</td>\n",
       "      <td>0</td>\n",
       "      <td>0</td>\n",
       "      <td>0</td>\n",
       "    </tr>\n",
       "    <tr>\n",
       "      <th>2</th>\n",
       "      <td>1</td>\n",
       "      <td>1</td>\n",
       "      <td>0</td>\n",
       "      <td>0</td>\n",
       "      <td>0</td>\n",
       "      <td>0</td>\n",
       "      <td>0</td>\n",
       "      <td>0</td>\n",
       "      <td>0</td>\n",
       "      <td>1</td>\n",
       "      <td>...</td>\n",
       "      <td>0</td>\n",
       "      <td>0</td>\n",
       "      <td>0</td>\n",
       "      <td>0</td>\n",
       "      <td>0</td>\n",
       "      <td>0</td>\n",
       "      <td>0</td>\n",
       "      <td>0</td>\n",
       "      <td>0</td>\n",
       "      <td>0</td>\n",
       "    </tr>\n",
       "    <tr>\n",
       "      <th>3</th>\n",
       "      <td>1</td>\n",
       "      <td>1</td>\n",
       "      <td>1</td>\n",
       "      <td>0</td>\n",
       "      <td>0</td>\n",
       "      <td>0</td>\n",
       "      <td>0</td>\n",
       "      <td>0</td>\n",
       "      <td>0</td>\n",
       "      <td>1</td>\n",
       "      <td>...</td>\n",
       "      <td>0</td>\n",
       "      <td>0</td>\n",
       "      <td>0</td>\n",
       "      <td>0</td>\n",
       "      <td>0</td>\n",
       "      <td>0</td>\n",
       "      <td>0</td>\n",
       "      <td>0</td>\n",
       "      <td>0</td>\n",
       "      <td>0</td>\n",
       "    </tr>\n",
       "    <tr>\n",
       "      <th>4</th>\n",
       "      <td>1</td>\n",
       "      <td>0</td>\n",
       "      <td>0</td>\n",
       "      <td>0</td>\n",
       "      <td>0</td>\n",
       "      <td>0</td>\n",
       "      <td>0</td>\n",
       "      <td>0</td>\n",
       "      <td>0</td>\n",
       "      <td>1</td>\n",
       "      <td>...</td>\n",
       "      <td>0</td>\n",
       "      <td>0</td>\n",
       "      <td>0</td>\n",
       "      <td>0</td>\n",
       "      <td>0</td>\n",
       "      <td>0</td>\n",
       "      <td>0</td>\n",
       "      <td>0</td>\n",
       "      <td>0</td>\n",
       "      <td>0</td>\n",
       "    </tr>\n",
       "  </tbody>\n",
       "</table>\n",
       "<p>5 rows × 881 columns</p>\n",
       "</div>"
      ],
      "text/plain": [
       "   PubchemFP0  PubchemFP1  PubchemFP2  PubchemFP3  PubchemFP4  PubchemFP5  \\\n",
       "0           1           1           0           0           0           0   \n",
       "1           1           0           0           0           0           0   \n",
       "2           1           1           0           0           0           0   \n",
       "3           1           1           1           0           0           0   \n",
       "4           1           0           0           0           0           0   \n",
       "\n",
       "   PubchemFP6  PubchemFP7  PubchemFP8  PubchemFP9  ...  PubchemFP871  \\\n",
       "0           0           0           0           1  ...             0   \n",
       "1           0           0           0           1  ...             0   \n",
       "2           0           0           0           1  ...             0   \n",
       "3           0           0           0           1  ...             0   \n",
       "4           0           0           0           1  ...             0   \n",
       "\n",
       "   PubchemFP872  PubchemFP873  PubchemFP874  PubchemFP875  PubchemFP876  \\\n",
       "0             0             0             0             0             0   \n",
       "1             0             0             0             0             0   \n",
       "2             0             0             0             0             0   \n",
       "3             0             0             0             0             0   \n",
       "4             0             0             0             0             0   \n",
       "\n",
       "   PubchemFP877  PubchemFP878  PubchemFP879  PubchemFP880  \n",
       "0             0             0             0             0  \n",
       "1             0             0             0             0  \n",
       "2             0             0             0             0  \n",
       "3             0             0             0             0  \n",
       "4             0             0             0             0  \n",
       "\n",
       "[5 rows x 881 columns]"
      ]
     },
     "execution_count": 31,
     "metadata": {},
     "output_type": "execute_result"
    }
   ],
   "source": [
    "padel_df = pd.DataFrame(pdf.tolist()).apply(pd.to_numeric)\n",
    "padel_df.head()"
   ]
  },
  {
   "cell_type": "markdown",
   "id": "12c018f0",
   "metadata": {},
   "source": [
    "There are 881 columns are the data is very sparse, we can drop columns that have very little variance"
   ]
  },
  {
   "cell_type": "code",
   "execution_count": 32,
   "id": "edf42979",
   "metadata": {},
   "outputs": [
    {
     "name": "stdout",
     "output_type": "stream",
     "text": [
      "Columns that are mostly 0s: 580\n",
      "Columns that are mostly 1s: 9\n"
     ]
    }
   ],
   "source": [
    "zero_cols = padel_df.sum().loc[lambda x: x<10]\n",
    "ones_cols = padel_df.sum().loc[lambda x: x>100]\n",
    "print(f'Columns that are mostly 0s: {zero_cols.shape[0]}')\n",
    "print(f'Columns that are mostly 1s: {ones_cols.shape[0]}')"
   ]
  },
  {
   "cell_type": "code",
   "execution_count": 33,
   "id": "3d36d906",
   "metadata": {},
   "outputs": [
    {
     "data": {
      "text/html": [
       "<div>\n",
       "<style scoped>\n",
       "    .dataframe tbody tr th:only-of-type {\n",
       "        vertical-align: middle;\n",
       "    }\n",
       "\n",
       "    .dataframe tbody tr th {\n",
       "        vertical-align: top;\n",
       "    }\n",
       "\n",
       "    .dataframe thead th {\n",
       "        text-align: right;\n",
       "    }\n",
       "</style>\n",
       "<table border=\"1\" class=\"dataframe\">\n",
       "  <thead>\n",
       "    <tr style=\"text-align: right;\">\n",
       "      <th></th>\n",
       "      <th>PubchemFP1</th>\n",
       "      <th>PubchemFP2</th>\n",
       "      <th>PubchemFP12</th>\n",
       "      <th>PubchemFP14</th>\n",
       "      <th>PubchemFP15</th>\n",
       "      <th>PubchemFP16</th>\n",
       "      <th>PubchemFP18</th>\n",
       "      <th>PubchemFP19</th>\n",
       "      <th>PubchemFP20</th>\n",
       "      <th>PubchemFP21</th>\n",
       "      <th>...</th>\n",
       "      <th>PubchemFP776</th>\n",
       "      <th>PubchemFP777</th>\n",
       "      <th>PubchemFP797</th>\n",
       "      <th>PubchemFP798</th>\n",
       "      <th>PubchemFP800</th>\n",
       "      <th>PubchemFP803</th>\n",
       "      <th>PubchemFP818</th>\n",
       "      <th>PubchemFP819</th>\n",
       "      <th>PubchemFP821</th>\n",
       "      <th>PubchemFP824</th>\n",
       "    </tr>\n",
       "  </thead>\n",
       "  <tbody>\n",
       "    <tr>\n",
       "      <th>0</th>\n",
       "      <td>1</td>\n",
       "      <td>0</td>\n",
       "      <td>1</td>\n",
       "      <td>1</td>\n",
       "      <td>1</td>\n",
       "      <td>0</td>\n",
       "      <td>1</td>\n",
       "      <td>1</td>\n",
       "      <td>0</td>\n",
       "      <td>0</td>\n",
       "      <td>...</td>\n",
       "      <td>0</td>\n",
       "      <td>0</td>\n",
       "      <td>0</td>\n",
       "      <td>0</td>\n",
       "      <td>0</td>\n",
       "      <td>0</td>\n",
       "      <td>0</td>\n",
       "      <td>0</td>\n",
       "      <td>0</td>\n",
       "      <td>0</td>\n",
       "    </tr>\n",
       "    <tr>\n",
       "      <th>1</th>\n",
       "      <td>0</td>\n",
       "      <td>0</td>\n",
       "      <td>0</td>\n",
       "      <td>1</td>\n",
       "      <td>1</td>\n",
       "      <td>0</td>\n",
       "      <td>0</td>\n",
       "      <td>0</td>\n",
       "      <td>0</td>\n",
       "      <td>0</td>\n",
       "      <td>...</td>\n",
       "      <td>0</td>\n",
       "      <td>0</td>\n",
       "      <td>0</td>\n",
       "      <td>0</td>\n",
       "      <td>0</td>\n",
       "      <td>0</td>\n",
       "      <td>0</td>\n",
       "      <td>0</td>\n",
       "      <td>0</td>\n",
       "      <td>0</td>\n",
       "    </tr>\n",
       "    <tr>\n",
       "      <th>2</th>\n",
       "      <td>1</td>\n",
       "      <td>0</td>\n",
       "      <td>1</td>\n",
       "      <td>1</td>\n",
       "      <td>1</td>\n",
       "      <td>0</td>\n",
       "      <td>1</td>\n",
       "      <td>1</td>\n",
       "      <td>0</td>\n",
       "      <td>0</td>\n",
       "      <td>...</td>\n",
       "      <td>0</td>\n",
       "      <td>0</td>\n",
       "      <td>0</td>\n",
       "      <td>0</td>\n",
       "      <td>1</td>\n",
       "      <td>0</td>\n",
       "      <td>1</td>\n",
       "      <td>0</td>\n",
       "      <td>1</td>\n",
       "      <td>0</td>\n",
       "    </tr>\n",
       "    <tr>\n",
       "      <th>3</th>\n",
       "      <td>1</td>\n",
       "      <td>1</td>\n",
       "      <td>1</td>\n",
       "      <td>0</td>\n",
       "      <td>0</td>\n",
       "      <td>0</td>\n",
       "      <td>1</td>\n",
       "      <td>1</td>\n",
       "      <td>1</td>\n",
       "      <td>1</td>\n",
       "      <td>...</td>\n",
       "      <td>0</td>\n",
       "      <td>1</td>\n",
       "      <td>0</td>\n",
       "      <td>1</td>\n",
       "      <td>0</td>\n",
       "      <td>1</td>\n",
       "      <td>0</td>\n",
       "      <td>1</td>\n",
       "      <td>0</td>\n",
       "      <td>1</td>\n",
       "    </tr>\n",
       "    <tr>\n",
       "      <th>4</th>\n",
       "      <td>0</td>\n",
       "      <td>0</td>\n",
       "      <td>0</td>\n",
       "      <td>0</td>\n",
       "      <td>0</td>\n",
       "      <td>0</td>\n",
       "      <td>1</td>\n",
       "      <td>1</td>\n",
       "      <td>0</td>\n",
       "      <td>0</td>\n",
       "      <td>...</td>\n",
       "      <td>0</td>\n",
       "      <td>0</td>\n",
       "      <td>0</td>\n",
       "      <td>0</td>\n",
       "      <td>0</td>\n",
       "      <td>0</td>\n",
       "      <td>1</td>\n",
       "      <td>0</td>\n",
       "      <td>0</td>\n",
       "      <td>0</td>\n",
       "    </tr>\n",
       "  </tbody>\n",
       "</table>\n",
       "<p>5 rows × 292 columns</p>\n",
       "</div>"
      ],
      "text/plain": [
       "   PubchemFP1  PubchemFP2  PubchemFP12  PubchemFP14  PubchemFP15  PubchemFP16  \\\n",
       "0           1           0            1            1            1            0   \n",
       "1           0           0            0            1            1            0   \n",
       "2           1           0            1            1            1            0   \n",
       "3           1           1            1            0            0            0   \n",
       "4           0           0            0            0            0            0   \n",
       "\n",
       "   PubchemFP18  PubchemFP19  PubchemFP20  PubchemFP21  ...  PubchemFP776  \\\n",
       "0            1            1            0            0  ...             0   \n",
       "1            0            0            0            0  ...             0   \n",
       "2            1            1            0            0  ...             0   \n",
       "3            1            1            1            1  ...             0   \n",
       "4            1            1            0            0  ...             0   \n",
       "\n",
       "   PubchemFP777  PubchemFP797  PubchemFP798  PubchemFP800  PubchemFP803  \\\n",
       "0             0             0             0             0             0   \n",
       "1             0             0             0             0             0   \n",
       "2             0             0             0             1             0   \n",
       "3             1             0             1             0             1   \n",
       "4             0             0             0             0             0   \n",
       "\n",
       "   PubchemFP818  PubchemFP819  PubchemFP821  PubchemFP824  \n",
       "0             0             0             0             0  \n",
       "1             0             0             0             0  \n",
       "2             1             0             1             0  \n",
       "3             0             1             0             1  \n",
       "4             1             0             0             0  \n",
       "\n",
       "[5 rows x 292 columns]"
      ]
     },
     "execution_count": 33,
     "metadata": {},
     "output_type": "execute_result"
    }
   ],
   "source": [
    "padel_df = padel_df.drop(zero_cols.index.tolist() + ones_cols.index.tolist(), axis=1)\n",
    "padel_df.head()"
   ]
  },
  {
   "cell_type": "markdown",
   "id": "152a578e",
   "metadata": {},
   "source": [
    "We can now merge the padel_df and the bioactivity dataframe and drop column"
   ]
  },
  {
   "cell_type": "code",
   "execution_count": 34,
   "id": "c94f0b7b",
   "metadata": {},
   "outputs": [
    {
     "data": {
      "text/html": [
       "<div>\n",
       "<style scoped>\n",
       "    .dataframe tbody tr th:only-of-type {\n",
       "        vertical-align: middle;\n",
       "    }\n",
       "\n",
       "    .dataframe tbody tr th {\n",
       "        vertical-align: top;\n",
       "    }\n",
       "\n",
       "    .dataframe thead th {\n",
       "        text-align: right;\n",
       "    }\n",
       "</style>\n",
       "<table border=\"1\" class=\"dataframe\">\n",
       "  <thead>\n",
       "    <tr style=\"text-align: right;\">\n",
       "      <th></th>\n",
       "      <th>molwt</th>\n",
       "      <th>logP</th>\n",
       "      <th>numHDonors</th>\n",
       "      <th>numHAcceptors</th>\n",
       "      <th>bioactivity_class</th>\n",
       "      <th>standard_value</th>\n",
       "      <th>canonical_smiles</th>\n",
       "      <th>PubchemFP1</th>\n",
       "      <th>PubchemFP2</th>\n",
       "      <th>PubchemFP12</th>\n",
       "      <th>...</th>\n",
       "      <th>PubchemFP776</th>\n",
       "      <th>PubchemFP777</th>\n",
       "      <th>PubchemFP797</th>\n",
       "      <th>PubchemFP798</th>\n",
       "      <th>PubchemFP800</th>\n",
       "      <th>PubchemFP803</th>\n",
       "      <th>PubchemFP818</th>\n",
       "      <th>PubchemFP819</th>\n",
       "      <th>PubchemFP821</th>\n",
       "      <th>PubchemFP824</th>\n",
       "    </tr>\n",
       "  </thead>\n",
       "  <tbody>\n",
       "    <tr>\n",
       "      <th>0</th>\n",
       "      <td>369.368</td>\n",
       "      <td>3.51522</td>\n",
       "      <td>1</td>\n",
       "      <td>4</td>\n",
       "      <td>active</td>\n",
       "      <td>390.0</td>\n",
       "      <td>Cc1c(OCC(F)(F)F)ccnc1C[S+]([O-])c1nc2ccccc2[nH]1</td>\n",
       "      <td>1</td>\n",
       "      <td>0</td>\n",
       "      <td>1</td>\n",
       "      <td>...</td>\n",
       "      <td>0</td>\n",
       "      <td>0</td>\n",
       "      <td>0</td>\n",
       "      <td>0</td>\n",
       "      <td>0</td>\n",
       "      <td>0</td>\n",
       "      <td>0</td>\n",
       "      <td>0</td>\n",
       "      <td>0</td>\n",
       "      <td>0</td>\n",
       "    </tr>\n",
       "    <tr>\n",
       "      <th>1</th>\n",
       "      <td>226.351</td>\n",
       "      <td>3.30451</td>\n",
       "      <td>0</td>\n",
       "      <td>5</td>\n",
       "      <td>active</td>\n",
       "      <td>210.0</td>\n",
       "      <td>Cc1c(-c2cnccn2)ssc1=S</td>\n",
       "      <td>0</td>\n",
       "      <td>0</td>\n",
       "      <td>0</td>\n",
       "      <td>...</td>\n",
       "      <td>0</td>\n",
       "      <td>0</td>\n",
       "      <td>0</td>\n",
       "      <td>0</td>\n",
       "      <td>0</td>\n",
       "      <td>0</td>\n",
       "      <td>0</td>\n",
       "      <td>0</td>\n",
       "      <td>0</td>\n",
       "      <td>0</td>\n",
       "    </tr>\n",
       "    <tr>\n",
       "      <th>2</th>\n",
       "      <td>334.400</td>\n",
       "      <td>3.26220</td>\n",
       "      <td>0</td>\n",
       "      <td>5</td>\n",
       "      <td>active</td>\n",
       "      <td>80.0</td>\n",
       "      <td>O=c1sn(-c2cccc3ccccc23)c(=O)n1Cc1ccccc1</td>\n",
       "      <td>1</td>\n",
       "      <td>0</td>\n",
       "      <td>1</td>\n",
       "      <td>...</td>\n",
       "      <td>0</td>\n",
       "      <td>0</td>\n",
       "      <td>0</td>\n",
       "      <td>0</td>\n",
       "      <td>1</td>\n",
       "      <td>0</td>\n",
       "      <td>1</td>\n",
       "      <td>0</td>\n",
       "      <td>1</td>\n",
       "      <td>0</td>\n",
       "    </tr>\n",
       "    <tr>\n",
       "      <th>3</th>\n",
       "      <td>458.375</td>\n",
       "      <td>2.23320</td>\n",
       "      <td>8</td>\n",
       "      <td>11</td>\n",
       "      <td>intermediate</td>\n",
       "      <td>1580.0</td>\n",
       "      <td>O=C(O[C@@H]1Cc2c(O)cc(O)cc2O[C@@H]1c1cc(O)c(O)...</td>\n",
       "      <td>1</td>\n",
       "      <td>1</td>\n",
       "      <td>1</td>\n",
       "      <td>...</td>\n",
       "      <td>0</td>\n",
       "      <td>1</td>\n",
       "      <td>0</td>\n",
       "      <td>1</td>\n",
       "      <td>0</td>\n",
       "      <td>1</td>\n",
       "      <td>0</td>\n",
       "      <td>1</td>\n",
       "      <td>0</td>\n",
       "      <td>1</td>\n",
       "    </tr>\n",
       "    <tr>\n",
       "      <th>4</th>\n",
       "      <td>237.052</td>\n",
       "      <td>2.22770</td>\n",
       "      <td>0</td>\n",
       "      <td>2</td>\n",
       "      <td>active</td>\n",
       "      <td>40.0</td>\n",
       "      <td>O=C1C=Cc2cc(Br)ccc2C1=O</td>\n",
       "      <td>0</td>\n",
       "      <td>0</td>\n",
       "      <td>0</td>\n",
       "      <td>...</td>\n",
       "      <td>0</td>\n",
       "      <td>0</td>\n",
       "      <td>0</td>\n",
       "      <td>0</td>\n",
       "      <td>0</td>\n",
       "      <td>0</td>\n",
       "      <td>1</td>\n",
       "      <td>0</td>\n",
       "      <td>0</td>\n",
       "      <td>0</td>\n",
       "    </tr>\n",
       "  </tbody>\n",
       "</table>\n",
       "<p>5 rows × 299 columns</p>\n",
       "</div>"
      ],
      "text/plain": [
       "     molwt     logP  numHDonors  numHAcceptors bioactivity_class  \\\n",
       "0  369.368  3.51522           1              4            active   \n",
       "1  226.351  3.30451           0              5            active   \n",
       "2  334.400  3.26220           0              5            active   \n",
       "3  458.375  2.23320           8             11      intermediate   \n",
       "4  237.052  2.22770           0              2            active   \n",
       "\n",
       "   standard_value                                   canonical_smiles  \\\n",
       "0           390.0   Cc1c(OCC(F)(F)F)ccnc1C[S+]([O-])c1nc2ccccc2[nH]1   \n",
       "1           210.0                              Cc1c(-c2cnccn2)ssc1=S   \n",
       "2            80.0            O=c1sn(-c2cccc3ccccc23)c(=O)n1Cc1ccccc1   \n",
       "3          1580.0  O=C(O[C@@H]1Cc2c(O)cc(O)cc2O[C@@H]1c1cc(O)c(O)...   \n",
       "4            40.0                            O=C1C=Cc2cc(Br)ccc2C1=O   \n",
       "\n",
       "   PubchemFP1  PubchemFP2  PubchemFP12  ...  PubchemFP776  PubchemFP777  \\\n",
       "0           1           0            1  ...             0             0   \n",
       "1           0           0            0  ...             0             0   \n",
       "2           1           0            1  ...             0             0   \n",
       "3           1           1            1  ...             0             1   \n",
       "4           0           0            0  ...             0             0   \n",
       "\n",
       "   PubchemFP797  PubchemFP798  PubchemFP800  PubchemFP803  PubchemFP818  \\\n",
       "0             0             0             0             0             0   \n",
       "1             0             0             0             0             0   \n",
       "2             0             0             1             0             1   \n",
       "3             0             1             0             1             0   \n",
       "4             0             0             0             0             1   \n",
       "\n",
       "   PubchemFP819  PubchemFP821  PubchemFP824  \n",
       "0             0             0             0  \n",
       "1             0             0             0  \n",
       "2             0             1             0  \n",
       "3             1             0             1  \n",
       "4             0             0             0  \n",
       "\n",
       "[5 rows x 299 columns]"
      ]
     },
     "execution_count": 34,
     "metadata": {},
     "output_type": "execute_result"
    }
   ],
   "source": [
    "df = df.merge(padel_df, left_index=True, right_index=True)\n",
    "df.head()"
   ]
  },
  {
   "cell_type": "markdown",
   "id": "ebfc13d5",
   "metadata": {},
   "source": [
    "## Exploratory Data Analysis"
   ]
  },
  {
   "cell_type": "markdown",
   "id": "ab06aa5d",
   "metadata": {},
   "source": [
    "We begin with the distribution of the Bioactivity Class"
   ]
  },
  {
   "cell_type": "code",
   "execution_count": 171,
   "id": "a5b214ae",
   "metadata": {},
   "outputs": [
    {
     "data": {
      "text/plain": [
       "<AxesSubplot:title={'center':'Bioactivity Class'}>"
      ]
     },
     "execution_count": 171,
     "metadata": {},
     "output_type": "execute_result"
    },
    {
     "data": {
      "image/png": "[encoded data removed]",
      "text/plain": [
       "<Figure size 432x288 with 1 Axes>"
      ]
     },
     "metadata": {
      "needs_background": "light"
     },
     "output_type": "display_data"
    }
   ],
   "source": [
    "df['bioactivity_class'].value_counts().plot(kind='bar', title='Bioactivity Class', rot=0)"
   ]
  },
  {
   "cell_type": "markdown",
   "id": "11a46631",
   "metadata": {},
   "source": [
    "There is a good balance between active and intermediate compounds"
   ]
  },
  {
   "cell_type": "code",
   "execution_count": 172,
   "id": "c245af7c",
   "metadata": {},
   "outputs": [
    {
     "data": {
      "text/plain": [
       "<AxesSubplot:>"
      ]
     },
     "execution_count": 172,
     "metadata": {},
     "output_type": "execute_result"
    },
    {
     "data": {
      "image/png": "[encoded data removed]",
      "text/plain": [
       "<Figure size 432x288 with 1 Axes>"
      ]
     },
     "metadata": {
      "needs_background": "light"
     },
     "output_type": "display_data"
    }
   ],
   "source": [
    "df['standard_value'].hist(bins=30)"
   ]
  },
  {
   "cell_type": "markdown",
   "id": "d11c24d4",
   "metadata": {},
   "source": [
    "The distribution of the standard value is right scewed"
   ]
  },
  {
   "cell_type": "code",
   "execution_count": 173,
   "id": "04d42683",
   "metadata": {},
   "outputs": [
    {
     "data": {
      "text/plain": [
       "<AxesSubplot:xlabel='molwt', ylabel='logP'>"
      ]
     },
     "execution_count": 173,
     "metadata": {},
     "output_type": "execute_result"
    },
    {
     "data": {
      "image/png": "[encoded data removed]",
      "text/plain": [
       "<Figure size 1152x576 with 1 Axes>"
      ]
     },
     "metadata": {
      "needs_background": "light"
     },
     "output_type": "display_data"
    }
   ],
   "source": [
    "plt.figure(figsize=(16,8))\n",
    "sns.scatterplot(x='molwt', y='logP', data=df, hue='bioactivity_class', size='standard_value', edgecolor='black')"
   ]
  },
  {
   "cell_type": "markdown",
   "id": "c2f672c1",
   "metadata": {},
   "source": [
    "Smaller molwt seem to be linearly coorelated with logP for both active and intermediate compounds, but as values get larger they thin out"
   ]
  },
  {
   "cell_type": "code",
   "execution_count": 174,
   "id": "33a5ebef",
   "metadata": {},
   "outputs": [
    {
     "data": {
      "text/plain": [
       "<AxesSubplot:xlabel='bioactivity_class', ylabel='standard_value'>"
      ]
     },
     "execution_count": 174,
     "metadata": {},
     "output_type": "execute_result"
    },
    {
     "data": {
      "image/png": "[encoded data removed]",
      "text/plain": [
       "<Figure size 864x576 with 1 Axes>"
      ]
     },
     "metadata": {
      "needs_background": "light"
     },
     "output_type": "display_data"
    }
   ],
   "source": [
    "plt.figure(figsize=(12,8))\n",
    "sns.boxplot(x='bioactivity_class', y='standard_value', data=df)"
   ]
  },
  {
   "cell_type": "markdown",
   "id": "dc021091",
   "metadata": {},
   "source": [
    "Active compounds have a small spread while intermediate have a much IQR"
   ]
  },
  {
   "cell_type": "code",
   "execution_count": 175,
   "id": "93e14abc",
   "metadata": {},
   "outputs": [
    {
     "data": {
      "image/png": "[encoded data removed]",
      "text/plain": [
       "<Figure size 1152x576 with 1 Axes>"
      ]
     },
     "metadata": {
      "needs_background": "light"
     },
     "output_type": "display_data"
    }
   ],
   "source": [
    "pub_vals = df.filter(like='Pub').sum().sort_values().values\n",
    "plt.figure(figsize=(16,8))\n",
    "splot = sns.countplot(x=pub_vals)\n",
    "splot.tick_params(axis='x', rotation=90)"
   ]
  },
  {
   "cell_type": "markdown",
   "id": "a8ede7b4",
   "metadata": {},
   "source": [
    "The Pub values don't seem to have a specific distribution"
   ]
  },
  {
   "cell_type": "code",
   "execution_count": 176,
   "id": "588934b6",
   "metadata": {},
   "outputs": [
    {
     "data": {
      "text/plain": [
       "<AxesSubplot:xlabel='bioactivity_class'>"
      ]
     },
     "execution_count": 176,
     "metadata": {},
     "output_type": "execute_result"
    },
    {
     "data": {
      "image/png": "[encoded data removed]",
      "text/plain": [
       "<Figure size 432x288 with 1 Axes>"
      ]
     },
     "metadata": {
      "needs_background": "light"
     },
     "output_type": "display_data"
    }
   ],
   "source": [
    "df.groupby('bioactivity_class').agg({'numHDonors': 'mean', 'numHAcceptors': 'mean'}).plot(kind='bar', rot=0)"
   ]
  },
  {
   "cell_type": "markdown",
   "id": "e2913cee",
   "metadata": {},
   "source": [
    "Active compounds have less numHDonors and numHAcceptors compared to intermediate"
   ]
  },
  {
   "cell_type": "markdown",
   "id": "14f3c7a6",
   "metadata": {},
   "source": [
    "Next let's look at which columns are statistically significant with respect to bioactivity_class. One way to test is the [mann whitneyu test](https://docs.scipy.org/doc/scipy/reference/generated/scipy.stats.mannwhitneyu.html), conducted below.\n",
    "\n",
    "The Mann-Whitney U test is a nonparametric test of the null hypothesis that the distribution underlying sample x is the same as the distribution underlying sample y. It is often used as a test of of difference in location between distributions."
   ]
  },
  {
   "cell_type": "code",
   "execution_count": 35,
   "id": "1a885098",
   "metadata": {},
   "outputs": [],
   "source": [
    "from scipy.stats import mannwhitneyu"
   ]
  },
  {
   "cell_type": "code",
   "execution_count": 36,
   "id": "d6f6d4ed",
   "metadata": {},
   "outputs": [],
   "source": [
    "def statistical_significance(x, df, alpha=1e-2):\n",
    "    \n",
    "    adf = df[df['bioactivity_class'].eq('active')][x]\n",
    "    idf = df[df['bioactivity_class'].eq('intermediate')][x]\n",
    "    stat, pval = mannwhitneyu(adf, idf)\n",
    "    \n",
    "    h = 'fail to reject H0' if pval > alpha else 'reject H0'\n",
    "    results = {'Descriptor':x,\n",
    "               'Statistics':stat,\n",
    "               'p':pval,\n",
    "               'alpha':alpha,\n",
    "               'Interpretation':h}\n",
    "    \n",
    "    return results"
   ]
  },
  {
   "cell_type": "code",
   "execution_count": 37,
   "id": "c156c1ff",
   "metadata": {},
   "outputs": [
    {
     "data": {
      "text/html": [
       "<div>\n",
       "<style scoped>\n",
       "    .dataframe tbody tr th:only-of-type {\n",
       "        vertical-align: middle;\n",
       "    }\n",
       "\n",
       "    .dataframe tbody tr th {\n",
       "        vertical-align: top;\n",
       "    }\n",
       "\n",
       "    .dataframe thead th {\n",
       "        text-align: right;\n",
       "    }\n",
       "</style>\n",
       "<table border=\"1\" class=\"dataframe\">\n",
       "  <thead>\n",
       "    <tr style=\"text-align: right;\">\n",
       "      <th></th>\n",
       "      <th>Descriptor</th>\n",
       "      <th>Statistics</th>\n",
       "      <th>p</th>\n",
       "      <th>alpha</th>\n",
       "      <th>Interpretation</th>\n",
       "    </tr>\n",
       "  </thead>\n",
       "  <tbody>\n",
       "    <tr>\n",
       "      <th>0</th>\n",
       "      <td>molwt</td>\n",
       "      <td>976.5</td>\n",
       "      <td>1.200940e-02</td>\n",
       "      <td>0.01</td>\n",
       "      <td>fail to reject H0</td>\n",
       "    </tr>\n",
       "    <tr>\n",
       "      <th>0</th>\n",
       "      <td>logP</td>\n",
       "      <td>1170.5</td>\n",
       "      <td>1.634514e-01</td>\n",
       "      <td>0.01</td>\n",
       "      <td>fail to reject H0</td>\n",
       "    </tr>\n",
       "    <tr>\n",
       "      <th>0</th>\n",
       "      <td>numHAcceptors</td>\n",
       "      <td>1076.5</td>\n",
       "      <td>5.325991e-02</td>\n",
       "      <td>0.01</td>\n",
       "      <td>fail to reject H0</td>\n",
       "    </tr>\n",
       "    <tr>\n",
       "      <th>0</th>\n",
       "      <td>numHDonors</td>\n",
       "      <td>883.5</td>\n",
       "      <td>1.664367e-03</td>\n",
       "      <td>0.01</td>\n",
       "      <td>reject H0</td>\n",
       "    </tr>\n",
       "    <tr>\n",
       "      <th>0</th>\n",
       "      <td>standard_value</td>\n",
       "      <td>0.0</td>\n",
       "      <td>1.936102e-18</td>\n",
       "      <td>0.01</td>\n",
       "      <td>reject H0</td>\n",
       "    </tr>\n",
       "  </tbody>\n",
       "</table>\n",
       "</div>"
      ],
      "text/plain": [
       "       Descriptor  Statistics             p  alpha     Interpretation\n",
       "0           molwt       976.5  1.200940e-02   0.01  fail to reject H0\n",
       "0            logP      1170.5  1.634514e-01   0.01  fail to reject H0\n",
       "0   numHAcceptors      1076.5  5.325991e-02   0.01  fail to reject H0\n",
       "0      numHDonors       883.5  1.664367e-03   0.01          reject H0\n",
       "0  standard_value         0.0  1.936102e-18   0.01          reject H0"
      ]
     },
     "execution_count": 37,
     "metadata": {},
     "output_type": "execute_result"
    }
   ],
   "source": [
    "pd.concat([pd.DataFrame(statistical_significance(i, df), index=[0]) for i in lipinski_descriptors + ['standard_value']]).sort_values('Interpretation')"
   ]
  },
  {
   "cell_type": "markdown",
   "id": "9c67cf84",
   "metadata": {},
   "source": [
    "Taking a look at standard values, the actives and inactives displayed statistically significant difference, which is to be expected since we define the bioactivity threshold with it.\n",
    "\n",
    "Of the 4 Lipinski's descriptors (MW, LogP, NumHDonors and NumHAcceptors), only numHDonors shows statistically significant difference between actives and inactives."
   ]
  },
  {
   "cell_type": "markdown",
   "id": "3d8c9398",
   "metadata": {},
   "source": [
    "## Modeling"
   ]
  },
  {
   "cell_type": "markdown",
   "id": "894c0220",
   "metadata": {},
   "source": [
    "We will train 2 random forests, one with all the features and another with only significant Lipinski's descriptors"
   ]
  },
  {
   "cell_type": "code",
   "execution_count": 38,
   "id": "c83c16a7",
   "metadata": {},
   "outputs": [],
   "source": [
    "import numpy as np\n",
    "np.random.seed(42)\n",
    "from sklearn.model_selection import train_test_split\n",
    "from sklearn.ensemble import RandomForestClassifier\n",
    "from sklearn.metrics import classification_report"
   ]
  },
  {
   "cell_type": "code",
   "execution_count": 39,
   "id": "4b285dfd",
   "metadata": {},
   "outputs": [
    {
     "data": {
      "text/html": [
       "<div>\n",
       "<style scoped>\n",
       "    .dataframe tbody tr th:only-of-type {\n",
       "        vertical-align: middle;\n",
       "    }\n",
       "\n",
       "    .dataframe tbody tr th {\n",
       "        vertical-align: top;\n",
       "    }\n",
       "\n",
       "    .dataframe thead th {\n",
       "        text-align: right;\n",
       "    }\n",
       "</style>\n",
       "<table border=\"1\" class=\"dataframe\">\n",
       "  <thead>\n",
       "    <tr style=\"text-align: right;\">\n",
       "      <th></th>\n",
       "      <th>molwt</th>\n",
       "      <th>logP</th>\n",
       "      <th>numHDonors</th>\n",
       "      <th>numHAcceptors</th>\n",
       "      <th>bioactivity_class</th>\n",
       "      <th>standard_value</th>\n",
       "      <th>canonical_smiles</th>\n",
       "      <th>PubchemFP1</th>\n",
       "      <th>PubchemFP2</th>\n",
       "      <th>PubchemFP12</th>\n",
       "      <th>...</th>\n",
       "      <th>PubchemFP776</th>\n",
       "      <th>PubchemFP777</th>\n",
       "      <th>PubchemFP797</th>\n",
       "      <th>PubchemFP798</th>\n",
       "      <th>PubchemFP800</th>\n",
       "      <th>PubchemFP803</th>\n",
       "      <th>PubchemFP818</th>\n",
       "      <th>PubchemFP819</th>\n",
       "      <th>PubchemFP821</th>\n",
       "      <th>PubchemFP824</th>\n",
       "    </tr>\n",
       "  </thead>\n",
       "  <tbody>\n",
       "    <tr>\n",
       "      <th>0</th>\n",
       "      <td>369.368</td>\n",
       "      <td>3.51522</td>\n",
       "      <td>1</td>\n",
       "      <td>4</td>\n",
       "      <td>active</td>\n",
       "      <td>390.0</td>\n",
       "      <td>Cc1c(OCC(F)(F)F)ccnc1C[S+]([O-])c1nc2ccccc2[nH]1</td>\n",
       "      <td>1</td>\n",
       "      <td>0</td>\n",
       "      <td>1</td>\n",
       "      <td>...</td>\n",
       "      <td>0</td>\n",
       "      <td>0</td>\n",
       "      <td>0</td>\n",
       "      <td>0</td>\n",
       "      <td>0</td>\n",
       "      <td>0</td>\n",
       "      <td>0</td>\n",
       "      <td>0</td>\n",
       "      <td>0</td>\n",
       "      <td>0</td>\n",
       "    </tr>\n",
       "    <tr>\n",
       "      <th>1</th>\n",
       "      <td>226.351</td>\n",
       "      <td>3.30451</td>\n",
       "      <td>0</td>\n",
       "      <td>5</td>\n",
       "      <td>active</td>\n",
       "      <td>210.0</td>\n",
       "      <td>Cc1c(-c2cnccn2)ssc1=S</td>\n",
       "      <td>0</td>\n",
       "      <td>0</td>\n",
       "      <td>0</td>\n",
       "      <td>...</td>\n",
       "      <td>0</td>\n",
       "      <td>0</td>\n",
       "      <td>0</td>\n",
       "      <td>0</td>\n",
       "      <td>0</td>\n",
       "      <td>0</td>\n",
       "      <td>0</td>\n",
       "      <td>0</td>\n",
       "      <td>0</td>\n",
       "      <td>0</td>\n",
       "    </tr>\n",
       "    <tr>\n",
       "      <th>2</th>\n",
       "      <td>334.400</td>\n",
       "      <td>3.26220</td>\n",
       "      <td>0</td>\n",
       "      <td>5</td>\n",
       "      <td>active</td>\n",
       "      <td>80.0</td>\n",
       "      <td>O=c1sn(-c2cccc3ccccc23)c(=O)n1Cc1ccccc1</td>\n",
       "      <td>1</td>\n",
       "      <td>0</td>\n",
       "      <td>1</td>\n",
       "      <td>...</td>\n",
       "      <td>0</td>\n",
       "      <td>0</td>\n",
       "      <td>0</td>\n",
       "      <td>0</td>\n",
       "      <td>1</td>\n",
       "      <td>0</td>\n",
       "      <td>1</td>\n",
       "      <td>0</td>\n",
       "      <td>1</td>\n",
       "      <td>0</td>\n",
       "    </tr>\n",
       "    <tr>\n",
       "      <th>3</th>\n",
       "      <td>458.375</td>\n",
       "      <td>2.23320</td>\n",
       "      <td>8</td>\n",
       "      <td>11</td>\n",
       "      <td>intermediate</td>\n",
       "      <td>1580.0</td>\n",
       "      <td>O=C(O[C@@H]1Cc2c(O)cc(O)cc2O[C@@H]1c1cc(O)c(O)...</td>\n",
       "      <td>1</td>\n",
       "      <td>1</td>\n",
       "      <td>1</td>\n",
       "      <td>...</td>\n",
       "      <td>0</td>\n",
       "      <td>1</td>\n",
       "      <td>0</td>\n",
       "      <td>1</td>\n",
       "      <td>0</td>\n",
       "      <td>1</td>\n",
       "      <td>0</td>\n",
       "      <td>1</td>\n",
       "      <td>0</td>\n",
       "      <td>1</td>\n",
       "    </tr>\n",
       "    <tr>\n",
       "      <th>4</th>\n",
       "      <td>237.052</td>\n",
       "      <td>2.22770</td>\n",
       "      <td>0</td>\n",
       "      <td>2</td>\n",
       "      <td>active</td>\n",
       "      <td>40.0</td>\n",
       "      <td>O=C1C=Cc2cc(Br)ccc2C1=O</td>\n",
       "      <td>0</td>\n",
       "      <td>0</td>\n",
       "      <td>0</td>\n",
       "      <td>...</td>\n",
       "      <td>0</td>\n",
       "      <td>0</td>\n",
       "      <td>0</td>\n",
       "      <td>0</td>\n",
       "      <td>0</td>\n",
       "      <td>0</td>\n",
       "      <td>1</td>\n",
       "      <td>0</td>\n",
       "      <td>0</td>\n",
       "      <td>0</td>\n",
       "    </tr>\n",
       "  </tbody>\n",
       "</table>\n",
       "<p>5 rows × 299 columns</p>\n",
       "</div>"
      ],
      "text/plain": [
       "     molwt     logP  numHDonors  numHAcceptors bioactivity_class  \\\n",
       "0  369.368  3.51522           1              4            active   \n",
       "1  226.351  3.30451           0              5            active   \n",
       "2  334.400  3.26220           0              5            active   \n",
       "3  458.375  2.23320           8             11      intermediate   \n",
       "4  237.052  2.22770           0              2            active   \n",
       "\n",
       "   standard_value                                   canonical_smiles  \\\n",
       "0           390.0   Cc1c(OCC(F)(F)F)ccnc1C[S+]([O-])c1nc2ccccc2[nH]1   \n",
       "1           210.0                              Cc1c(-c2cnccn2)ssc1=S   \n",
       "2            80.0            O=c1sn(-c2cccc3ccccc23)c(=O)n1Cc1ccccc1   \n",
       "3          1580.0  O=C(O[C@@H]1Cc2c(O)cc(O)cc2O[C@@H]1c1cc(O)c(O)...   \n",
       "4            40.0                            O=C1C=Cc2cc(Br)ccc2C1=O   \n",
       "\n",
       "   PubchemFP1  PubchemFP2  PubchemFP12  ...  PubchemFP776  PubchemFP777  \\\n",
       "0           1           0            1  ...             0             0   \n",
       "1           0           0            0  ...             0             0   \n",
       "2           1           0            1  ...             0             0   \n",
       "3           1           1            1  ...             0             1   \n",
       "4           0           0            0  ...             0             0   \n",
       "\n",
       "   PubchemFP797  PubchemFP798  PubchemFP800  PubchemFP803  PubchemFP818  \\\n",
       "0             0             0             0             0             0   \n",
       "1             0             0             0             0             0   \n",
       "2             0             0             1             0             1   \n",
       "3             0             1             0             1             0   \n",
       "4             0             0             0             0             1   \n",
       "\n",
       "   PubchemFP819  PubchemFP821  PubchemFP824  \n",
       "0             0             0             0  \n",
       "1             0             0             0  \n",
       "2             0             1             0  \n",
       "3             1             0             1  \n",
       "4             0             0             0  \n",
       "\n",
       "[5 rows x 299 columns]"
      ]
     },
     "execution_count": 39,
     "metadata": {},
     "output_type": "execute_result"
    }
   ],
   "source": [
    "df.head()"
   ]
  },
  {
   "cell_type": "code",
   "execution_count": 165,
   "id": "9901adf7",
   "metadata": {},
   "outputs": [],
   "source": [
    "def train_model(X, y, trees):\n",
    "    np.random.seed(42)\n",
    "    X_train, X_test, y_train, y_test = train_test_split(X, y, test_size=0.2)\n",
    "    model = RandomForestClassifier(n_estimators=trees)\n",
    "    model.fit(X_train, y_train)   \n",
    "    score = model.score(X_test, y_test)\n",
    "    return score, X_test, y_test, model"
   ]
  },
  {
   "cell_type": "code",
   "execution_count": 166,
   "id": "5c8b9306",
   "metadata": {},
   "outputs": [],
   "source": [
    "non_features = ['standard_value','bioactivity_class', 'canonical_smiles']"
   ]
  },
  {
   "cell_type": "code",
   "execution_count": 167,
   "id": "2b2dddef",
   "metadata": {},
   "outputs": [
    {
     "name": "stdout",
     "output_type": "stream",
     "text": [
      "Training X shape (104, 296)\n",
      "Training y shape (104,)\n"
     ]
    }
   ],
   "source": [
    "X, y = df.drop(non_features, axis=1), df['bioactivity_class']\n",
    "print(f'Training X shape {X.shape}')\n",
    "print(f'Training y shape {y.shape}')"
   ]
  },
  {
   "cell_type": "code",
   "execution_count": 168,
   "id": "6c662f77",
   "metadata": {},
   "outputs": [
    {
     "name": "stdout",
     "output_type": "stream",
     "text": [
      "Training score: 0.5238095238095238\n"
     ]
    }
   ],
   "source": [
    "score, X_test, y_test, model = train_model(X, y, 1000)\n",
    "print(f'Training score: {score}')"
   ]
  },
  {
   "cell_type": "code",
   "execution_count": 169,
   "id": "4898a54d",
   "metadata": {},
   "outputs": [],
   "source": [
    "y_pred = model.predict(X_test)"
   ]
  },
  {
   "cell_type": "code",
   "execution_count": 170,
   "id": "f017a55c",
   "metadata": {},
   "outputs": [
    {
     "name": "stdout",
     "output_type": "stream",
     "text": [
      "              precision    recall  f1-score   support\n",
      "\n",
      "      active       0.67      0.67      0.67        15\n",
      "intermediate       0.17      0.17      0.17         6\n",
      "\n",
      "    accuracy                           0.52        21\n",
      "   macro avg       0.42      0.42      0.42        21\n",
      "weighted avg       0.52      0.52      0.52        21\n",
      "\n"
     ]
    }
   ],
   "source": [
    "eval_df = pd.DataFrame({'y_true': y_test, 'y_pred': y_pred})\n",
    "print(classification_report(y_true=eval_df['y_true'], y_pred=eval_df['y_pred']))"
   ]
  },
  {
   "cell_type": "code",
   "execution_count": 51,
   "id": "a582b015",
   "metadata": {},
   "outputs": [
    {
     "name": "stdout",
     "output_type": "stream",
     "text": [
      "Training X shape (104, 293)\n",
      "Training y shape (104,)\n"
     ]
    }
   ],
   "source": [
    "insignificant_cols = ['numHAcceptors', 'logP', 'molwt']\n",
    "X, y = df.drop(non_features + insignificant_cols, axis=1), df['bioactivity_class']\n",
    "print(f'Training X shape {X.shape}')\n",
    "print(f'Training y shape {y.shape}')"
   ]
  },
  {
   "cell_type": "code",
   "execution_count": 52,
   "id": "a80e5bf2",
   "metadata": {},
   "outputs": [
    {
     "name": "stdout",
     "output_type": "stream",
     "text": [
      "Training score: 0.5238095238095238\n"
     ]
    }
   ],
   "source": [
    "score, X_test, y_test, model = train_model(X, y, 500)\n",
    "print(f'Training score: {score}')"
   ]
  },
  {
   "cell_type": "code",
   "execution_count": 53,
   "id": "60c23966",
   "metadata": {},
   "outputs": [],
   "source": [
    "y_pred = model.predict(X_test)"
   ]
  },
  {
   "cell_type": "code",
   "execution_count": 54,
   "id": "6090e67c",
   "metadata": {},
   "outputs": [
    {
     "name": "stdout",
     "output_type": "stream",
     "text": [
      "              precision    recall  f1-score   support\n",
      "\n",
      "      active       0.69      0.60      0.64        15\n",
      "intermediate       0.25      0.33      0.29         6\n",
      "\n",
      "    accuracy                           0.52        21\n",
      "   macro avg       0.47      0.47      0.46        21\n",
      "weighted avg       0.57      0.52      0.54        21\n",
      "\n"
     ]
    }
   ],
   "source": [
    "eval_df = pd.DataFrame({'y_true': y_test, 'y_pred': y_pred})\n",
    "print(classification_report(y_true=eval_df['y_true'], y_pred=eval_df['y_pred']))"
   ]
  },
  {
   "cell_type": "code",
   "execution_count": 71,
   "id": "84da8311",
   "metadata": {},
   "outputs": [],
   "source": [
    "import torch\n",
    "import torch.nn as nn\n",
    "import torch.optim as optim\n",
    "import torch.nn.functional as F"
   ]
  },
  {
   "cell_type": "code",
   "execution_count": 112,
   "id": "b378de1e",
   "metadata": {},
   "outputs": [],
   "source": [
    "df[lipinski_descriptors] = df[lipinski_descriptors].apply(lambda x: (x - np.min(x)) / (np.max(x) - np.min(x)))"
   ]
  },
  {
   "cell_type": "code",
   "execution_count": 134,
   "id": "9bcee3ea",
   "metadata": {},
   "outputs": [],
   "source": [
    "X = torch.Tensor(df.drop(non_features, axis=1).values)\n",
    "nfeatures = X.shape[1]\n",
    "y = pd.get_dummies(df['bioactivity_class'])\n",
    "y = torch.Tensor(y.values)\n",
    "\n",
    "X_train, X_val, y_train, y_val = train_test_split(X, y, test_size=0.15)"
   ]
  },
  {
   "cell_type": "code",
   "execution_count": 140,
   "id": "4df42153",
   "metadata": {},
   "outputs": [
    {
     "data": {
      "text/plain": [
       "torch.Size([16, 2])"
      ]
     },
     "execution_count": 140,
     "metadata": {},
     "output_type": "execute_result"
    }
   ],
   "source": [
    "y_val.shape"
   ]
  },
  {
   "cell_type": "code",
   "execution_count": 144,
   "id": "8107dc99",
   "metadata": {},
   "outputs": [
    {
     "data": {
      "text/plain": [
       "Sequential(\n",
       "  (0): Linear(in_features=296, out_features=32, bias=True)\n",
       "  (1): ReLU(inplace=True)\n",
       "  (2): Linear(in_features=32, out_features=16, bias=True)\n",
       "  (3): ReLU(inplace=True)\n",
       "  (4): Linear(in_features=16, out_features=2, bias=True)\n",
       "  (5): Sigmoid()\n",
       ")"
      ]
     },
     "execution_count": 144,
     "metadata": {},
     "output_type": "execute_result"
    }
   ],
   "source": [
    "def build_model(nfeatures, device='cpu'):\n",
    "    dense = 32\n",
    "\n",
    "    model = nn.Sequential(\n",
    "        nn.Linear(nfeatures, dense),\n",
    "        nn.ReLU(inplace=True),\n",
    "        nn.Linear(dense, dense//2),\n",
    "        nn.ReLU(inplace=True),\n",
    "        nn.Linear(dense//2, 2),\n",
    "        nn.Sigmoid()\n",
    "        ).to(device)\n",
    "    \n",
    "    return model\n",
    "\n",
    "model = build_model(nfeatures)\n",
    "model"
   ]
  },
  {
   "cell_type": "code",
   "execution_count": 162,
   "id": "744cbfd3",
   "metadata": {},
   "outputs": [],
   "source": [
    "def torch_model(model, criterion, optimizer, num_epochs=3, device='cpu'):\n",
    "\n",
    "    for epoch in range(num_epochs):\n",
    "        print('Epoch {}/{}'.format(epoch+1, num_epochs))\n",
    "        print('-' * 10)\n",
    "\n",
    "        running_loss = 0.0\n",
    "        running_corrects = 0\n",
    "\n",
    "        for inputs, labels in zip(X_train, y_train):\n",
    "            inputs = inputs.to(device)\n",
    "            labels = labels.to(device)\n",
    "            \n",
    "            outputs = model(inputs)\n",
    "            loss = criterion(outputs, labels)\n",
    "\n",
    "            optimizer.zero_grad()\n",
    "            loss.backward()\n",
    "            optimizer.step()\n",
    "            \n",
    "        for inputs, labels in zip(X_val, y_val):\n",
    "            inputs = inputs.to(device)\n",
    "            labels = labels.to(device)\n",
    "\n",
    "            outputs = model(inputs)\n",
    "            loss = criterion(outputs, labels)\n",
    "            pred = torch.argmax(outputs)\n",
    "        \n",
    "            running_loss += loss.item() * inputs.size(0)\n",
    "            running_corrects += (pred == torch.argmax(labels))\n",
    "\n",
    "        epoch_loss = running_loss / len(X_val)\n",
    "        epoch_acc = running_corrects.double() / len(X_val)\n",
    "\n",
    "        print('Epoch: {} loss: {:.4f}, acc: {:.4f}'.format(epoch, epoch_loss, epoch_acc))\n",
    "    return model"
   ]
  },
  {
   "cell_type": "code",
   "execution_count": 163,
   "id": "e71fff12",
   "metadata": {},
   "outputs": [
    {
     "name": "stdout",
     "output_type": "stream",
     "text": [
      "Epoch 1/50\n",
      "----------\n",
      "Epoch: 0 loss: 635.2976, acc: 0.5625\n",
      "Epoch 2/50\n",
      "----------\n",
      "Epoch: 1 loss: 663.2454, acc: 0.5625\n",
      "Epoch 3/50\n",
      "----------\n",
      "Epoch: 2 loss: 647.4379, acc: 0.5625\n",
      "Epoch 4/50\n",
      "----------\n",
      "Epoch: 3 loss: 652.7914, acc: 0.5625\n",
      "Epoch 5/50\n",
      "----------\n",
      "Epoch: 4 loss: 658.7648, acc: 0.5625\n",
      "Epoch 6/50\n",
      "----------\n",
      "Epoch: 5 loss: 681.4570, acc: 0.5625\n",
      "Epoch 7/50\n",
      "----------\n",
      "Epoch: 6 loss: 1462.4322, acc: 0.5625\n",
      "Epoch 8/50\n",
      "----------\n",
      "Epoch: 7 loss: 658.0520, acc: 0.5625\n",
      "Epoch 9/50\n",
      "----------\n",
      "Epoch: 8 loss: 691.6519, acc: 0.5625\n",
      "Epoch 10/50\n",
      "----------\n",
      "Epoch: 9 loss: 650.4499, acc: 0.5000\n",
      "Epoch 11/50\n",
      "----------\n",
      "Epoch: 10 loss: 657.0429, acc: 0.5000\n",
      "Epoch 12/50\n",
      "----------\n",
      "Epoch: 11 loss: 1453.1509, acc: 0.5000\n",
      "Epoch 13/50\n",
      "----------\n",
      "Epoch: 12 loss: 1469.5395, acc: 0.5625\n",
      "Epoch 14/50\n",
      "----------\n",
      "Epoch: 13 loss: 1480.2909, acc: 0.5625\n",
      "Epoch 15/50\n",
      "----------\n",
      "Epoch: 14 loss: 1492.9968, acc: 0.5625\n",
      "Epoch 16/50\n",
      "----------\n",
      "Epoch: 15 loss: 1498.7855, acc: 0.5000\n",
      "Epoch 17/50\n",
      "----------\n",
      "Epoch: 16 loss: 1519.7517, acc: 0.5000\n",
      "Epoch 18/50\n",
      "----------\n",
      "Epoch: 17 loss: 1527.2460, acc: 0.5000\n",
      "Epoch 19/50\n",
      "----------\n",
      "Epoch: 18 loss: 1525.1408, acc: 0.5000\n",
      "Epoch 20/50\n",
      "----------\n",
      "Epoch: 19 loss: 1532.9584, acc: 0.5625\n",
      "Epoch 21/50\n",
      "----------\n",
      "Epoch: 20 loss: 1514.4528, acc: 0.5625\n",
      "Epoch 22/50\n",
      "----------\n",
      "Epoch: 21 loss: 1522.6337, acc: 0.5625\n",
      "Epoch 23/50\n",
      "----------\n",
      "Epoch: 22 loss: 1526.3275, acc: 0.5625\n",
      "Epoch 24/50\n",
      "----------\n",
      "Epoch: 23 loss: 1521.1605, acc: 0.5000\n",
      "Epoch 25/50\n",
      "----------\n",
      "Epoch: 24 loss: 1530.6089, acc: 0.5625\n",
      "Epoch 26/50\n",
      "----------\n",
      "Epoch: 25 loss: 1545.9663, acc: 0.5625\n",
      "Epoch 27/50\n",
      "----------\n",
      "Epoch: 26 loss: 1547.2604, acc: 0.5000\n",
      "Epoch 28/50\n",
      "----------\n",
      "Epoch: 27 loss: 1545.6268, acc: 0.5000\n",
      "Epoch 29/50\n",
      "----------\n",
      "Epoch: 28 loss: 1548.3075, acc: 0.5000\n",
      "Epoch 30/50\n",
      "----------\n",
      "Epoch: 29 loss: 1536.9853, acc: 0.5000\n",
      "Epoch 31/50\n",
      "----------\n",
      "Epoch: 30 loss: 1550.5007, acc: 0.5000\n",
      "Epoch 32/50\n",
      "----------\n",
      "Epoch: 31 loss: 1563.2408, acc: 0.5000\n",
      "Epoch 33/50\n",
      "----------\n",
      "Epoch: 32 loss: 1559.7170, acc: 0.5000\n",
      "Epoch 34/50\n",
      "----------\n",
      "Epoch: 33 loss: 1532.8507, acc: 0.5625\n",
      "Epoch 35/50\n",
      "----------\n",
      "Epoch: 34 loss: 1543.4288, acc: 0.5000\n",
      "Epoch 36/50\n",
      "----------\n",
      "Epoch: 35 loss: 1559.2325, acc: 0.5000\n",
      "Epoch 37/50\n",
      "----------\n",
      "Epoch: 36 loss: 1516.1327, acc: 0.5000\n",
      "Epoch 38/50\n",
      "----------\n",
      "Epoch: 37 loss: 1541.6872, acc: 0.5625\n",
      "Epoch 39/50\n",
      "----------\n",
      "Epoch: 38 loss: 1547.2140, acc: 0.5625\n",
      "Epoch 40/50\n",
      "----------\n",
      "Epoch: 39 loss: 1563.9856, acc: 0.5625\n",
      "Epoch 41/50\n",
      "----------\n",
      "Epoch: 40 loss: 1562.7542, acc: 0.5625\n",
      "Epoch 42/50\n",
      "----------\n",
      "Epoch: 41 loss: 1564.1597, acc: 0.5625\n",
      "Epoch 43/50\n",
      "----------\n",
      "Epoch: 42 loss: 1574.9132, acc: 0.5625\n",
      "Epoch 44/50\n",
      "----------\n",
      "Epoch: 43 loss: 1578.1881, acc: 0.5625\n",
      "Epoch 45/50\n",
      "----------\n",
      "Epoch: 44 loss: 1582.6948, acc: 0.5625\n",
      "Epoch 46/50\n",
      "----------\n",
      "Epoch: 45 loss: 1589.7124, acc: 0.5625\n",
      "Epoch 47/50\n",
      "----------\n",
      "Epoch: 46 loss: 1592.7140, acc: 0.5625\n",
      "Epoch 48/50\n",
      "----------\n",
      "Epoch: 47 loss: 1602.0390, acc: 0.5625\n",
      "Epoch 49/50\n",
      "----------\n",
      "Epoch: 48 loss: 1604.5203, acc: 0.5625\n",
      "Epoch 50/50\n",
      "----------\n",
      "Epoch: 49 loss: 1609.6037, acc: 0.5625\n"
     ]
    }
   ],
   "source": [
    "#criterion = nn.BCEWithLogitsLoss()\n",
    "criterion = nn.BCELoss()\n",
    "optimizer = optim.Adam(model.parameters())\n",
    "model_trained = torch_model(model, criterion, optimizer, num_epochs=50)"
   ]
  },
  {
   "cell_type": "code",
   "execution_count": null,
   "id": "086deba4",
   "metadata": {},
   "outputs": [],
   "source": []
  }
 ],
 "metadata": {
  "kernelspec": {
   "display_name": "Python 3 (ipykernel)",
   "language": "python",
   "name": "python3"
  },
  "language_info": {
   "codemirror_mode": {
    "name": "ipython",
    "version": 3
   },
   "file_extension": ".py",
   "mimetype": "text/x-python",
   "name": "python",
   "nbconvert_exporter": "python",
   "pygments_lexer": "ipython3",
   "version": "3.7.10"
  }
 },
 "nbformat": 4,
 "nbformat_minor": 5
}
